{
 "cells": [
  {
   "cell_type": "code",
   "execution_count": 3,
   "metadata": {},
   "outputs": [],
   "source": [
    "# Imports\n",
    "\n",
    "import regex as re\n",
    "import nltk\n",
    "from urllib import request\n",
    "from bs4 import BeautifulSoup\n",
    "from nltk import word_tokenize\n",
    "import math\n",
    "from nltk.corpus import brown as br\n",
    "import itertools\n",
    "from itertools import tee\n",
    "import random\n",
    "from nltk.corpus import wordnet as wn\n",
    "from nltk.corpus import udhr\n",
    "from nltk.metrics import spearman"
   ]
  },
  {
   "cell_type": "markdown",
   "metadata": {},
   "source": [
    "☼ Define a string s = 'colorless'. Write a Python statement that changes this to \"colourless\" using only the slice and concatenation operations."
   ]
  },
  {
   "cell_type": "code",
   "execution_count": 2,
   "metadata": {},
   "outputs": [
    {
     "name": "stdout",
     "output_type": "stream",
     "text": [
      "colourless\n"
     ]
    }
   ],
   "source": [
    "s = \"colorless\"\n",
    "n_s = s[:4]+\"u\"+s[4:]\n",
    "print(n_s)"
   ]
  },
  {
   "cell_type": "markdown",
   "metadata": {},
   "source": [
    "\n",
    "☼ We can use the slice notation to remove morphological endings on words. For example, 'dogs'[:-1] removes the last character of dogs, leaving dog. Use slice notation to remove the affixes from these words (we've inserted a hyphen to indicate the affix boundary, but omit this from your strings): dish-es, run-ning, nation-ality, un-do, pre-heat."
   ]
  },
  {
   "cell_type": "code",
   "execution_count": 3,
   "metadata": {},
   "outputs": [
    {
     "name": "stdout",
     "output_type": "stream",
     "text": [
      "String: dishes - without affix: dish\n",
      "String: running - without affix: run\n",
      "String: nationality - without affix: nation\n",
      "String: undo - without affix: un\n",
      "String: preheat - without affix: pre\n"
     ]
    }
   ],
   "source": [
    "strings = [\"dishes\", \"running\", \"nationality\", \"undo\", \"preheat\"]\n",
    "\n",
    "def rem_affix(str: s) -> str:\n",
    "    if s.endswith(\"es\"):\n",
    "        return s[:-2]\n",
    "    elif s.endswith(\"ing\"):\n",
    "        return s[:-4]\n",
    "    elif s.endswith(\"ality\"):\n",
    "        return s[:-5]\n",
    "    elif s.endswith(\"do\"):\n",
    "        return s[:-2]\n",
    "    elif s.endswith(\"heat\"):\n",
    "        return s[:-4]\n",
    "        \n",
    "for s in strings:\n",
    "    print(f\"String: {s} - without affix: {rem_affix(s)}\")\n",
    "    "
   ]
  },
  {
   "cell_type": "markdown",
   "metadata": {},
   "source": [
    "☼ We saw how we can generate an IndexError by indexing beyond the end of a string. Is it possible to construct an index that goes too far to the left, before the start of the string?"
   ]
  },
  {
   "cell_type": "code",
   "execution_count": 4,
   "metadata": {},
   "outputs": [
    {
     "name": "stdout",
     "output_type": "stream",
     "text": [
      "t\n",
      "a\n",
      "e\n",
      "h\n",
      "e\n",
      "r\n",
      "p\n"
     ]
    },
    {
     "ename": "IndexError",
     "evalue": "string index out of range",
     "output_type": "error",
     "traceback": [
      "\u001b[0;31m---------------------------------------------------------------------------\u001b[0m",
      "\u001b[0;31mIndexError\u001b[0m                                Traceback (most recent call last)",
      "\u001b[0;32m/tmp/ipykernel_10693/687413715.py\u001b[0m in \u001b[0;36m<module>\u001b[0;34m\u001b[0m\n\u001b[1;32m      1\u001b[0m \u001b[0;31m# string \"preheat\"\u001b[0m\u001b[0;34m\u001b[0m\u001b[0;34m\u001b[0m\u001b[0m\n\u001b[1;32m      2\u001b[0m \u001b[0;32mfor\u001b[0m \u001b[0mchar\u001b[0m \u001b[0;32min\u001b[0m \u001b[0mrange\u001b[0m\u001b[0;34m(\u001b[0m\u001b[0mlen\u001b[0m\u001b[0;34m(\u001b[0m\u001b[0ms\u001b[0m\u001b[0;34m)\u001b[0m\u001b[0;34m+\u001b[0m\u001b[0;36m1\u001b[0m\u001b[0;34m)\u001b[0m\u001b[0;34m:\u001b[0m\u001b[0;34m\u001b[0m\u001b[0;34m\u001b[0m\u001b[0m\n\u001b[0;32m----> 3\u001b[0;31m     \u001b[0mprint\u001b[0m\u001b[0;34m(\u001b[0m\u001b[0ms\u001b[0m\u001b[0;34m[\u001b[0m\u001b[0;34m:\u001b[0m\u001b[0;34m:\u001b[0m\u001b[0;34m-\u001b[0m\u001b[0;36m1\u001b[0m\u001b[0;34m]\u001b[0m\u001b[0;34m[\u001b[0m\u001b[0mchar\u001b[0m\u001b[0;34m]\u001b[0m\u001b[0;34m)\u001b[0m\u001b[0;34m\u001b[0m\u001b[0;34m\u001b[0m\u001b[0m\n\u001b[0m",
      "\u001b[0;31mIndexError\u001b[0m: string index out of range"
     ]
    }
   ],
   "source": [
    "# string \"preheat\"\n",
    "for char in range(len(s)+1):\n",
    "    print(s[::-1][char])"
   ]
  },
  {
   "cell_type": "markdown",
   "metadata": {},
   "source": [
    "☼ Describe the class of strings matched by the following regular expressions.\n",
    "1. [a-zA-Z]+ # Minimun one lower- or uppercased char from the alphabet\n",
    "2. [A-Z][a-z]* # One uppercase char (followed by lowercase chars) \n",
    "3. p[aeiu]{,2}to # word beginning with char followed by one to max 2 from group ending with two: paato \n",
    "4. \\d+(\\.\\d+)? # Min one decimal (followed by dot and other decimal(s))\n",
    "5. ([^aeiou][aeiou][^aeiou])* non-vocale - vocale - nonvocale eg. markup\n",
    "6. \\w+|[^\\w\\s]+  Word or non-word/whitespace\n",
    "Test your answers using nltk.re_show()."
   ]
  },
  {
   "cell_type": "code",
   "execution_count": 5,
   "metadata": {},
   "outputs": [
    {
     "name": "stdout",
     "output_type": "stream",
     "text": [
      "{☼}{1}{.}{3} {Write} {a} {utility} {function} {that} {takes} {a} {URL} {as} {its} {argument}{,} {and} {returns} {the} {contents} {of} {the} {URL}{,} {with} {all} {HTML} {markup} {removed}{.} {Use} {from} {urllib} {import} {request} {and} {then} {request}{.}{urlopen}{('}{http}{://}{nltk}{.}{org}{/').}{read}{().}{decode}{('}{utf8}{')} {to} {access} {the} {contents} {of} {the} {URL}{.}\n"
     ]
    }
   ],
   "source": [
    "text = \"☼1.3 Write a utility function that takes a URL as its argument, and returns the contents of the URL, with all HTML markup removed. Use from urllib import request and then request.urlopen('http://nltk.org/').read().decode('utf8') to access the contents of the URL.\"\n",
    "nltk.re_show(\"\\w+|[^\\w\\s]+\", text)"
   ]
  },
  {
   "cell_type": "markdown",
   "metadata": {},
   "source": [
    "☼ Write regular expressions to match the following classes of strings:\n",
    "A single determiner (assume that a, an, and the are the only determiners).\n",
    "An arithmetic expression using integers, addition, and multiplication, such as 2*3+8.\n"
   ]
  },
  {
   "cell_type": "code",
   "execution_count": 6,
   "metadata": {},
   "outputs": [],
   "source": [
    "p1 = \"^(?:(?!a|an|are).)*\\s(a|an|are)\\s\" \n",
    "p2 = r\"\\d([\\*\\+\\/\\-]\\d)+\"\n",
    "calc = \"2*3+8/4-4\""
   ]
  },
  {
   "cell_type": "code",
   "execution_count": 7,
   "metadata": {},
   "outputs": [
    {
     "name": "stdout",
     "output_type": "stream",
     "text": [
      "{2*3+8/4-4}\n"
     ]
    }
   ],
   "source": [
    "nltk.re_show(p2, calc)"
   ]
  },
  {
   "cell_type": "markdown",
   "metadata": {},
   "source": [
    "☼ Write a utility function that takes a URL as its argument, and returns the contents of the URL, with all HTML markup removed. Use from urllib import request and then request.urlopen('http://nltk.org/').read().decode('utf8') to access the contents of the URL."
   ]
  },
  {
   "cell_type": "code",
   "execution_count": 8,
   "metadata": {},
   "outputs": [
    {
     "data": {
      "text/plain": [
       "'<!DOCTYPE html>\\n<html lang=\"de\" id=\"facebook\" class=\"no_js\">\\n<head><meta charset=\"utf-8\" /><meta name=\"referrer\" content=\"default\" id=\"meta_referrer\" /><script nonce=\"lnCtRjZW\">function envFlush(a){function b(b){for(var c in a)b[c]=a[c]}window.requireLazy?window.requireLazy([\"Env\"],b):(window.Env=window.Env||{},b(window.Env))}envFlush({\"ajaxpipe_token\":\"AXige8SdRvDfnWES9MI\",\"gk_instrument_object_url\":true,\"stack_trace_limit\":30,\"timesliceBufferSize\":5000,\"show_invariant_decoder\":false,\"compat_iframe_token\":\"AQ6vmAiQR549oba-QDE\",\"isCQuick\":false});</script><script nonce=\"lnCtRjZW\">(function(a){function b(b){if(!window.openDatabase)return;b.I_AM_INCOGNITO_AND_I_REALLY_NEED_WEBSQL=function(a,b,c,d){return window.openDatabase(a,b,c,d)};window.openDatabase=function(){throw new Error()}}b(a)})(this);</script><style nonce=\"lnCtRjZW\"></style><script nonce=\"lnCtRjZW\">__DEV__=0;CavalryLogger=false;</script><noscript><meta http-equiv=\"refresh\" content=\"0; URL=/?_fb_noscript=1\" /></noscript><link rel=\"manifest\" id=\"MANIFEST_LINK\" href=\"/data/manifest/\" crossorigin=\"use-credentials\" /><title id=\"pageTitle\">Facebook – Anmelden oder Registrieren</title><meta property=\"og:site_name\" content=\"Facebook\" /><meta property=\"og:url\" content=\"https://www.facebook.com/\" /><meta property=\"og:image\" content=\"https://www.facebook.com/images/fb_icon_325x325.png\" /><meta property=\"og:locale\" content=\"de_DE\" /><meta property=\"og:locale:alternate\" content=\"www\" /><meta property=\"og:locale:alternate\" content=\"es_LA\" /><meta property=\"og:locale:alternate\" content=\"es_ES\" /><meta property=\"og:locale:alternate\" content=\"fr_FR\" /><meta property=\"og:locale:alternate\" content=\"it_IT\" /><meta property=\"og:locale:alternate\" content=\"id_ID\" /><meta property=\"og:locale:alternate\" content=\"th_TH\" /><meta property=\"og:locale:alternate\" content=\"vi_VN\" /><meta property=\"og:locale:alternate\" content=\"ko_KR\" /><meta property=\"og:locale:alternate\" content=\"ja_JP\" /><link rel=\"alternate\" media=\"only screen and (max-width: 640px)\" href=\"https://m.facebook.com/\" /><link rel=\"alternate\" media=\"handheld\" href=\"https://m.facebook.com/\" /><meta name=\"description\" content=\"Melde dich bei Facebook an, um dich mit deinen Freunden, deiner Familie und Personen, die du kennst, zu verbinden und Inhalte zu teilen.\" /><link rel=\"canonical\" href=\"https://www.facebook.com/\" /><link rel=\"shortcut icon\" href=\"https://static.xx.fbcdn.net/rsrc.php/yv/r/B8BxsscfVBr.ico\" /><link type=\"text/css\" rel=\"stylesheet\" href=\"https://static.xx.fbcdn.net/rsrc.php/v3/y6/l/0,cross/f1tj5yNIYnm.css?_nc_x=Ij3Wp8lg5Kz\" data-bootloader-hash=\"lCj3VmH\" />\\n<link type=\"text/css\" rel=\"stylesheet\" href=\"https://static.xx.fbcdn.net/rsrc.php/v3/yQ/l/0,cross/yMKEcDd0yly.css?_nc_x=Ij3Wp8lg5Kz\" data-bootloader-hash=\"pdabQy+\" />\\n<link type=\"text/css\" rel=\"stylesheet\" href=\"https://static.xx.fbcdn.net/rsrc.php/v3/yB/l/0,cross/PKjdhOwG2yu.css?_nc_x=Ij3Wp8lg5Kz\" data-bootloader-hash=\"KhbDqLm\" />\\n<link type=\"text/css\" rel=\"stylesheet\" href=\"https://static.xx.fbcdn.net/rsrc.php/v3/yB/l/0,cross/nxKGLHNWtQO.css?_nc_x=Ij3Wp8lg5Kz\" data-bootloader-hash=\"pxobxcF\" />\\n<link type=\"text/css\" rel=\"stylesheet\" href=\"https://static.xx.fbcdn.net/rsrc.php/v3/yM/l/0,cross/xwoGO_LhxOx.css?_nc_x=Ij3Wp8lg5Kz\" data-bootloader-hash=\"RGsrlBn\" />\\n<link type=\"text/css\" rel=\"stylesheet\" href=\"https://static.xx.fbcdn.net/rsrc.php/v3/yr/l/0,cross/u4xvA0Tw-4L.css?_nc_x=Ij3Wp8lg5Kz\" data-bootloader-hash=\"Yo2UzOh\" />\\n<script src=\"https://static.xx.fbcdn.net/rsrc.php/v3/yM/r/j44eek1-9YW.js?_nc_x=Ij3Wp8lg5Kz\" data-bootloader-hash=\"VgxzLjU\" nonce=\"lnCtRjZW\"></script>\\n<script nonce=\"lnCtRjZW\">requireLazy([\"HasteSupportData\"],function(m){m.handle({\"clpData\":{\"1814852\":{\"r\":1},\"1838142\":{\"r\":1,\"s\":1},\"1949898\":{\"r\":1},\"1848815\":{\"r\":10000,\"s\":1},\"1744178\":{\"r\":1,\"s\":1}},\"gkxData\":{\"676837\":{\"result\":false,\"hash\":\"AT4N8wBZA8ctCdHw3fE\"},\"708253\":{\"result\":false,\"hash\":\"AT5n4hBL3YTMnQWtDsk\"},\"996940\":{\"result\":false,\"hash\":\"AT7opYuEGy3sjG1ayBw\"},\"1224637\":{\"result\":false,\"hash\":\"AT7JRluWxuwDm3XzD-0\"},\"1263340\":{\"result\":false,\"hash\":\"AT5bwizWgDaFQudmmEw\"},\"676920\":{\"result\":true,\"hash\":\"AT497IX4gOFG8gZeOOU\"},\"1073500\":{\"result\":false,\"hash\":\"AT7aJmfnqWyioxOObnI\"},\"1167394\":{\"result\":false,\"hash\":\"AT7BpN-tlUPwbIIF5gU\"},\"1857581\":{\"result\":false,\"hash\":\"AT5yTxGMp6le0PAtHU8\"},\"2772\":{\"result\":false,\"hash\":\"AT5Eu244WIce7iwqb4w\"},\"3752\":{\"result\":false,\"hash\":\"AT6eS5UTkkMp_xbPci4\"},\"3831\":{\"result\":false,\"hash\":\"AT4W23lQ0XxAZniM3cM\"},\"4075\":{\"result\":false,\"hash\":\"AT4_ZQi0sTjSt-RxX9Q\"},\"8126\":{\"result\":false,\"hash\":\"AT4U7qG06p9sF6u8SRs\"},\"676838\":{\"result\":false,\"hash\":\"AT6nN1ehT9yq-2q6kso\"},\"1217157\":{\"result\":false,\"hash\":\"AT6B7YmllOsArnK6ErM\"},\"1554827\":{\"result\":false,\"hash\":\"AT7zueGLhGo0cT5x9NY\"},\"1738486\":{\"result\":false,\"hash\":\"AT4cX37oQco6DwhURLA\"}},\"qplData\":{\"7758\":{\"r\":1}}})});requireLazy([\"TimeSliceImpl\",\"ServerJS\"],function(TimeSlice,ServerJS){(new ServerJS()).handle({\"define\":[[\"URLFragmentPreludeConfig\",[],{\"hashtagRedirect\":true,\"fragBlacklist\":[\"nonce\",\"access_token\",\"oauth_token\",\"xs\",\"checkpoint_data\",\"code\"]},137],[\"CometPersistQueryParams\",[],{\"relative\":{},\"domain\":{}},6231],[\"CookieDomain\",[],{\"domain\":\"facebook.com\"},6421],[\"CurrentAdAccountInitialData\",[],{\"AD_ACCOUNT_ID\":null},6828],[\"BootloaderConfig\",[],{\"deferBootloads\":false,\"jsRetries\":[200,500],\"jsRetryAbortNum\":2,\"jsRetryAbortTime\":5,\"silentDups\":false,\"hypStep4\":false,\"phdOn\":false,\"btCutoffIndex\":2360,\"translationRetries\":[200,500],\"translationRetryAbortNum\":3,\"translationRetryAbortTime\":50},329],[\"CSSLoaderConfig\",[],{\"timeout\":5000,\"modulePrefix\":\"BLCSS:\"},619],[\"CookieCoreConfig\",[],{\"c_user\":{},\"cppo\":{\"t\":86400},\"dpr\":{\"t\":604800},\"fbl_ci\":{\"t\":31536000},\"fbl_cs\":{\"t\":31536000},\"fbl_st\":{\"t\":31536000},\"i_user\":{},\"locale\":{\"t\":604800},\"m_ls\":{\"t\":158284800},\"m_pixel_ratio\":{\"t\":604800},\"noscript\":{},\"presence\":{\"t\":2592000},\"sfau\":{},\"usida\":{},\"vpd\":{\"t\":5184000},\"wd\":{\"t\":604800},\"x-referer\":{},\"x-src\":{\"t\":1}},2104],[\"CurrentCommunityInitialData\",[],{},490],[\"CurrentEnvironment\",[],{\"facebookdotcom\":true,\"messengerdotcom\":false,\"workplacedotcom\":false,\"instagramdotcom\":false},827],[\"CurrentUserInitialData\",[],{\"ACCOUNT_ID\":\"0\",\"USER_ID\":\"0\",\"NAME\":\"\",\"SHORT_NAME\":null,\"IS_BUSINESS_PERSON_ACCOUNT\":false,\"HAS_SECONDARY_BUSINESS_PERSON\":false,\"IS_FACEBOOK_WORK_ACCOUNT\":false,\"IS_MESSENGER_ONLY_USER\":false,\"IS_DEACTIVATED_ALLOWED_ON_MESSENGER\":false,\"IS_MESSENGER_CALL_GUEST_USER\":false,\"IS_WORK_MESSENGER_CALL_GUEST_USER\":false,\"IS_WORKROOMS_USER\":false,\"APP_ID\":\"256281040558\",\"IS_BUSINESS_DOMAIN\":false},270],[\"DTSGInitialData\",[],{},258],[\"ISB\",[],{},330],[\"LSD\",[],{\"token\":\"AVoIgAZAyGQ\"},323],[\"ServerNonce\",[],{\"ServerNonce\":\"M5n-KH4D5g2jDgm6sPDCXF\"},141],[\"SiteData\",[],{\"server_revision\":1006538132,\"client_revision\":1006538132,\"tier\":\"\",\"push_phase\":\"C3e\",\"pkg_cohort\":\"BP:DEFAULT\",\"haste_session\":\"19299.BP:DEFAULT.2.0.0.0.0\",\"pr\":1,\"haste_site\":\"www\",\"manifest_base_uri\":\"https:\\\\/\\\\/static.xx.fbcdn.net\",\"manifest_origin\":null,\"be_one_ahead\":false,\"is_rtl\":false,\"is_comet\":false,\"is_experimental_tier\":false,\"is_jit_warmed_up\":true,\"hsi\":\"7161914128243142493\",\"semr_host_bucket\":\"5\",\"bl_hash_version\":2,\"skip_rd_bl\":true,\"comet_env\":0,\"wbloks_env\":false,\"spin\":4,\"__spin_r\":1006538132,\"__spin_b\":\"trunk\",\"__spin_t\":1667513076,\"vip\":\"2a03:2880:f12d:83:face:b00c:0:25de\"},317],[\"SprinkleConfig\",[],{\"param_name\":\"jazoest\",\"version\":2,\"should_randomize\":false},2111],[\"UserAgentData\",[],{\"browserArchitecture\":\"32\",\"browserFullVersion\":null,\"browserMinorVersion\":null,\"browserName\":\"Unknown\",\"browserVersion\":null,\"deviceName\":\"Unknown\",\"engineName\":\"Unknown\",\"engineVersion\":null,\"platformArchitecture\":\"32\",\"platformName\":\"Unknown\",\"platformVersion\":null,\"platformFullVersion\":null},527],[\"PromiseUsePolyfillSetImmediateGK\",[],{\"www_always_use_polyfill_setimmediate\":false},2190],[\"KSConfig\",[],{\"killed\":{\"__set\":[\"MLHUB_FLOW_AUTOREFRESH_SEARCH\",\"NEKO_DISABLE_CREATE_FOR_SAP\",\"EO_DISABLE_SYSTEM_SERIAL_NUMBER_FREE_TYPING_IN_CPE_NON_CLIENT\",\"MOBILITY_KILL_OLD_VISIBILITY_POSITION_SETTING\",\"WORKPLACE_DISPLAY_TEXT_EVIDENCE_REPORTING\",\"BUSINESS_INVITE_FLOW_WITH_SELLER_PROFILE\",\"BUY_AT_UI_LINE_DELETE\",\"BUSINESS_GRAPH_SETTING_APP_ASSIGNED_USERS_NEW_API\",\"BUSINESS_GRAPH_SETTING_BU_ASSIGNED_USERS_NEW_API\",\"BUSINESS_GRAPH_SETTING_ESG_ASSIGNED_USERS_NEW_API\",\"BUSINESS_GRAPH_SETTING_PRODUCT_CATALOG_ASSIGNED_USERS_NEW_API\",\"BUSINESS_GRAPH_SETTING_SESG_ASSIGNED_USERS_NEW_API\",\"BUSINESS_GRAPH_SETTING_WABA_ASSIGNED_USERS_NEW_API\",\"ADS_PLACEMENT_FIX_PUBLISHER_PLATFORMS_MUTATION\",\"FORCE_FETCH_BOOSTED_COMPONENT_AFTER_ADS_CREATION\",\"VIDEO_DIMENSIONS_FROM_PLAYER_IN_UPLOAD_DIALOG\",\"SNIVY_GROUP_BY_EVENT_TRACE_ID_AND_NAME\",\"ADS_STORE_VISITS_METRICS_DEPRECATION\",\"AD_DRAFT_ENABLE_SYNCRHONOUS_FRAGMENT_VALIDATION\",\"SEPARATE_MESSAGING_COMACTIVITY_PAGE_PERMS\",\"LAB_NET_NEW_UI_RELEASE\",\"POCKET_MONSTERS_CREATE\",\"POCKET_MONSTERS_DELETE\",\"SRT_BANZAI_SRT_CORE_LOGGER\",\"SRT_BANZAI_SRT_MAIN_LOGGER\",\"WORKPLACE_PLATFORM_SECURE_APPS_MAILBOXES\",\"POCKET_MONSTERS_UPDATE_NAME\",\"IC_DISABLE_MERGE_TOOL_FEED_CHECK_FOR_REPLACE_SCHEDULE\",\"ADS_EPD_IMPACTED_ADVERTISER_MIGRATE_XCONTROLLER\",\"RECRUITING_CANDIDATE_PORTAL_ACCOUNT_DELETION_CARD\",\"BIZ_INBOX_POP_UP_TIP_NAVIGATION_BUG_FIX\",\"SRT_REVIEW_DISABLE_FELLOWSHIP_REVIEW\",\"EO_STORE_HOME_PAGE_COVID19_BANNER\"]},\"ko\":{\"__set\":[\"3OsLvnSHNTt\",\"1G7wJ6bJt9K\",\"9NpkGYwzrPG\",\"3oh5Mw86USj\",\"8NAceEy9JZo\",\"7FOIzos6XJX\",\"rf8JEPGgOi\",\"4j36SVzvP3w\",\"4NSq3ZC4ScE\",\"53gCxKq281G\",\"3yzzwBY7Npj\",\"1onzIv0jH6H\",\"8PlKuowafe8\",\"1ntjZ2zgf03\",\"4SIH2GRVX5W\",\"2dhqRnqXGLQ\",\"2WgiNOrHVuC\",\"amKHb4Cw4WI\",\"8rDvN9vWdAK\",\"5BdzWGmfvrA\",\"DDZhogI19W\",\"acrJTh9WGdp\",\"1oOE64fL4wO\",\"9Gd8qgRxn8z\",\"MPMaqnqZ9c\",\"5XCz1h9Iaw3\",\"7r6mSP7ofr2\",\"6DGPLrRdyts\",\"aWxCyi1sEC7\",\"9kCSDzzr8fu\",\"awYA7fn2Bse\",\"aBMlJ8QRPWE\",\"Fl3bH3ozLe\"]}},2580],[\"JSErrorLoggingConfig\",[],{\"appId\":256281040558,\"extra\":[],\"reportInterval\":50,\"sampleWeight\":null,\"sampleWeightKey\":\"__jssesw\",\"projectBlocklist\":[]},2776],[\"DataStoreConfig\",[],{\"expandoKey\":\"__FB_STORE\",\"useExpando\":true},2915],[\"CookieCoreLoggingConfig\",[],{\"maximumIgnorableStallMs\":16.67,\"sampleRate\":9.7e-5,\"sampleRateClassic\":1.0e-10,\"sampleRateFastStale\":1.0e-8},3401],[\"ImmediateImplementationExperiments\",[],{\"prefer_message_channel\":true},3419],[\"DTSGInitData\",[],{\"token\":\"\",\"async_get_token\":\"\"},3515],[\"UriNeedRawQuerySVConfig\",[],{\"uris\":[\"dms.netmng.com\",\"doubleclick.net\",\"r.msn.com\",\"watchit.sky.com\",\"graphite.instagram.com\",\"www.kfc.co.th\",\"learn.pantheon.io\",\"www.landmarkshops.in\",\"www.ncl.com\",\"s0.wp.com\",\"www.tatacliq.com\",\"bs.serving-sys.com\",\"kohls.com\",\"lazada.co.th\",\"xg4ken.com\",\"technopark.ru\",\"officedepot.com.mx\",\"bestbuy.com.mx\",\"booking.com\",\"nibio.no\"]},3871],[\"InitialCookieConsent\",[],{\"deferCookies\":false,\"initialConsent\":{\"__set\":[1,2]},\"noCookies\":false,\"shouldShowCookieBanner\":false},4328],[\"TrustedTypesConfig\",[],{\"useTrustedTypes\":false,\"reportOnly\":false},4548],[\"WebConnectionClassServerGuess\",[],{\"connectionClass\":\"EXCELLENT\"},4705],[\"CometAltpayJsSdkIframeAllowedDomains\",[],{\"allowed_domains\":[\"https:\\\\/\\\\/live.adyen.com\",\"https:\\\\/\\\\/integration-facebook.payu.in\",\"https:\\\\/\\\\/facebook.payulatam.com\",\"https:\\\\/\\\\/secure.payu.com\",\"https:\\\\/\\\\/facebook.dlocal.com\",\"https:\\\\/\\\\/buy2.boku.com\"]},4920],[\"BootloaderEndpointConfig\",[],{\"debugNoBatching\":false,\"endpointURI\":\"https:\\\\/\\\\/www.facebook.com\\\\/ajax\\\\/bootloader-endpoint\\\\/\"},5094],[\"CookieConsentIFrameConfig\",[],{\"consent_param\":\"FQAREhIA.ARZ3nXPFohHsE7hH0sUZ647uWeknjechShQ_BNRdjDK8UrLp\",\"allowlisted_iframes\":[]},5540],[\"BigPipeExperiments\",[],{\"link_images_to_pagelets\":false,\"enable_bigpipe_plugins\":false},907],[\"IntlVariationHoldout\",[],{\"disable_variation\":false},6533],[\"AsyncRequestConfig\",[],{\"retryOnNetworkError\":\"1\",\"useFetchStreamAjaxPipeTransport\":false},328],[\"FbtResultGK\",[],{\"shouldReturnFbtResult\":true,\"inlineMode\":\"NO_INLINE\"},876],[\"IntlPhonologicalRules\",[],{\"meta\":{\"\\\\/_B\\\\/\":\"([.,!?\\\\\\\\s]|^)\",\"\\\\/_E\\\\/\":\"([.,!?\\\\\\\\s]|$)\"},\"patterns\":{\"\\\\/(\\\\u00df|s|z|x)\\\\u0001s_E\\\\/\":\"$1\\\\u0001$2\",\"\\\\/_\\\\u0001([^\\\\u0001]*)\\\\u0001\\\\/\":\"javascript\"}},1496],[\"IntlViewerContext\",[],{\"GENDER\":3,\"regionalLocale\":null},772],[\"NumberFormatConfig\",[],{\"decimalSeparator\":\",\",\"numberDelimiter\":\".\",\"minDigitsForThousandsSeparator\":4,\"standardDecimalPatternInfo\":{\"primaryGroupSize\":3,\"secondaryGroupSize\":3},\"numberingSystemData\":null},54],[\"SessionNameConfig\",[],{\"seed\":\"2HbZ\"},757],[\"ZeroCategoryHeader\",[],{},1127],[\"ZeroRewriteRules\",[],{\"rewrite_rules\":{},\"whitelist\":{\"\\\\/hr\\\\/r\":1,\"\\\\/hr\\\\/p\":1,\"\\\\/zero\\\\/unsupported_browser\\\\/\":1,\"\\\\/zero\\\\/policy\\\\/optin\":1,\"\\\\/zero\\\\/optin\\\\/write\\\\/\":1,\"\\\\/zero\\\\/optin\\\\/legal\\\\/\":1,\"\\\\/zero\\\\/optin\\\\/free\\\\/\":1,\"\\\\/about\\\\/privacy\\\\/\":1,\"\\\\/about\\\\/privacy\\\\/update\\\\/\":1,\"\\\\/privacy\\\\/explanation\\\\/\":1,\"\\\\/zero\\\\/toggle\\\\/welcome\\\\/\":1,\"\\\\/zero\\\\/toggle\\\\/nux\\\\/\":1,\"\\\\/zero\\\\/toggle\\\\/settings\\\\/\":1,\"\\\\/fup\\\\/interstitial\\\\/\":1,\"\\\\/work\\\\/landing\":1,\"\\\\/work\\\\/login\\\\/\":1,\"\\\\/work\\\\/email\\\\/\":1,\"\\\\/ai.php\":1,\"\\\\/js_dialog_resources\\\\/dialog_descriptions_android.json\":0,\"\\\\/connect\\\\/jsdialog\\\\/MPlatformAppInvitesJSDialog\\\\/\":0,\"\\\\/connect\\\\/jsdialog\\\\/MPlatformOAuthShimJSDialog\\\\/\":0,\"\\\\/connect\\\\/jsdialog\\\\/MPlatformLikeJSDialog\\\\/\":0,\"\\\\/qp\\\\/interstitial\\\\/\":1,\"\\\\/qp\\\\/action\\\\/redirect\\\\/\":1,\"\\\\/qp\\\\/action\\\\/close\\\\/\":1,\"\\\\/zero\\\\/support\\\\/ineligible\\\\/\":1,\"\\\\/zero_balance_redirect\\\\/\":1,\"\\\\/zero_balance_redirect\":1,\"\\\\/zero_balance_redirect\\\\/l\\\\/\":1,\"\\\\/l.php\":1,\"\\\\/lsr.php\":1,\"\\\\/ajax\\\\/dtsg\\\\/\":1,\"\\\\/checkpoint\\\\/block\\\\/\":1,\"\\\\/exitdsite\":1,\"\\\\/zero\\\\/balance\\\\/pixel\\\\/\":1,\"\\\\/zero\\\\/balance\\\\/\":1,\"\\\\/zero\\\\/balance\\\\/carrier_landing\\\\/\":1,\"\\\\/zero\\\\/flex\\\\/logging\\\\/\":1,\"\\\\/tr\":1,\"\\\\/tr\\\\/\":1,\"\\\\/sem_campaigns\\\\/sem_pixel_test\\\\/\":1,\"\\\\/bookmarks\\\\/flyout\\\\/body\\\\/\":1,\"\\\\/zero\\\\/subno\\\\/\":1,\"\\\\/confirmemail.php\":1,\"\\\\/policies\\\\/\":1,\"\\\\/mobile\\\\/internetdotorg\\\\/classifier\\\\/\":1,\"\\\\/zero\\\\/dogfooding\":1,\"\\\\/xti.php\":1,\"\\\\/zero\\\\/fblite\\\\/config\\\\/\":1,\"\\\\/hr\\\\/zsh\\\\/wc\\\\/\":1,\"\\\\/ajax\\\\/bootloader-endpoint\\\\/\":1,\"\\\\/mobile\\\\/zero\\\\/carrier_page\\\\/\":1,\"\\\\/mobile\\\\/zero\\\\/carrier_page\\\\/education_page\\\\/\":1,\"\\\\/mobile\\\\/zero\\\\/carrier_page\\\\/feature_switch\\\\/\":1,\"\\\\/mobile\\\\/zero\\\\/carrier_page\\\\/settings_page\\\\/\":1,\"\\\\/aloha_check_build\":1,\"\\\\/upsell\\\\/zbd\\\\/softnudge\\\\/\":1,\"\\\\/mobile\\\\/zero\\\\/af_transition\\\\/\":1,\"\\\\/mobile\\\\/zero\\\\/af_transition\\\\/action\\\\/\":1,\"\\\\/mobile\\\\/zero\\\\/freemium\\\\/\":1,\"\\\\/mobile\\\\/zero\\\\/freemium\\\\/redirect\\\\/\":1,\"\\\\/mobile\\\\/zero\\\\/freemium\\\\/zero_fup\\\\/\":1,\"\\\\/privacy\\\\/policy\\\\/\":1,\"\\\\/privacy\\\\/center\\\\/\":1,\"\\\\/data\\\\/manifest\\\\/\":1,\"\\\\/4oh4.php\":1,\"\\\\/autologin.php\":1,\"\\\\/birthday_help.php\":1,\"\\\\/checkpoint\\\\/\":1,\"\\\\/contact-importer\\\\/\":1,\"\\\\/cr.php\":1,\"\\\\/legal\\\\/terms\\\\/\":1,\"\\\\/login.php\":1,\"\\\\/login\\\\/\":1,\"\\\\/mobile\\\\/account\\\\/\":1,\"\\\\/n\\\\/\":1,\"\\\\/remote_test_device\\\\/\":1,\"\\\\/upsell\\\\/buy\\\\/\":1,\"\\\\/upsell\\\\/buyconfirm\\\\/\":1,\"\\\\/upsell\\\\/buyresult\\\\/\":1,\"\\\\/upsell\\\\/promos\\\\/\":1,\"\\\\/upsell\\\\/continue\\\\/\":1,\"\\\\/upsell\\\\/h\\\\/promos\\\\/\":1,\"\\\\/upsell\\\\/loan\\\\/learnmore\\\\/\":1,\"\\\\/upsell\\\\/purchase\\\\/\":1,\"\\\\/upsell\\\\/promos\\\\/upgrade\\\\/\":1,\"\\\\/upsell\\\\/buy_redirect\\\\/\":1,\"\\\\/upsell\\\\/loan\\\\/buyconfirm\\\\/\":1,\"\\\\/upsell\\\\/loan\\\\/buy\\\\/\":1,\"\\\\/upsell\\\\/sms\\\\/\":1,\"\\\\/wap\\\\/a\\\\/channel\\\\/reconnect.php\":1,\"\\\\/wap\\\\/a\\\\/nux\\\\/wizard\\\\/nav.php\":1,\"\\\\/wap\\\\/appreg.php\":1,\"\\\\/wap\\\\/birthday_help.php\":1,\"\\\\/wap\\\\/c.php\":1,\"\\\\/wap\\\\/confirmemail.php\":1,\"\\\\/wap\\\\/cr.php\":1,\"\\\\/wap\\\\/login.php\":1,\"\\\\/wap\\\\/r.php\":1,\"\\\\/zero\\\\/datapolicy\":1,\"\\\\/a\\\\/timezone.php\":1,\"\\\\/a\\\\/bz\":1,\"\\\\/bz\\\\/reliability\":1,\"\\\\/r.php\":1,\"\\\\/mr\\\\/\":1,\"\\\\/reg\\\\/\":1,\"\\\\/registration\\\\/log\\\\/\":1,\"\\\\/terms\\\\/\":1,\"\\\\/f123\\\\/\":1,\"\\\\/expert\\\\/\":1,\"\\\\/experts\\\\/\":1,\"\\\\/terms\\\\/index.php\":1,\"\\\\/terms.php\":1,\"\\\\/srr\\\\/\":1,\"\\\\/msite\\\\/redirect\\\\/\":1,\"\\\\/fbs\\\\/pixel\\\\/\":1,\"\\\\/contactpoint\\\\/preconfirmation\\\\/\":1,\"\\\\/contactpoint\\\\/cliff\\\\/\":1,\"\\\\/contactpoint\\\\/confirm\\\\/submit\\\\/\":1,\"\\\\/contactpoint\\\\/confirmed\\\\/\":1,\"\\\\/contactpoint\\\\/login\\\\/\":1,\"\\\\/preconfirmation\\\\/contactpoint_change\\\\/\":1,\"\\\\/help\\\\/contact\\\\/\":1,\"\\\\/survey\\\\/\":1,\"\\\\/upsell\\\\/loyaltytopup\\\\/accept\\\\/\":1,\"\\\\/settings\\\\/\":1,\"\\\\/lite\\\\/\":1,\"\\\\/zero_status_update\\\\/\":1,\"\\\\/operator_store\\\\/\":1,\"\\\\/upsell\\\\/\":1,\"\\\\/wifiauth\\\\/login\\\\/\":1}},1478],[\"IntlNumberTypeConfig\",[],{\"impl\":\"if (n === 1) { return IntlVariations.NUMBER_ONE; } else { return IntlVariations.NUMBER_OTHER; }\"},3405],[\"ServerTimeData\",[],{\"serverTime\":1667513076864,\"timeOfRequestStart\":1667513076732.9,\"timeOfResponseStart\":1667513076732.9},5943],[\"FbtQTOverrides\",[],{\"overrides\":{}},551],[\"AnalyticsCoreData\",[],{\"device_id\":\"$^|AcYH583erKagGjUERRdWtiqHVRuyxlUAxtFlgbmbJOBhaDaxhFbwDrrdJBr-R36J7xV-GL5rHDfTfSPod8UXOZf0W0bUVcZTiHOF9auty1aZZwtNAJARJtqc18aSaVCOVsmQOREA2GjUu9pXrdJZaop4ng|fd.AcYlCtS_0-dCr8lLm2E0HzfvJ6tgwScEcC2_rZuYNi0pdLOv1Ls5Xq7ahnalG8D7o6qTbWIW8AJXTp2YmvgsSzAX\",\"app_id\":\"256281040558\",\"enable_bladerunner\":false,\"enable_ack\":true,\"push_phase\":\"C3e\",\"enable_observer\":false,\"enable_dataloss_timer\":false,\"enable_fallback_for_br\":true,\"fix_br_init_rc\":false,\"queue_activation_experiment\":false,\"max_delay_br_queue\":60000,\"max_delay_br_queue_immediate\":3},5237],[\"cr:696703\",[],{\"__rc\":[null,\"Aa2ZFHZaogGevNqkRxX5yMLwH6wEYGzWxd03iRbB3L2MDiGlFIuwncbPU1B1GYqj7RYArUxz9nRhPDSgCy-6Rs-u1EE\"]},-1],[\"cr:708886\",[\"EventProfilerImpl\"],{\"__rc\":[\"EventProfilerImpl\",\"Aa2ZFHZaogGevNqkRxX5yMLwH6wEYGzWxd03iRbB3L2MDiGlFIuwncbPU1B1GYqj7RYArUxz9nRhPDSgCy-6Rs-u1EE\"]},-1],[\"cr:717822\",[\"TimeSliceImpl\"],{\"__rc\":[\"TimeSliceImpl\",\"Aa2ZFHZaogGevNqkRxX5yMLwH6wEYGzWxd03iRbB3L2MDiGlFIuwncbPU1B1GYqj7RYArUxz9nRhPDSgCy-6Rs-u1EE\"]},-1],[\"cr:806696\",[\"clearTimeoutBlue\"],{\"__rc\":[\"clearTimeoutBlue\",\"Aa2ZFHZaogGevNqkRxX5yMLwH6wEYGzWxd03iRbB3L2MDiGlFIuwncbPU1B1GYqj7RYArUxz9nRhPDSgCy-6Rs-u1EE\"]},-1],[\"cr:807042\",[\"setTimeoutBlue\"],{\"__rc\":[\"setTimeoutBlue\",\"Aa2ZFHZaogGevNqkRxX5yMLwH6wEYGzWxd03iRbB3L2MDiGlFIuwncbPU1B1GYqj7RYArUxz9nRhPDSgCy-6Rs-u1EE\"]},-1],[\"cr:896462\",[\"setIntervalAcrossTransitionsBlue\"],{\"__rc\":[\"setIntervalAcrossTransitionsBlue\",\"Aa2ZFHZaogGevNqkRxX5yMLwH6wEYGzWxd03iRbB3L2MDiGlFIuwncbPU1B1GYqj7RYArUxz9nRhPDSgCy-6Rs-u1EE\"]},-1],[\"cr:986633\",[\"setTimeoutAcrossTransitionsBlue\"],{\"__rc\":[\"setTimeoutAcrossTransitionsBlue\",\"Aa2ZFHZaogGevNqkRxX5yMLwH6wEYGzWxd03iRbB3L2MDiGlFIuwncbPU1B1GYqj7RYArUxz9nRhPDSgCy-6Rs-u1EE\"]},-1],[\"cr:1003267\",[\"clearIntervalBlue\"],{\"__rc\":[\"clearIntervalBlue\",\"Aa2ZFHZaogGevNqkRxX5yMLwH6wEYGzWxd03iRbB3L2MDiGlFIuwncbPU1B1GYqj7RYArUxz9nRhPDSgCy-6Rs-u1EE\"]},-1],[\"cr:1183579\",[\"InlineFbtResultImpl\"],{\"__rc\":[\"InlineFbtResultImpl\",\"Aa2ZFHZaogGevNqkRxX5yMLwH6wEYGzWxd03iRbB3L2MDiGlFIuwncbPU1B1GYqj7RYArUxz9nRhPDSgCy-6Rs-u1EE\"]},-1],[\"cr:925100\",[\"RunBlue\"],{\"__rc\":[\"RunBlue\",\"Aa2ZFHZaogGevNqkRxX5yMLwH6wEYGzWxd03iRbB3L2MDiGlFIuwncbPU1B1GYqj7RYArUxz9nRhPDSgCy-6Rs-u1EE\"]},-1],[\"cr:729414\",[\"VisualCompletion\"],{\"__rc\":[\"VisualCompletion\",\"Aa0ReBcAvJrpk_7MpEt_wRe-trYyzC8Rh7DrROvnUIyhRdEb9HUdZyM_kajaz7l2zVPT5zaa4uVTHEyCrhJQoxr7\"]},-1],[\"cr:1094907\",[],{\"__rc\":[null,\"Aa2JO9LVDv1TDyqw--gZEmdLWH7rSpQh9LbdhP57c4HHKHAdzkPglkJ-5S0D0qPs4lcnnBqU8WLf2qEOTU5Xofg\"]},-1],[\"EventConfig\",[],{\"sampling\":{\"bandwidth\":0,\"play\":0,\"playing\":0,\"progress\":0,\"pause\":0,\"ended\":0,\"seeked\":0,\"seeking\":0,\"waiting\":0,\"loadedmetadata\":0,\"canplay\":0,\"selectionchange\":0,\"change\":0,\"timeupdate\":0,\"adaptation\":0,\"focus\":0,\"blur\":0,\"load\":0,\"error\":0,\"message\":0,\"abort\":0,\"storage\":0,\"scroll\":200000,\"mousemove\":20000,\"mouseover\":10000,\"mouseout\":10000,\"mousewheel\":1,\"MSPointerMove\":10000,\"keydown\":0.1,\"click\":0.02,\"mouseup\":0.02,\"__100ms\":0.001,\"__default\":5000,\"__min\":100,\"__interactionDefault\":200,\"__eventDefault\":100000},\"page_sampling_boost\":1,\"interaction_regexes\":{},\"interaction_boost\":{},\"event_types\":{},\"manual_instrumentation\":false,\"profile_eager_execution\":false,\"disable_heuristic\":true,\"disable_event_profiler\":false},1726],[\"AdsInterfacesSessionConfig\",[],{},2393],[\"IntlCurrentLocale\",[],{\"code\":\"de_DE\"},5954],[\"USIDMetadata\",[],{\"browser_id\":\"?\",\"tab_id\":\"\",\"page_id\":\"Prkslbo1bzpctc\",\"transition_id\":0,\"version\":6},5888],[\"cr:686\",[],{\"__rc\":[null,\"Aa0eO9Jx0X4JybGVXkZ2OrADV7F79xleX4VVaucoOVg-LeR0I_A39yBhFzzb4_1l5Vg62pgjmzOx27aluzde2-Oe\"]},-1],[\"cr:1984081\",[],{\"__rc\":[null,\"Aa1AO62g4O5kgmzDCOzrb9ywad-mmQvZmcDcsHZB6Hk795O5MhIP_3uWLGPoexz-IpXXKhpd4DvG-Ht2mo8Dr40g9th4\"]},-1]],\"require\":[[\"markJSEnabled\"],[\"lowerDomain\"],[\"URLFragmentPrelude\"],[\"Primer\"],[\"BigPipe\"],[\"Bootloader\"],[\"TimeSlice\"],[\"AsyncRequest\"],[\"BanzaiScuba_DEPRECATED\"],[\"VisualCompletionGating\"],[\"FbtLogging\"],[\"IntlQtEventFalcoEvent\"],[\"RequireDeferredReference\",\"unblock\",[],[[\"AsyncRequest\",\"BanzaiScuba_DEPRECATED\",\"VisualCompletionGating\",\"FbtLogging\",\"IntlQtEventFalcoEvent\"],\"sd\"]],[\"RequireDeferredReference\",\"unblock\",[],[[\"AsyncRequest\",\"BanzaiScuba_DEPRECATED\",\"VisualCompletionGating\",\"FbtLogging\",\"IntlQtEventFalcoEvent\"],\"css\"]]]});});</script></head><body class=\"fbIndex UIPage_LoggedOut _-kb _605a b_c3pyn-ahh x1 Locale_de_DE\" dir=\"ltr\"><script type=\"text/javascript\" nonce=\"lnCtRjZW\">requireLazy([\"bootstrapWebSession\"],function(j){j(1667513076)})</script><div class=\"_li\" id=\"u_0_1_am\"><div id=\"globalContainer\" class=\"uiContextualLayerParent\"><div class=\"fb_content clearfix \" id=\"content\" role=\"main\"><div><div class=\"_8esj _95k9 _8esf _8opv _8f3m _8ilg _8icx _8op_ _95ka\"><div class=\"_8esk\"><div class=\"_8esl\"><div class=\"_8ice\"><img class=\"fb_logo _8ilh img\" src=\"https://static.xx.fbcdn.net/rsrc.php/y8/r/dF5SId3UHWd.svg\" alt=\"Facebook\" /></div><h2 class=\"_8eso\">Auf Facebook bleibst du mit Menschen in Verbindung und teilst Fotos, Videos und vieles mehr mit ihnen.</h2></div><div class=\"_8esn\"><div class=\"_8iep _8icy _9ahz _9ah-\"><div class=\"_6luv _52jv\"><form class=\"_9vtf\" data-testid=\"royal_login_form\" action=\"/login/?privacy_mutation_token=eyJ0eXBlIjowLCJjcmVhdGlvbl90aW1lIjoxNjY3NTEzMDc2LCJjYWxsc2l0ZV9pZCI6MzgxMjI5MDc5NTc1OTQ2fQ%3D%3D\" method=\"post\" onsubmit=\"\" id=\"u_0_2_M6\"><input type=\"hidden\" name=\"jazoest\" value=\"2931\" autocomplete=\"off\" /><input type=\"hidden\" name=\"lsd\" value=\"AVoIgAZAyGQ\" autocomplete=\"off\" /><div><div class=\"_6lux\"><input type=\"text\" class=\"inputtext _55r1 _6luy\" name=\"email\" id=\"email\" data-testid=\"royal_email\" placeholder=\"E-Mail-Adresse oder Telefonnummer\" autofocus=\"1\" aria-label=\"E-Mail-Adresse oder Telefonnummer\" /></div><div class=\"_6lux\"><div class=\"_6luy _55r1 _1kbt\" id=\"passContainer\"><input type=\"password\" class=\"inputtext _55r1 _6luy _9npi\" name=\"pass\" id=\"pass\" data-testid=\"royal_pass\" placeholder=\"Passwort\" aria-label=\"Passwort\" /><div class=\"_9ls7\" id=\"u_0_3_bq\"><a href=\"#\" role=\"button\"><div class=\"_9lsa\"><div class=\"_9lsb\" id=\"u_0_4_WH\"></div></div></a></div></div></div></div><input type=\"hidden\" autocomplete=\"off\" name=\"login_source\" value=\"comet_headerless_login\" /><input type=\"hidden\" autocomplete=\"off\" name=\"next\" value=\"\" /><div class=\"_6ltg\"><button value=\"1\" class=\"_42ft _4jy0 _6lth _4jy6 _4jy1 selected _51sy\" name=\"login\" data-testid=\"royal_login_button\" type=\"submit\" id=\"u_0_5_7Y\">Anmelden</button></div><div class=\"_6ltj\"><a href=\"https://www.facebook.com/recover/initiate/?privacy_mutation_token=eyJ0eXBlIjowLCJjcmVhdGlvbl90aW1lIjoxNjY3NTEzMDc2LCJjYWxsc2l0ZV9pZCI6MzgxMjI5MDc5NTc1OTQ2fQ%3D%3D&amp;ars=facebook_login\">Passwort vergessen?</a></div><div class=\"_8icz\"></div><div class=\"_6ltg\"><a role=\"button\" class=\"_42ft _4jy0 _6lti _4jy6 _4jy2 selected _51sy\" href=\"#\" ajaxify=\"/reg/spotlight/\" id=\"u_0_0_jw\" data-testid=\"open-registration-form-button\" rel=\"async\">Neues Konto erstellen</a></div></form></div><div id=\"reg_pages_msg\" class=\"_58mk\"><a href=\"/pages/create/?ref_type=registration_form\" class=\"_8esh\">Erstelle eine Seite</a> für einen Star, eine Marke oder ein Unternehmen.</div></div></div></div></div></div></div><div class=\"\"><div class=\"_95ke _8opy\"><div id=\"pageFooter\" data-referrer=\"page_footer\" data-testid=\"page_footer\"><ul class=\"uiList localeSelectorList _2pid _509- _4ki _6-h _6-j _6-i\" data-nocookies=\"1\"><li>Deutsch</li><li><a class=\"_sv4\" dir=\"ltr\" href=\"https://www.facebook.com/\" onclick=\"require(&quot;IntlUtils&quot;).setCookieLocale(&quot;en_US&quot;, &quot;de_DE&quot;, &quot;https:\\\\/\\\\/www.facebook.com\\\\/&quot;, &quot;www_list_selector&quot;, 0); return false;\" title=\"English (US)\">English (US)</a></li><li><a class=\"_sv4\" dir=\"ltr\" href=\"https://tr-tr.facebook.com/\" onclick=\"require(&quot;IntlUtils&quot;).setCookieLocale(&quot;tr_TR&quot;, &quot;de_DE&quot;, &quot;https:\\\\/\\\\/tr-tr.facebook.com\\\\/&quot;, &quot;www_list_selector&quot;, 1); return false;\" title=\"Turkish\">Türkçe</a></li><li><a class=\"_sv4\" dir=\"ltr\" href=\"https://pl-pl.facebook.com/\" onclick=\"require(&quot;IntlUtils&quot;).setCookieLocale(&quot;pl_PL&quot;, &quot;de_DE&quot;, &quot;https:\\\\/\\\\/pl-pl.facebook.com\\\\/&quot;, &quot;www_list_selector&quot;, 2); return false;\" title=\"Polish\">Polski</a></li><li><a class=\"_sv4\" dir=\"ltr\" href=\"https://it-it.facebook.com/\" onclick=\"require(&quot;IntlUtils&quot;).setCookieLocale(&quot;it_IT&quot;, &quot;de_DE&quot;, &quot;https:\\\\/\\\\/it-it.facebook.com\\\\/&quot;, &quot;www_list_selector&quot;, 3); return false;\" title=\"Italian\">Italiano</a></li><li><a class=\"_sv4\" dir=\"ltr\" href=\"https://ro-ro.facebook.com/\" onclick=\"require(&quot;IntlUtils&quot;).setCookieLocale(&quot;ro_RO&quot;, &quot;de_DE&quot;, &quot;https:\\\\/\\\\/ro-ro.facebook.com\\\\/&quot;, &quot;www_list_selector&quot;, 4); return false;\" title=\"Romanian\">Română</a></li><li><a class=\"_sv4\" dir=\"ltr\" href=\"https://fr-fr.facebook.com/\" onclick=\"require(&quot;IntlUtils&quot;).setCookieLocale(&quot;fr_FR&quot;, &quot;de_DE&quot;, &quot;https:\\\\/\\\\/fr-fr.facebook.com\\\\/&quot;, &quot;www_list_selector&quot;, 5); return false;\" title=\"French (France)\">Français (France)</a></li><li><a class=\"_sv4\" dir=\"ltr\" href=\"https://ru-ru.facebook.com/\" onclick=\"require(&quot;IntlUtils&quot;).setCookieLocale(&quot;ru_RU&quot;, &quot;de_DE&quot;, &quot;https:\\\\/\\\\/ru-ru.facebook.com\\\\/&quot;, &quot;www_list_selector&quot;, 6); return false;\" title=\"Russian\">Русский</a></li><li><a class=\"_sv4\" dir=\"rtl\" href=\"https://ar-ar.facebook.com/\" onclick=\"require(&quot;IntlUtils&quot;).setCookieLocale(&quot;ar_AR&quot;, &quot;de_DE&quot;, &quot;https:\\\\/\\\\/ar-ar.facebook.com\\\\/&quot;, &quot;www_list_selector&quot;, 7); return false;\" title=\"Arabic\">العربية</a></li><li><a class=\"_sv4\" dir=\"ltr\" href=\"https://es-la.facebook.com/\" onclick=\"require(&quot;IntlUtils&quot;).setCookieLocale(&quot;es_LA&quot;, &quot;de_DE&quot;, &quot;https:\\\\/\\\\/es-la.facebook.com\\\\/&quot;, &quot;www_list_selector&quot;, 8); return false;\" title=\"Spanish\">Español</a></li><li><a class=\"_sv4\" dir=\"ltr\" href=\"https://pt-br.facebook.com/\" onclick=\"require(&quot;IntlUtils&quot;).setCookieLocale(&quot;pt_BR&quot;, &quot;de_DE&quot;, &quot;https:\\\\/\\\\/pt-br.facebook.com\\\\/&quot;, &quot;www_list_selector&quot;, 9); return false;\" title=\"Portuguese (Brazil)\">Português (Brasil)</a></li><li><a role=\"button\" class=\"_42ft _4jy0 _517i _517h _51sy\" rel=\"dialog\" ajaxify=\"/settings/language/language/?uri=https%3A%2F%2Fpt-br.facebook.com%2F&amp;source=www_list_selector_more\" href=\"#\" title=\"Weitere Sprachen anzeigen\"><i class=\"img sp_ot1t5YjYL3s sx_2cfa7d\"></i></a></li></ul><div id=\"contentCurve\"></div><div id=\"pageFooterChildren\" role=\"contentinfo\" aria-label=\"Facebook-Webseitenlinks\"><ul class=\"uiList pageFooterLinkList _509- _4ki _703 _6-i\"><li><a href=\"/reg/\" title=\"F&#xfc;r Facebook registrieren\">Registrieren</a></li><li><a href=\"/login/\" title=\"Bei Facebook anmelden\">Anmelden</a></li><li><a href=\"https://messenger.com/\" title=\"Probiere den Messenger aus.\">Messenger</a></li><li><a href=\"/lite/\" title=\"Facebook Lite f&#xfc;r Android\">Facebook Lite</a></li><li><a href=\"https://www.facebook.com/watch/\" title=\"Durchst&#xf6;bere unsere Watch-Videos.\">Watch</a></li><li><a href=\"/places/\" title=\"Probiere beliebte Orte auf Facebook aus.\">Orte</a></li><li><a href=\"/games/\" title=\"Probiere Spiele auf Facebook aus.\">Spiele</a></li><li><a href=\"/marketplace/\" title=\"Im Facebook Marketplace Artikel kaufen und verkaufen\">Marketplace</a></li><li><a href=\"https://pay.facebook.com/\" title=\"Weitere Infos zu Meta Pay\" target=\"_blank\">Meta Pay</a></li><li><a href=\"https://www.oculus.com/\" title=\"Weitere Informationen zu Oculus\" target=\"_blank\">Oculus</a></li><li><a href=\"https://portal.facebook.com/\" title=\"Mehr zu Portal from Facebook\" target=\"_blank\">Portal</a></li><li><a href=\"https://l.facebook.com/l.php?u=https%3A%2F%2Fwww.instagram.com%2F&amp;h=AT0ASghH1OoVWsfT6RPwiIC7W3_z4mIk0Lf2hAiJ4KO6qnkJTZkIjjDfe8ovXT6PyVcjvcWX0GorAXdfKGOwxamgQT8qCtN6nGEix3659hMOtoJI8in-A5N-oNe2u9OHKsxYbTxsdvvnt3yrZJp0xlZjGYUOXAeS\" title=\"Probiere Instagram aus\" target=\"_blank\" rel=\"nofollow\" data-lynx-mode=\"hover\">Instagram</a></li><li><a href=\"https://www.bulletin.com/\" title=\"Hol dir den Bulletin-Newsletter\">Bulletin</a></li><li><a href=\"/fundraisers/\" title=\"Spende f&#xfc;r eine sinnvolle Sache.\">Spendenaktionen</a></li><li><a href=\"/biz/directory/\" title=\"Durchsuche unser Facebook Dienstleistungsverzeichnis\">Services</a></li><li><a href=\"/votinginformationcenter/?entry_point=c2l0ZQ%3D%3D\" title=\"Wahl-Informationszentrum ansehen\">Wahl-Informationszentrum</a></li><li><a href=\"/groups/explore/\" title=\"Entdecke unsere Gruppen.\">Gruppen</a></li><li><a href=\"https://about.facebook.com/\" accesskey=\"8\" title=\"Lies unseren Blog, entdecke unseren Ressourcenbereich und suche nach Jobs.\">Info</a></li><li><a href=\"/ad_campaign/landing.php?placement=pflo&amp;campaign_id=402047449186&amp;nav_source=unknown&amp;extra_1=auto\" title=\"Wirb auf Facebook.\">Werbeanzeige erstellen</a></li><li><a href=\"/pages/create/?ref_type=site_footer\" title=\"Seite erstellen\">Seite erstellen</a></li><li><a href=\"https://developers.facebook.com/?ref=pf\" title=\"Entwickle Apps auf unserer Plattform.\">Entwickler</a></li><li><a href=\"/careers/?ref=pf\" title=\"Mach deinen n&#xe4;chsten Karriereschritt und bewirb dich bei unserem gro&#xdf;artigen Unternehmen.\">Karriere</a></li><li><a data-nocookies=\"1\" href=\"/privacy/policy/?entry_point=facebook_page_footer\" title=\"Erfahre mehr &#xfc;ber deine Privatsph&#xe4;re und Facebook.\">Privatsphäre</a></li><li><a href=\"/policies/cookies/\" title=\"Erfahre mehr &#xfc;ber Cookies und Facebook.\" data-nocookies=\"1\">Cookies</a></li><li><a class=\"_41ug\" data-nocookies=\"1\" href=\"https://www.facebook.com/help/568137493302217\" title=\"Erfahre mehr &#xfc;ber Datenschutzinfo.\">Werbepräferenzen<i class=\"img sp_ot1t5YjYL3s sx_708a0f\"></i></a></li><li><a data-nocookies=\"1\" href=\"/legal/terms?ref=pf\" accesskey=\"9\" title=\"Unsere Nutzungsbedingungen und Richtlinien.\">Impressum/Terms/NetzDG/UrhDaG</a></li><li><a href=\"/help/?ref=pf\" accesskey=\"0\" title=\"Besuche unseren Hilfebereich.\">Hilfe</a></li><li><a href=\"help/637205020878504\" title=\"Klicke auf unseren Hinweis zum Hochladen von Kontakten und zu Nicht-Nutzern.\">Hochladen von Kontakten und Nicht-Nutzer</a></li><li><a accesskey=\"6\" class=\"accessible_elem\" href=\"/settings\" title=\"Facebook-Einstellungen ansehen und bearbeiten.\">Einstellungen</a></li><li><a accesskey=\"7\" class=\"accessible_elem\" href=\"/allactivity?privacy_source=activity_log_top_menu\" title=\"Aktivit&#xe4;tenprotokoll anzeigen\">Aktivitätenprotokoll</a></li></ul></div><div class=\"mvl copyright\"><div><span> Meta © 2022</span></div></div></div></div></div></div><div></div><span><img src=\"https://facebook.com/security/hsts-pixel.gif?c=3.2.5\" width=\"0\" height=\"0\" style=\"display:none\" /></span></div><div style=\"display:none\"></div>\\n<script>requireLazy([\"HasteSupportData\"],function(m){m.handle({\"bxData\":{\"875231\":{\"uri\":\"https:\\\\/\\\\/static.xx.fbcdn.net\\\\/rsrc.php\\\\/yD\\\\/r\\\\/d4ZIVX-5C-b.ico\"}}})});requireLazy([\"Bootloader\"],function(m){m.handlePayload({\"consistency\":{\"rev\":1006538132},\"rsrcMap\":{\"TaTAE64\":{\"type\":\"js\",\"src\":\"https:\\\\/\\\\/static.xx.fbcdn.net\\\\/rsrc.php\\\\/v3\\\\/yL\\\\/r\\\\/H_Yj4wl2VrJ.js?_nc_x=Ij3Wp8lg5Kz\",\"nc\":1},\"hKY0QKT\":{\"type\":\"js\",\"src\":\"https:\\\\/\\\\/static.xx.fbcdn.net\\\\/rsrc.php\\\\/v3\\\\/yv\\\\/r\\\\/GG1Y0sYc7My.js?_nc_x=Ij3Wp8lg5Kz\",\"nc\":1},\"r3fI2E9\":{\"type\":\"js\",\"src\":\"https:\\\\/\\\\/static.xx.fbcdn.net\\\\/rsrc.php\\\\/v3\\\\/y7\\\\/r\\\\/11YZDXpV9-f.js?_nc_x=Ij3Wp8lg5Kz\",\"nc\":1},\"oQYU4RD\":{\"type\":\"js\",\"src\":\"https:\\\\/\\\\/static.xx.fbcdn.net\\\\/rsrc.php\\\\/v3iN_84\\\\/yr\\\\/l\\\\/de_DE\\\\/l11Up9PAMkG.js?_nc_x=Ij3Wp8lg5Kz\",\"nc\":1},\"57Kjxlw\":{\"type\":\"js\",\"src\":\"https:\\\\/\\\\/static.xx.fbcdn.net\\\\/rsrc.php\\\\/v3ilFC4\\\\/yN\\\\/l\\\\/de_DE\\\\/s1JCbn65asK.js?_nc_x=Ij3Wp8lg5Kz\",\"nc\":1},\"PBwNCiF\":{\"type\":\"js\",\"src\":\"https:\\\\/\\\\/static.xx.fbcdn.net\\\\/rsrc.php\\\\/v3\\\\/y1\\\\/r\\\\/EIcLNQSrYL8.js?_nc_x=Ij3Wp8lg5Kz\",\"nc\":1},\"p4Rgq8O\":{\"type\":\"js\",\"src\":\"https:\\\\/\\\\/static.xx.fbcdn.net\\\\/rsrc.php\\\\/v3\\\\/yZ\\\\/r\\\\/kkirDpaT3N9.js?_nc_x=Ij3Wp8lg5Kz\",\"nc\":1},\"SP33HdU\":{\"type\":\"js\",\"src\":\"https:\\\\/\\\\/static.xx.fbcdn.net\\\\/rsrc.php\\\\/v3\\\\/yH\\\\/r\\\\/oArgNTEwhYa.js?_nc_x=Ij3Wp8lg5Kz\",\"nc\":1},\"KsbRs3u\":{\"type\":\"js\",\"src\":\"https:\\\\/\\\\/static.xx.fbcdn.net\\\\/rsrc.php\\\\/v3\\\\/y2\\\\/r\\\\/Dv87iLcHM97.js?_nc_x=Ij3Wp8lg5Kz\",\"nc\":1},\"DfsXCw+\":{\"type\":\"css\",\"src\":\"https:\\\\/\\\\/static.xx.fbcdn.net\\\\/rsrc.php\\\\/v3\\\\/yH\\\\/l\\\\/0,cross\\\\/qtumbtMpvQq.css?_nc_x=Ij3Wp8lg5Kz\",\"nc\":1},\"xekaW0v\":{\"type\":\"js\",\"src\":\"https:\\\\/\\\\/static.xx.fbcdn.net\\\\/rsrc.php\\\\/v3\\\\/yx\\\\/r\\\\/JcAA1qaUrUB.js?_nc_x=Ij3Wp8lg5Kz\",\"nc\":1},\"ZVYfqpr\":{\"type\":\"js\",\"src\":\"https:\\\\/\\\\/static.xx.fbcdn.net\\\\/rsrc.php\\\\/v3\\\\/yv\\\\/r\\\\/RjhKWb49ycQ.js?_nc_x=Ij3Wp8lg5Kz\",\"nc\":1},\"TUxV68S\":{\"type\":\"js\",\"src\":\"https:\\\\/\\\\/static.xx.fbcdn.net\\\\/rsrc.php\\\\/v3\\\\/ys\\\\/r\\\\/AEurEMwqHIo.js?_nc_x=Ij3Wp8lg5Kz\",\"nc\":1},\"h3ZzAmG\":{\"type\":\"js\",\"src\":\"https:\\\\/\\\\/static.xx.fbcdn.net\\\\/rsrc.php\\\\/v3\\\\/yj\\\\/r\\\\/w8iOGQ_Hw3c.js?_nc_x=Ij3Wp8lg5Kz\",\"nc\":1},\"Z2GjVu9\":{\"type\":\"js\",\"src\":\"https:\\\\/\\\\/static.xx.fbcdn.net\\\\/rsrc.php\\\\/v3\\\\/yi\\\\/r\\\\/1oCVuO-GKV8.js?_nc_x=Ij3Wp8lg5Kz\",\"nc\":1},\"HAYWbBW\":{\"type\":\"js\",\"src\":\"https:\\\\/\\\\/static.xx.fbcdn.net\\\\/rsrc.php\\\\/v3\\\\/yZ\\\\/r\\\\/5kjwXGC6Et6.js?_nc_x=Ij3Wp8lg5Kz\",\"nc\":1},\"2\\\\/maQ\\\\/Q\":{\"type\":\"js\",\"src\":\"https:\\\\/\\\\/static.xx.fbcdn.net\\\\/rsrc.php\\\\/v3\\\\/yL\\\\/r\\\\/mPQTxAVB7AK.js?_nc_x=Ij3Wp8lg5Kz\",\"nc\":1},\"kFnBppc\":{\"type\":\"js\",\"src\":\"https:\\\\/\\\\/static.xx.fbcdn.net\\\\/rsrc.php\\\\/v3i2UN4\\\\/yG\\\\/l\\\\/de_DE\\\\/QY8O2R-x3vh.js?_nc_x=Ij3Wp8lg5Kz\",\"nc\":1},\"e9ANzw\\\\/\":{\"type\":\"js\",\"src\":\"https:\\\\/\\\\/static.xx.fbcdn.net\\\\/rsrc.php\\\\/v3iVab4\\\\/yo\\\\/l\\\\/de_DE\\\\/zmwjHj2zb6Z.js?_nc_x=Ij3Wp8lg5Kz\",\"nc\":1},\"R5w1rCJ\":{\"type\":\"js\",\"src\":\"https:\\\\/\\\\/static.xx.fbcdn.net\\\\/rsrc.php\\\\/v3\\\\/yF\\\\/r\\\\/p55HfXW__mM.js?_nc_x=Ij3Wp8lg5Kz\",\"nc\":1},\"s7i7aQd\":{\"type\":\"js\",\"src\":\"https:\\\\/\\\\/static.xx.fbcdn.net\\\\/rsrc.php\\\\/v3\\\\/yX\\\\/r\\\\/vU5JndqUoOY.js?_nc_x=Ij3Wp8lg5Kz\",\"nc\":1},\"mXT9iat\":{\"type\":\"js\",\"src\":\"https:\\\\/\\\\/static.xx.fbcdn.net\\\\/rsrc.php\\\\/v3\\\\/y9\\\\/r\\\\/0kE4QSLrchR.js?_nc_x=Ij3Wp8lg5Kz\",\"nc\":1},\"MntqcPQ\":{\"type\":\"js\",\"src\":\"https:\\\\/\\\\/static.xx.fbcdn.net\\\\/rsrc.php\\\\/v3iiUP4\\\\/yC\\\\/l\\\\/de_DE\\\\/5S9gRQdpCpT.js?_nc_x=Ij3Wp8lg5Kz\",\"nc\":1},\"VR2n1nv\":{\"type\":\"js\",\"src\":\"https:\\\\/\\\\/static.xx.fbcdn.net\\\\/rsrc.php\\\\/v3\\\\/yh\\\\/r\\\\/p44HyqgbBYt.js?_nc_x=Ij3Wp8lg5Kz\",\"nc\":1},\"IbOceAB\":{\"type\":\"css\",\"src\":\"https:\\\\/\\\\/static.xx.fbcdn.net\\\\/rsrc.php\\\\/v3\\\\/y9\\\\/l\\\\/0,cross\\\\/6l-NXu1ifoC.css?_nc_x=Ij3Wp8lg5Kz\",\"nc\":1},\"eMkMxHZ\":{\"type\":\"js\",\"src\":\"https:\\\\/\\\\/static.xx.fbcdn.net\\\\/rsrc.php\\\\/v3\\\\/y3\\\\/r\\\\/v3KFIamVEi-.js?_nc_x=Ij3Wp8lg5Kz\",\"nc\":1},\"CGkH4FY\":{\"type\":\"js\",\"src\":\"https:\\\\/\\\\/static.xx.fbcdn.net\\\\/rsrc.php\\\\/v3\\\\/yZ\\\\/r\\\\/x4Eyp9nQ1uk.js?_nc_x=Ij3Wp8lg5Kz\",\"nc\":1},\"LwqxiLK\":{\"type\":\"js\",\"src\":\"https:\\\\/\\\\/static.xx.fbcdn.net\\\\/rsrc.php\\\\/v3\\\\/yh\\\\/r\\\\/YIuW0b-9jJl.js?_nc_x=Ij3Wp8lg5Kz\",\"nc\":1},\"wMN8aPc\":{\"type\":\"js\",\"src\":\"https:\\\\/\\\\/static.xx.fbcdn.net\\\\/rsrc.php\\\\/v3\\\\/ys\\\\/r\\\\/vrfwjXapKbU.js?_nc_x=Ij3Wp8lg5Kz\",\"nc\":1},\"JkwaUcf\":{\"type\":\"js\",\"src\":\"https:\\\\/\\\\/static.xx.fbcdn.net\\\\/rsrc.php\\\\/v3\\\\/y6\\\\/r\\\\/CmoyEePtlsH.js?_nc_x=Ij3Wp8lg5Kz\",\"nc\":1},\"uyLLtYc\":{\"type\":\"js\",\"src\":\"https:\\\\/\\\\/static.xx.fbcdn.net\\\\/rsrc.php\\\\/v3iQ9_4\\\\/yZ\\\\/l\\\\/de_DE\\\\/wiXe51M3erU.js?_nc_x=Ij3Wp8lg5Kz\",\"nc\":1},\"tjmk+0K\":{\"type\":\"js\",\"src\":\"https:\\\\/\\\\/static.xx.fbcdn.net\\\\/rsrc.php\\\\/v3iZLZ4\\\\/y_\\\\/l\\\\/de_DE\\\\/K2p2SXN7a9e.js?_nc_x=Ij3Wp8lg5Kz\",\"nc\":1},\"eEJCqT6\":{\"type\":\"css\",\"src\":\"https:\\\\/\\\\/static.xx.fbcdn.net\\\\/rsrc.php\\\\/v3\\\\/y6\\\\/l\\\\/0,cross\\\\/w2gliwWq-nf.css?_nc_x=Ij3Wp8lg5Kz\",\"nc\":1},\"TPVHIx9\":{\"type\":\"js\",\"src\":\"https:\\\\/\\\\/static.xx.fbcdn.net\\\\/rsrc.php\\\\/v3\\\\/yR\\\\/r\\\\/WCZ6PPEZV2V.js?_nc_x=Ij3Wp8lg5Kz\",\"nc\":1},\"XZ6Y9m7\":{\"type\":\"js\",\"src\":\"https:\\\\/\\\\/static.xx.fbcdn.net\\\\/rsrc.php\\\\/v3ib6R4\\\\/yY\\\\/l\\\\/de_DE\\\\/CI6XSrVr9uA.js?_nc_x=Ij3Wp8lg5Kz\",\"nc\":1},\"jQ7n\\\\/9j\":{\"type\":\"js\",\"src\":\"https:\\\\/\\\\/static.xx.fbcdn.net\\\\/rsrc.php\\\\/v3\\\\/yW\\\\/r\\\\/yNYcc5eCjuy.js?_nc_x=Ij3Wp8lg5Kz\",\"nc\":1},\"Fq209Lo\":{\"type\":\"js\",\"src\":\"https:\\\\/\\\\/static.xx.fbcdn.net\\\\/rsrc.php\\\\/v3\\\\/yY\\\\/r\\\\/SXHbId8pd0m.js?_nc_x=Ij3Wp8lg5Kz\",\"nc\":1},\"jOPXrew\":{\"type\":\"css\",\"src\":\"https:\\\\/\\\\/static.xx.fbcdn.net\\\\/rsrc.php\\\\/v3\\\\/yP\\\\/l\\\\/0,cross\\\\/b8zULHjHELb.css?_nc_x=Ij3Wp8lg5Kz\",\"nc\":1},\"FJvGK\\\\/j\":{\"type\":\"css\",\"src\":\"https:\\\\/\\\\/static.xx.fbcdn.net\\\\/rsrc.php\\\\/v3\\\\/ye\\\\/l\\\\/0,cross\\\\/O01Mt4zx6e3.css?_nc_x=Ij3Wp8lg5Kz\",\"nc\":1},\"PKVfk7b\":{\"type\":\"js\",\"src\":\"https:\\\\/\\\\/static.xx.fbcdn.net\\\\/rsrc.php\\\\/v3i4HP4\\\\/yS\\\\/l\\\\/de_DE\\\\/KrwptYJ1QtP.js?_nc_x=Ij3Wp8lg5Kz\",\"nc\":1},\"PrhuiGV\":{\"type\":\"js\",\"src\":\"https:\\\\/\\\\/static.xx.fbcdn.net\\\\/rsrc.php\\\\/v3\\\\/ys\\\\/r\\\\/RW511c32bJp.js?_nc_x=Ij3Wp8lg5Kz\",\"nc\":1},\"iQofKuu\":{\"type\":\"js\",\"src\":\"https:\\\\/\\\\/static.xx.fbcdn.net\\\\/rsrc.php\\\\/v3\\\\/yS\\\\/r\\\\/-a3sDqOi8FP.js?_nc_x=Ij3Wp8lg5Kz\",\"nc\":1},\"3mc6ybv\":{\"type\":\"js\",\"src\":\"https:\\\\/\\\\/static.xx.fbcdn.net\\\\/rsrc.php\\\\/v3\\\\/yw\\\\/r\\\\/L5J2pfefFZn.js?_nc_x=Ij3Wp8lg5Kz\",\"nc\":1},\"NWr\\\\/vW9\":{\"type\":\"js\",\"src\":\"https:\\\\/\\\\/static.xx.fbcdn.net\\\\/rsrc.php\\\\/v3i7of4\\\\/yu\\\\/l\\\\/de_DE\\\\/fjkPrenF_NC.js?_nc_x=Ij3Wp8lg5Kz\",\"nc\":1},\"F5tjEaq\":{\"type\":\"css\",\"src\":\"https:\\\\/\\\\/static.xx.fbcdn.net\\\\/rsrc.php\\\\/v3\\\\/yj\\\\/l\\\\/0,cross\\\\/4Ln4UCLhI-K.css?_nc_x=Ij3Wp8lg5Kz\",\"nc\":1},\"b9gpWJj\":{\"type\":\"js\",\"src\":\"https:\\\\/\\\\/static.xx.fbcdn.net\\\\/rsrc.php\\\\/v3\\\\/yX\\\\/r\\\\/Lh2_QgYAIVP.js?_nc_x=Ij3Wp8lg5Kz\",\"nc\":1},\"yC4LZYd\":{\"type\":\"js\",\"src\":\"https:\\\\/\\\\/static.xx.fbcdn.net\\\\/rsrc.php\\\\/v3iGB54\\\\/y6\\\\/l\\\\/de_DE\\\\/ReeSntMj0b4.js?_nc_x=Ij3Wp8lg5Kz\",\"nc\":1},\"kOEHvpu\":{\"type\":\"js\",\"src\":\"https:\\\\/\\\\/static.xx.fbcdn.net\\\\/rsrc.php\\\\/v3\\\\/yp\\\\/r\\\\/p6pF4ndmWJ4.js?_nc_x=Ij3Wp8lg5Kz\",\"nc\":1},\"2XuL7fd\":{\"type\":\"js\",\"src\":\"https:\\\\/\\\\/static.xx.fbcdn.net\\\\/rsrc.php\\\\/v3\\\\/y2\\\\/r\\\\/bNIV6_Hyvap.js?_nc_x=Ij3Wp8lg5Kz\",\"nc\":1},\"1PUV3\\\\/6\":{\"type\":\"js\",\"src\":\"https:\\\\/\\\\/static.xx.fbcdn.net\\\\/rsrc.php\\\\/v3i0zm4\\\\/yk\\\\/l\\\\/de_DE\\\\/_4u2KO2O_vG.js?_nc_x=Ij3Wp8lg5Kz\",\"nc\":1},\"WmP7DoF\":{\"type\":\"css\",\"src\":\"https:\\\\/\\\\/static.xx.fbcdn.net\\\\/rsrc.php\\\\/v3\\\\/yQ\\\\/l\\\\/0,cross\\\\/cocK5yzWPXD.css?_nc_x=Ij3Wp8lg5Kz\",\"nc\":1},\"czkmXhg\":{\"type\":\"js\",\"src\":\"https:\\\\/\\\\/static.xx.fbcdn.net\\\\/rsrc.php\\\\/v3\\\\/yo\\\\/r\\\\/MeBKtynVGvo.js?_nc_x=Ij3Wp8lg5Kz\",\"nc\":1},\"ify31BP\":{\"type\":\"js\",\"src\":\"https:\\\\/\\\\/static.xx.fbcdn.net\\\\/rsrc.php\\\\/v3iIg14\\\\/yC\\\\/l\\\\/de_DE\\\\/1VFLr8croeM.js?_nc_x=Ij3Wp8lg5Kz\",\"nc\":1},\"S5Rq8Ee\":{\"type\":\"js\",\"src\":\"https:\\\\/\\\\/static.xx.fbcdn.net\\\\/rsrc.php\\\\/v3iDSt4\\\\/y1\\\\/l\\\\/de_DE\\\\/sSs3JN2wUer.js?_nc_x=Ij3Wp8lg5Kz\",\"nc\":1},\"vWTQYq7\":{\"type\":\"css\",\"src\":\"https:\\\\/\\\\/static.xx.fbcdn.net\\\\/rsrc.php\\\\/v3\\\\/yF\\\\/l\\\\/0,cross\\\\/gyJHclWIcXS.css?_nc_x=Ij3Wp8lg5Kz\",\"nc\":1},\"0JnoQHF\":{\"type\":\"js\",\"src\":\"https:\\\\/\\\\/static.xx.fbcdn.net\\\\/rsrc.php\\\\/v3\\\\/y2\\\\/r\\\\/k50Q8ArsQQ3.js?_nc_x=Ij3Wp8lg5Kz\",\"nc\":1},\"9u2EKg6\":{\"type\":\"css\",\"src\":\"https:\\\\/\\\\/static.xx.fbcdn.net\\\\/rsrc.php\\\\/v3\\\\/yp\\\\/l\\\\/0,cross\\\\/Ro-wnC9vKX1.css?_nc_x=Ij3Wp8lg5Kz\",\"nc\":1},\"XL4AU6s\":{\"type\":\"js\",\"src\":\"https:\\\\/\\\\/static.xx.fbcdn.net\\\\/rsrc.php\\\\/v3ixqp4\\\\/yh\\\\/l\\\\/de_DE\\\\/skX2_yo0cWn.js?_nc_x=Ij3Wp8lg5Kz\",\"nc\":1},\"Z8z6Yo0\":{\"type\":\"css\",\"src\":\"https:\\\\/\\\\/static.xx.fbcdn.net\\\\/rsrc.php\\\\/v3\\\\/yk\\\\/l\\\\/0,cross\\\\/g3dvi-vdwE6.css?_nc_x=Ij3Wp8lg5Kz\",\"nc\":1},\"rTU+JXy\":{\"type\":\"js\",\"src\":\"https:\\\\/\\\\/static.xx.fbcdn.net\\\\/rsrc.php\\\\/v3\\\\/yK\\\\/r\\\\/9ROoURDxJa5.js?_nc_x=Ij3Wp8lg5Kz\",\"nc\":1},\"pFtDLZW\":{\"type\":\"js\",\"src\":\"https:\\\\/\\\\/static.xx.fbcdn.net\\\\/rsrc.php\\\\/v3\\\\/yK\\\\/r\\\\/Ah_W8A5IlRZ.js?_nc_x=Ij3Wp8lg5Kz\",\"nc\":1},\"UIgvlg8\":{\"type\":\"css\",\"src\":\"https:\\\\/\\\\/static.xx.fbcdn.net\\\\/rsrc.php\\\\/v3\\\\/y2\\\\/l\\\\/0,cross\\\\/CNrIrgUAIbG.css?_nc_x=Ij3Wp8lg5Kz\",\"nc\":1},\"wDtmqP9\":{\"type\":\"js\",\"src\":\"https:\\\\/\\\\/static.xx.fbcdn.net\\\\/rsrc.php\\\\/v3iokI4\\\\/yk\\\\/l\\\\/de_DE\\\\/oZwfPwMof-d.js?_nc_x=Ij3Wp8lg5Kz\",\"nc\":1},\"stQT3q3\":{\"type\":\"js\",\"src\":\"https:\\\\/\\\\/static.xx.fbcdn.net\\\\/rsrc.php\\\\/v3isXN4\\\\/yG\\\\/l\\\\/de_DE\\\\/FGliWod8JMo.js?_nc_x=Ij3Wp8lg5Kz\",\"nc\":1},\"w2laMbv\":{\"type\":\"js\",\"src\":\"https:\\\\/\\\\/static.xx.fbcdn.net\\\\/rsrc.php\\\\/v3i2aq4\\\\/yo\\\\/l\\\\/de_DE\\\\/dSLLcIlNbWn.js?_nc_x=Ij3Wp8lg5Kz\",\"nc\":1},\"wdIweH0\":{\"type\":\"js\",\"src\":\"https:\\\\/\\\\/static.xx.fbcdn.net\\\\/rsrc.php\\\\/v3\\\\/y_\\\\/r\\\\/b_qwxctmPk0.js?_nc_x=Ij3Wp8lg5Kz\",\"nc\":1},\"ku6Mjtc\":{\"type\":\"js\",\"src\":\"https:\\\\/\\\\/static.xx.fbcdn.net\\\\/rsrc.php\\\\/v3iCq44\\\\/yf\\\\/l\\\\/de_DE\\\\/09ONkLI9nnQ.js?_nc_x=Ij3Wp8lg5Kz\",\"nc\":1},\"d8yzwqa\":{\"type\":\"css\",\"src\":\"https:\\\\/\\\\/static.xx.fbcdn.net\\\\/rsrc.php\\\\/v3\\\\/yV\\\\/l\\\\/0,cross\\\\/CcrGEvwlWtj.css?_nc_x=Ij3Wp8lg5Kz\",\"nc\":1},\"ZIRMf28\":{\"type\":\"css\",\"src\":\"https:\\\\/\\\\/static.xx.fbcdn.net\\\\/rsrc.php\\\\/v3\\\\/yf\\\\/l\\\\/0,cross\\\\/IeF_-aJ5-Vq.css?_nc_x=Ij3Wp8lg5Kz\",\"nc\":1},\"q1jSZ8c\":{\"type\":\"js\",\"src\":\"https:\\\\/\\\\/static.xx.fbcdn.net\\\\/rsrc.php\\\\/v3\\\\/yH\\\\/r\\\\/F1nWmWaBOeO.js?_nc_x=Ij3Wp8lg5Kz\",\"nc\":1},\"ZlkQP7+\":{\"type\":\"js\",\"src\":\"https:\\\\/\\\\/static.xx.fbcdn.net\\\\/rsrc.php\\\\/v3\\\\/yv\\\\/r\\\\/3KUffhGN8H3.js?_nc_x=Ij3Wp8lg5Kz\",\"nc\":1},\"IpXIrJi\":{\"type\":\"js\",\"src\":\"https:\\\\/\\\\/static.xx.fbcdn.net\\\\/rsrc.php\\\\/v3i_CT4\\\\/yu\\\\/l\\\\/de_DE\\\\/ncjWqpSP9Xx.js?_nc_x=Ij3Wp8lg5Kz\",\"nc\":1},\"FEigLSA\":{\"type\":\"js\",\"src\":\"https:\\\\/\\\\/static.xx.fbcdn.net\\\\/rsrc.php\\\\/v3iJ5s4\\\\/yr\\\\/l\\\\/de_DE\\\\/y_9hcgRbLX2.js?_nc_x=Ij3Wp8lg5Kz\",\"nc\":1},\"I1qg++T\":{\"type\":\"js\",\"src\":\"https:\\\\/\\\\/static.xx.fbcdn.net\\\\/rsrc.php\\\\/v3iy7f4\\\\/ym\\\\/l\\\\/de_DE\\\\/LdHrXX51iI-.js?_nc_x=Ij3Wp8lg5Kz\",\"nc\":1},\"dR6u8Sp\":{\"type\":\"js\",\"src\":\"https:\\\\/\\\\/static.xx.fbcdn.net\\\\/rsrc.php\\\\/v3\\\\/y4\\\\/r\\\\/AVhdpE-MtdA.js?_nc_x=Ij3Wp8lg5Kz\",\"nc\":1},\"K6OOSmn\":{\"type\":\"js\",\"src\":\"https:\\\\/\\\\/static.xx.fbcdn.net\\\\/rsrc.php\\\\/v3i5FV4\\\\/y2\\\\/l\\\\/de_DE\\\\/u1msIePj9VG.js?_nc_x=Ij3Wp8lg5Kz\",\"nc\":1},\"6KMciC2\":{\"type\":\"js\",\"src\":\"https:\\\\/\\\\/static.xx.fbcdn.net\\\\/rsrc.php\\\\/v3\\\\/yx\\\\/r\\\\/ql9OclsYy3a.js?_nc_x=Ij3Wp8lg5Kz\",\"nc\":1},\"rKG2zyv\":{\"type\":\"css\",\"src\":\"https:\\\\/\\\\/static.xx.fbcdn.net\\\\/rsrc.php\\\\/v3\\\\/yx\\\\/l\\\\/0,cross\\\\/pgQBweO_CS1.css?_nc_x=Ij3Wp8lg5Kz\",\"nc\":1},\"nzAKvLy\":{\"type\":\"js\",\"src\":\"https:\\\\/\\\\/static.xx.fbcdn.net\\\\/rsrc.php\\\\/v3\\\\/y7\\\\/r\\\\/6WPJyp5Ha0j.js?_nc_x=Ij3Wp8lg5Kz\",\"nc\":1},\"DeRhuEZ\":{\"type\":\"js\",\"src\":\"https:\\\\/\\\\/static.xx.fbcdn.net\\\\/rsrc.php\\\\/v3\\\\/y4\\\\/r\\\\/fj3A1AFwaOu.js?_nc_x=Ij3Wp8lg5Kz\",\"nc\":1},\"kKatn8g\":{\"type\":\"js\",\"src\":\"https:\\\\/\\\\/static.xx.fbcdn.net\\\\/rsrc.php\\\\/v3iMyO4\\\\/yh\\\\/l\\\\/de_DE\\\\/0gsCyvwY8Hy.js?_nc_x=Ij3Wp8lg5Kz\",\"nc\":1},\"h1nS\\\\/gG\":{\"type\":\"js\",\"src\":\"https:\\\\/\\\\/static.xx.fbcdn.net\\\\/rsrc.php\\\\/v3\\\\/yY\\\\/r\\\\/q5qGX2ltV-8.js?_nc_x=Ij3Wp8lg5Kz\",\"nc\":1},\"giBIZyN\":{\"type\":\"js\",\"src\":\"https:\\\\/\\\\/static.xx.fbcdn.net\\\\/rsrc.php\\\\/v3iXHO4\\\\/ym\\\\/l\\\\/de_DE\\\\/JFjSem_5yiw.js?_nc_x=Ij3Wp8lg5Kz\",\"nc\":1},\"mSRTQ36\":{\"type\":\"css\",\"src\":\"https:\\\\/\\\\/static.xx.fbcdn.net\\\\/rsrc.php\\\\/v3\\\\/yg\\\\/l\\\\/0,cross\\\\/6NZ6OPR4Rrn.css?_nc_x=Ij3Wp8lg5Kz\",\"nc\":1},\"nNxjF+N\":{\"type\":\"js\",\"src\":\"https:\\\\/\\\\/static.xx.fbcdn.net\\\\/rsrc.php\\\\/v3i2aq4\\\\/yv\\\\/l\\\\/de_DE\\\\/EXLBsi07Z2u.js?_nc_x=Ij3Wp8lg5Kz\",\"nc\":1},\"DS3E8XJ\":{\"type\":\"css\",\"src\":\"https:\\\\/\\\\/static.xx.fbcdn.net\\\\/rsrc.php\\\\/v3\\\\/yw\\\\/l\\\\/0,cross\\\\/wC2vlqJHYlb.css?_nc_x=Ij3Wp8lg5Kz\",\"nc\":1},\"IxfMH5O\":{\"type\":\"js\",\"src\":\"https:\\\\/\\\\/static.xx.fbcdn.net\\\\/rsrc.php\\\\/v3\\\\/ye\\\\/r\\\\/flYXc34x6W2.js?_nc_x=Ij3Wp8lg5Kz\",\"nc\":1},\"SJXPor7\":{\"type\":\"js\",\"src\":\"https:\\\\/\\\\/static.xx.fbcdn.net\\\\/rsrc.php\\\\/v3iDUq4\\\\/yq\\\\/l\\\\/de_DE\\\\/96dqZ1pfXsI.js?_nc_x=Ij3Wp8lg5Kz\",\"nc\":1},\"xQ\\\\/bUUR\":{\"type\":\"js\",\"src\":\"https:\\\\/\\\\/static.xx.fbcdn.net\\\\/rsrc.php\\\\/v3ikxg4\\\\/yj\\\\/l\\\\/de_DE\\\\/8IsZTnllNXQ.js?_nc_x=Ij3Wp8lg5Kz\",\"nc\":1},\"5Cj7lAc\":{\"type\":\"css\",\"src\":\"https:\\\\/\\\\/static.xx.fbcdn.net\\\\/rsrc.php\\\\/v3\\\\/yT\\\\/l\\\\/0,cross\\\\/eSy_TxhMZ63.css?_nc_x=Ij3Wp8lg5Kz\",\"nc\":1},\"8wEIGXx\":{\"type\":\"js\",\"src\":\"https:\\\\/\\\\/static.xx.fbcdn.net\\\\/rsrc.php\\\\/v3i38P4\\\\/yu\\\\/l\\\\/de_DE\\\\/mbFhygk6aQb.js?_nc_x=Ij3Wp8lg5Kz\",\"nc\":1},\"tNMZOTl\":{\"type\":\"css\",\"src\":\"https:\\\\/\\\\/static.xx.fbcdn.net\\\\/rsrc.php\\\\/v3\\\\/yx\\\\/l\\\\/0,cross\\\\/8z-ZAXZFvOi.css?_nc_x=Ij3Wp8lg5Kz\",\"nc\":1},\"7I7xwrs\":{\"type\":\"css\",\"src\":\"https:\\\\/\\\\/static.xx.fbcdn.net\\\\/rsrc.php\\\\/v3\\\\/yD\\\\/l\\\\/0,cross\\\\/putcGE9Rwmz.css?_nc_x=Ij3Wp8lg5Kz\",\"nc\":1},\"\\\\/CbZ5T4\":{\"type\":\"js\",\"src\":\"https:\\\\/\\\\/static.xx.fbcdn.net\\\\/rsrc.php\\\\/v3iXF34\\\\/y5\\\\/l\\\\/de_DE\\\\/RBQyTZ_IMRb.js?_nc_x=Ij3Wp8lg5Kz\",\"nc\":1},\"gWMJgTe\":{\"type\":\"js\",\"src\":\"https:\\\\/\\\\/static.xx.fbcdn.net\\\\/rsrc.php\\\\/v3\\\\/yH\\\\/r\\\\/iGksp69foR_.js?_nc_x=Ij3Wp8lg5Kz\",\"nc\":1},\"hIek+bG\":{\"type\":\"js\",\"src\":\"https:\\\\/\\\\/static.xx.fbcdn.net\\\\/rsrc.php\\\\/v3\\\\/yY\\\\/r\\\\/DZ_VBlsy-dC.js?_nc_x=Ij3Wp8lg5Kz\",\"nc\":1},\"Gj8v9L4\":{\"type\":\"js\",\"src\":\"https:\\\\/\\\\/static.xx.fbcdn.net\\\\/rsrc.php\\\\/v3\\\\/yW\\\\/r\\\\/ah4jcC-CgjO.js?_nc_x=Ij3Wp8lg5Kz\",\"nc\":1},\"w2sEt9k\":{\"type\":\"js\",\"src\":\"https:\\\\/\\\\/static.xx.fbcdn.net\\\\/rsrc.php\\\\/v3idj_4\\\\/yw\\\\/l\\\\/de_DE\\\\/tEi-6Gk31uf.js?_nc_x=Ij3Wp8lg5Kz\",\"nc\":1},\"IWEiZcm\":{\"type\":\"js\",\"src\":\"https:\\\\/\\\\/static.xx.fbcdn.net\\\\/rsrc.php\\\\/v3iTfb4\\\\/y_\\\\/l\\\\/de_DE\\\\/3hzIbYxH1zd.js?_nc_x=Ij3Wp8lg5Kz\",\"nc\":1},\"E5USIaf\":{\"type\":\"js\",\"src\":\"https:\\\\/\\\\/static.xx.fbcdn.net\\\\/rsrc.php\\\\/v3izy34\\\\/yK\\\\/l\\\\/de_DE\\\\/XmPxpMlObBk.js?_nc_x=Ij3Wp8lg5Kz\",\"nc\":1},\"8ELCBwH\":{\"type\":\"js\",\"src\":\"https:\\\\/\\\\/static.xx.fbcdn.net\\\\/rsrc.php\\\\/v3\\\\/ye\\\\/r\\\\/VRzSVH5iU-V.js?_nc_x=Ij3Wp8lg5Kz\",\"nc\":1},\"x22Oby4\":{\"type\":\"js\",\"src\":\"https:\\\\/\\\\/static.xx.fbcdn.net\\\\/rsrc.php\\\\/v3\\\\/y0\\\\/r\\\\/fN3cCj7Il4D.js?_nc_x=Ij3Wp8lg5Kz\",\"nc\":1},\"SWx3yNv\":{\"type\":\"js\",\"src\":\"https:\\\\/\\\\/static.xx.fbcdn.net\\\\/rsrc.php\\\\/v3\\\\/yW\\\\/r\\\\/O_SjdcR-xKL.js?_nc_x=Ij3Wp8lg5Kz\",\"nc\":1},\"oE4DofT\":{\"type\":\"js\",\"src\":\"https:\\\\/\\\\/static.xx.fbcdn.net\\\\/rsrc.php\\\\/v3\\\\/yJ\\\\/r\\\\/EejAgnHUad4.js?_nc_x=Ij3Wp8lg5Kz\",\"nc\":1},\"VvVFw8n\":{\"type\":\"js\",\"src\":\"https:\\\\/\\\\/static.xx.fbcdn.net\\\\/rsrc.php\\\\/v3\\\\/yn\\\\/r\\\\/AWepvf-vdZG.js?_nc_x=Ij3Wp8lg5Kz\",\"nc\":1},\"IgTGe9E\":{\"type\":\"js\",\"src\":\"https:\\\\/\\\\/static.xx.fbcdn.net\\\\/rsrc.php\\\\/v3\\\\/yH\\\\/r\\\\/ikWutRjYrXb.js?_nc_x=Ij3Wp8lg5Kz\",\"nc\":1},\"\\\\/rO0lbn\":{\"type\":\"js\",\"src\":\"https:\\\\/\\\\/static.xx.fbcdn.net\\\\/rsrc.php\\\\/v3\\\\/yX\\\\/r\\\\/ENZpdW0JbdZ.js?_nc_x=Ij3Wp8lg5Kz\",\"nc\":1},\"P\\\\/mr5VE\":{\"type\":\"css\",\"src\":\"data:text\\\\/css; charset=utf-8;base64,I2Jvb3Rsb2FkZXJfUF9tcjVWRXtoZWlnaHQ6NDJweDt9LmJvb3Rsb2FkZXJfUF9tcjVWRXtkaXNwbGF5OmJsb2NrIWltcG9ydGFudDt9\",\"nc\":1,\"d\":1}},\"compMap\":{\"ODS\":{\"r\":[\"TaTAE64\",\"hKY0QKT\"],\"be\":1},\"Dock\":{\"r\":[\"r3fI2E9\",\"oQYU4RD\",\"57Kjxlw\",\"PBwNCiF\",\"p4Rgq8O\",\"TaTAE64\",\"SP33HdU\",\"pdabQy+\",\"KsbRs3u\",\"DfsXCw+\",\"xekaW0v\",\"ZVYfqpr\"],\"be\":1},\"WebSpeedInteractionsTypedLogger\":{\"r\":[\"TUxV68S\",\"TaTAE64\",\"xekaW0v\",\"hKY0QKT\"],\"rds\":{\"m\":[\"BanzaiScuba_DEPRECATED\"]},\"be\":1},\"AsyncRequest\":{\"r\":[\"oQYU4RD\",\"TaTAE64\",\"h3ZzAmG\",\"ZVYfqpr\",\"pdabQy+\"],\"rds\":{\"m\":[\"FbtLogging\",\"IntlQtEventFalcoEvent\"],\"r\":[\"xekaW0v\",\"hKY0QKT\"]},\"be\":1},\"DOM\":{\"r\":[\"TaTAE64\",\"ZVYfqpr\",\"pdabQy+\"],\"be\":1},\"Form\":{\"r\":[\"TaTAE64\",\"Z2GjVu9\",\"ZVYfqpr\",\"pdabQy+\"],\"be\":1},\"FormSubmit\":{\"r\":[\"HAYWbBW\",\"oQYU4RD\",\"TaTAE64\",\"Z2GjVu9\",\"h3ZzAmG\",\"ZVYfqpr\",\"pdabQy+\"],\"rds\":{\"m\":[\"FbtLogging\",\"IntlQtEventFalcoEvent\",\"BanzaiScuba_DEPRECATED\"],\"r\":[\"xekaW0v\",\"hKY0QKT\"]},\"be\":1},\"Input\":{\"r\":[\"Z2GjVu9\"],\"be\":1},\"Live\":{\"r\":[\"2\\\\/maQ\\\\/Q\",\"kFnBppc\",\"oQYU4RD\",\"e9ANzw\\\\/\",\"TaTAE64\",\"ZVYfqpr\",\"pdabQy+\"],\"be\":1},\"Toggler\":{\"r\":[\"r3fI2E9\",\"oQYU4RD\",\"p4Rgq8O\",\"TaTAE64\",\"SP33HdU\",\"pdabQy+\",\"DfsXCw+\",\"xekaW0v\",\"ZVYfqpr\"],\"be\":1},\"Tooltip\":{\"r\":[\"R5w1rCJ\",\"r3fI2E9\",\"s7i7aQd\",\"mXT9iat\",\"oQYU4RD\",\"PBwNCiF\",\"MntqcPQ\",\"pxobxcF\",\"TaTAE64\",\"VR2n1nv\",\"IbOceAB\",\"SP33HdU\",\"eMkMxHZ\",\"CGkH4FY\",\"pdabQy+\",\"KsbRs3u\",\"xekaW0v\",\"h3ZzAmG\",\"ZVYfqpr\",\"LwqxiLK\",\"Z2GjVu9\",\"wMN8aPc\"],\"rds\":{\"m\":[\"FbtLogging\",\"IntlQtEventFalcoEvent\",\"PageTransitions\",\"BanzaiScuba_DEPRECATED\",\"Animation\"],\"r\":[\"hKY0QKT\",\"e9ANzw\\\\/\",\"JkwaUcf\",\"p4Rgq8O\"]},\"be\":1},\"URI\":{\"r\":[],\"be\":1},\"trackReferrer\":{\"r\":[],\"rds\":{\"m\":[\"BanzaiScuba_DEPRECATED\"],\"r\":[\"TaTAE64\",\"xekaW0v\",\"hKY0QKT\"]},\"be\":1},\"PhotoTagApproval\":{\"r\":[\"TaTAE64\",\"uyLLtYc\",\"tjmk+0K\",\"ZVYfqpr\",\"pdabQy+\"],\"be\":1},\"PhotoSnowlift\":{\"r\":[\"eEJCqT6\",\"TPVHIx9\",\"R5w1rCJ\",\"XZ6Y9m7\",\"jQ7n\\\\/9j\",\"r3fI2E9\",\"s7i7aQd\",\"mXT9iat\",\"Fq209Lo\",\"jOPXrew\",\"RGsrlBn\",\"FJvGK\\\\/j\",\"PKVfk7b\",\"PrhuiGV\",\"oQYU4RD\",\"iQofKuu\",\"3mc6ybv\",\"PBwNCiF\",\"NWr\\\\/vW9\",\"MntqcPQ\",\"p4Rgq8O\",\"e9ANzw\\\\/\",\"F5tjEaq\",\"b9gpWJj\",\"yC4LZYd\",\"pxobxcF\",\"TaTAE64\",\"VR2n1nv\",\"JkwaUcf\",\"IbOceAB\",\"kOEHvpu\",\"2XuL7fd\",\"1PUV3\\\\/6\",\"WmP7DoF\",\"SP33HdU\",\"uyLLtYc\",\"czkmXhg\",\"eMkMxHZ\",\"ify31BP\",\"S5Rq8Ee\",\"CGkH4FY\",\"pdabQy+\",\"KhbDqLm\",\"Z2GjVu9\",\"KsbRs3u\",\"DfsXCw+\",\"vWTQYq7\",\"0JnoQHF\",\"xekaW0v\",\"wMN8aPc\",\"h3ZzAmG\",\"9u2EKg6\",\"XL4AU6s\",\"hKY0QKT\",\"Z8z6Yo0\",\"ZVYfqpr\",\"rTU+JXy\",\"pFtDLZW\",\"UIgvlg8\",\"wDtmqP9\",\"stQT3q3\",\"w2laMbv\",\"LwqxiLK\",\"wdIweH0\"],\"rds\":{\"m\":[\"Animation\",\"VisualCompletionGating\",\"FbtLogging\",\"IntlQtEventFalcoEvent\",\"BanzaiScuba_DEPRECATED\",\"PageTransitions\"]},\"be\":1},\"PhotoTagger\":{\"r\":[\"TPVHIx9\",\"ku6Mjtc\",\"d8yzwqa\",\"ZIRMf28\",\"R5w1rCJ\",\"XZ6Y9m7\",\"q1jSZ8c\",\"ZlkQP7+\",\"r3fI2E9\",\"s7i7aQd\",\"mXT9iat\",\"jOPXrew\",\"IpXIrJi\",\"RGsrlBn\",\"kFnBppc\",\"FEigLSA\",\"I1qg++T\",\"dR6u8Sp\",\"PKVfk7b\",\"PrhuiGV\",\"oQYU4RD\",\"iQofKuu\",\"PBwNCiF\",\"NWr\\\\/vW9\",\"MntqcPQ\",\"p4Rgq8O\",\"e9ANzw\\\\/\",\"F5tjEaq\",\"K6OOSmn\",\"b9gpWJj\",\"pxobxcF\",\"TaTAE64\",\"6KMciC2\",\"rKG2zyv\",\"nzAKvLy\",\"VR2n1nv\",\"JkwaUcf\",\"DeRhuEZ\",\"kKatn8g\",\"IbOceAB\",\"kOEHvpu\",\"h1nS\\\\/gG\",\"1PUV3\\\\/6\",\"WmP7DoF\",\"giBIZyN\",\"SP33HdU\",\"uyLLtYc\",\"mSRTQ36\",\"czkmXhg\",\"eMkMxHZ\",\"nNxjF+N\",\"ify31BP\",\"CGkH4FY\",\"pdabQy+\",\"Z2GjVu9\",\"DS3E8XJ\",\"IxfMH5O\",\"KsbRs3u\",\"DfsXCw+\",\"0JnoQHF\",\"xekaW0v\",\"wMN8aPc\",\"h3ZzAmG\",\"9u2EKg6\",\"tjmk+0K\",\"XL4AU6s\",\"hKY0QKT\",\"ZVYfqpr\",\"SJXPor7\",\"xQ\\\\/bUUR\",\"rTU+JXy\",\"5Cj7lAc\",\"8wEIGXx\",\"tNMZOTl\",\"7I7xwrs\",\"w2laMbv\",\"\\\\/CbZ5T4\",\"LwqxiLK\",\"wdIweH0\"],\"rds\":{\"m\":[\"FbtLogging\",\"IntlQtEventFalcoEvent\",\"BanzaiScuba_DEPRECATED\",\"PageTransitions\",\"Animation\"]},\"be\":1},\"PhotoTags\":{\"r\":[\"TaTAE64\",\"uyLLtYc\",\"xekaW0v\",\"tjmk+0K\",\"ZVYfqpr\",\"pdabQy+\"],\"be\":1},\"TagTokenizer\":{\"r\":[\"r3fI2E9\",\"F5tjEaq\",\"K6OOSmn\",\"TaTAE64\",\"SP33HdU\",\"pdabQy+\",\"Z2GjVu9\",\"xekaW0v\",\"h3ZzAmG\",\"9u2EKg6\",\"tjmk+0K\",\"ZVYfqpr\",\"SJXPor7\",\"xQ\\\\/bUUR\",\"wDtmqP9\"],\"rds\":{\"m\":[\"FbtLogging\",\"IntlQtEventFalcoEvent\"],\"r\":[\"hKY0QKT\"]},\"be\":1},\"AsyncDialog\":{\"r\":[\"R5w1rCJ\",\"r3fI2E9\",\"s7i7aQd\",\"mXT9iat\",\"RGsrlBn\",\"oQYU4RD\",\"PBwNCiF\",\"NWr\\\\/vW9\",\"MntqcPQ\",\"p4Rgq8O\",\"TaTAE64\",\"JkwaUcf\",\"SP33HdU\",\"eMkMxHZ\",\"pdabQy+\",\"Z2GjVu9\",\"KsbRs3u\",\"DfsXCw+\",\"vWTQYq7\",\"xekaW0v\",\"h3ZzAmG\",\"9u2EKg6\",\"hKY0QKT\",\"ZVYfqpr\",\"LwqxiLK\",\"wdIweH0\"],\"rds\":{\"m\":[\"FbtLogging\",\"IntlQtEventFalcoEvent\"]},\"be\":1},\"Hovercard\":{\"r\":[\"R5w1rCJ\",\"r3fI2E9\",\"s7i7aQd\",\"mXT9iat\",\"RGsrlBn\",\"oQYU4RD\",\"PBwNCiF\",\"MntqcPQ\",\"p4Rgq8O\",\"pxobxcF\",\"TaTAE64\",\"VR2n1nv\",\"IbOceAB\",\"h1nS\\\\/gG\",\"1PUV3\\\\/6\",\"WmP7DoF\",\"SP33HdU\",\"czkmXhg\",\"eMkMxHZ\",\"nNxjF+N\",\"CGkH4FY\",\"pdabQy+\",\"Z2GjVu9\",\"DS3E8XJ\",\"KsbRs3u\",\"xekaW0v\",\"h3ZzAmG\",\"9u2EKg6\",\"hKY0QKT\",\"ZVYfqpr\",\"LwqxiLK\",\"wMN8aPc\"],\"rds\":{\"m\":[\"FbtLogging\",\"IntlQtEventFalcoEvent\",\"BanzaiScuba_DEPRECATED\",\"PageTransitions\",\"Animation\"],\"r\":[\"e9ANzw\\\\/\",\"JkwaUcf\"]},\"be\":1},\"XSalesPromoWWWDetailsDialogAsyncController\":{\"r\":[\"gWMJgTe\"],\"be\":1},\"XOfferController\":{\"r\":[\"hIek+bG\"],\"be\":1},\"PerfXSharedFields\":{\"r\":[\"TaTAE64\",\"xekaW0v\"],\"be\":1},\"KeyEventTypedLogger\":{\"r\":[\"Gj8v9L4\",\"TaTAE64\",\"xekaW0v\",\"hKY0QKT\"],\"rds\":{\"m\":[\"BanzaiScuba_DEPRECATED\"]},\"be\":1},\"Dialog\":{\"r\":[\"r3fI2E9\",\"RGsrlBn\",\"oQYU4RD\",\"PBwNCiF\",\"MntqcPQ\",\"p4Rgq8O\",\"yC4LZYd\",\"TaTAE64\",\"WmP7DoF\",\"SP33HdU\",\"pdabQy+\",\"Z2GjVu9\",\"xekaW0v\",\"h3ZzAmG\",\"ZVYfqpr\",\"R5w1rCJ\",\"mXT9iat\",\"e9ANzw\\\\/\",\"JkwaUcf\",\"eMkMxHZ\",\"KsbRs3u\",\"wMN8aPc\"],\"rds\":{\"m\":[\"FbtLogging\",\"IntlQtEventFalcoEvent\",\"Animation\",\"PageTransitions\",\"BanzaiScuba_DEPRECATED\"],\"r\":[\"hKY0QKT\"]},\"be\":1},\"ExceptionDialog\":{\"r\":[\"R5w1rCJ\",\"r3fI2E9\",\"s7i7aQd\",\"mXT9iat\",\"RGsrlBn\",\"PKVfk7b\",\"oQYU4RD\",\"PBwNCiF\",\"NWr\\\\/vW9\",\"MntqcPQ\",\"w2sEt9k\",\"p4Rgq8O\",\"pxobxcF\",\"TaTAE64\",\"JkwaUcf\",\"IWEiZcm\",\"SP33HdU\",\"eMkMxHZ\",\"pdabQy+\",\"Z2GjVu9\",\"KsbRs3u\",\"DfsXCw+\",\"vWTQYq7\",\"xekaW0v\",\"h3ZzAmG\",\"9u2EKg6\",\"XL4AU6s\",\"hKY0QKT\",\"ZVYfqpr\",\"SJXPor7\",\"LwqxiLK\"],\"rds\":{\"m\":[\"FbtLogging\",\"IntlQtEventFalcoEvent\"]},\"be\":1},\"QuickSandSolver\":{\"r\":[\"oQYU4RD\",\"E5USIaf\",\"8ELCBwH\",\"TaTAE64\",\"x22Oby4\",\"JkwaUcf\",\"SWx3yNv\",\"Z2GjVu9\",\"0JnoQHF\",\"h3ZzAmG\",\"ZVYfqpr\",\"pdabQy+\"],\"rds\":{\"m\":[\"FbtLogging\",\"IntlQtEventFalcoEvent\"],\"r\":[\"xekaW0v\",\"hKY0QKT\"]},\"be\":1},\"ConfirmationDialog\":{\"r\":[\"TaTAE64\",\"oE4DofT\",\"Z2GjVu9\",\"xekaW0v\",\"ZVYfqpr\",\"pdabQy+\"],\"be\":1},\"QPLInspector\":{\"r\":[\"VvVFw8n\"],\"be\":1}}})});</script>\\n<script>requireLazy([\"InitialJSLoader\"], function(InitialJSLoader) {InitialJSLoader.loadOnDOMContentReady([\"oQYU4RD\",\"IgTGe9E\",\"xekaW0v\",\"TaTAE64\",\"ZVYfqpr\",\"hKY0QKT\",\"iQofKuu\",\"h3ZzAmG\",\"JkwaUcf\",\"\\\\/rO0lbn\",\"Z2GjVu9\",\"SP33HdU\",\"P\\\\/mr5VE\"]);});</script>\\n<script>requireLazy([\"TimeSliceImpl\",\"ServerJS\"],function(TimeSlice,ServerJS){var s=(new ServerJS());s.handle({\"define\":[[\"LinkshimHandlerConfig\",[],{\"supports_meta_referrer\":false,\"default_meta_referrer_policy\":\"default\",\"switched_meta_referrer_policy\":\"origin\",\"non_linkshim_lnfb_mode\":\"ie\",\"link_react_default_hash\":\"AT1NlmOiYWA_MrO0za1wRV_zbIdOjkAsjjeetTZoEnaH8NjjjhrHuA7hHH8zAOH759ydWOgZ8YZUceirBlzbYp-Pz6pW-vFJqn6m5uoqMWT4JoqvAtMjWMQjYLugaJj4j6yIYfuG3LBGprsTrPAuv6i5KQ8Wp0nL\",\"untrusted_link_default_hash\":\"AT3MkH-xYOGQ6Hl5HonhluYWgsL5v5fRjNt5UKcX6NuaTt5GIMb0ZS0YaJGQl9aeNLX_x11dMUzKjDhl6axCzxrSE_CPgPxWWHhWeptgspTf64taUnhm-BHKHkK8Hsx46a6KgbTIqh4ON46fQ7CXv-LyFpWh5NHI\",\"linkshim_host\":\"l.facebook.com\",\"linkshim_path\":\"\\\\/l.php\",\"linkshim_enc_param\":\"h\",\"linkshim_url_param\":\"u\",\"use_rel_no_opener\":false,\"always_use_https\":false,\"onion_always_shim\":true,\"middle_click_requires_event\":false,\"www_safe_js_mode\":\"hover\",\"m_safe_js_mode\":null,\"ghl_param_link_shim\":false,\"click_ids\":[],\"is_linkshim_supported\":true,\"current_domain\":\"facebook.com\",\"blocklisted_domains\":[\"ad.doubleclick.net\",\"ads-encryption-url-example.com\",\"bs.serving-sys.com\",\"ad.atdmt.com\",\"adform.net\",\"ad13.adfarm1.adition.com\",\"ilovemyfreedoms.com\",\"secure.adnxs.com\"],\"is_mobile_device\":false},27]],\"elements\":[[\"__elem_a588f507_0_1_Dz\",\"u_0_1_am\",1],[\"__elem_a588f507_0_0_Rp\",\"globalContainer\",2],[\"__elem_a588f507_0_2_YW\",\"content\",1],[\"__elem_835c633a_0_0_4w\",\"u_0_2_M6\",1],[\"__elem_9f5fac15_0_0_77\",\"passContainer\",1],[\"__elem_558608f3_0_0_f7\",\"pass\",1],[\"__elem_a588f507_0_3_Lt\",\"u_0_3_bq\",1],[\"__elem_a588f507_0_4_C2\",\"u_0_4_WH\",1],[\"__elem_45d73b5d_0_0_lr\",\"u_0_5_7Y\",1]],\"require\":[[\"ServiceWorkerLoginAndLogout\",\"login\",[],[]],[\"WebPixelRatioDetector\",\"startDetecting\",[],[false]],[\"ScriptPath\",\"set\",[],[\"XIndexReduxController\",\"a1f3c513\",{\"imp_id\":\"13CHzuE2lIFkbS9fI\",\"ef_page\":null,\"uri\":\"https:\\\\/\\\\/www.facebook.com\\\\/\"}]],[\"UITinyViewportAction\",\"init\",[],[]],[\"ResetScrollOnUnload\",\"init\",[\"__elem_a588f507_0_0_Rp\"],[{\"__m\":\"__elem_a588f507_0_0_Rp\"}]],[\"AccessibilityWebVirtualCursorClickLogger\",\"init\",[\"__elem_a588f507_0_0_Rp\"],[[{\"__m\":\"__elem_a588f507_0_0_Rp\"}]]],[\"KeyboardActivityLogger\",\"init\",[],[]],[\"FocusRing\",\"init\",[],[]],[\"ErrorMessageConsole\",\"listenForUncaughtErrors\",[],[]],[\"HardwareCSS\",\"init\",[],[]],[\"LoginFormController\",\"init\",[\"__elem_835c633a_0_0_4w\",\"__elem_45d73b5d_0_0_lr\"],[{\"__m\":\"__elem_835c633a_0_0_4w\"},{\"__m\":\"__elem_45d73b5d_0_0_lr\"},null,true,{\"pubKey\":{\"publicKey\":\"284f0499b4cf0cf7230e11fa104873e9e715cdc0206e48b378481125b07b4469\",\"keyId\":168}}]],[\"BrowserPrefillLogging\",\"initContactpointFieldLogging\",[],[{\"contactpointFieldID\":\"email\",\"serverPrefill\":\"\"}]],[\"BrowserPrefillLogging\",\"initPasswordFieldLogging\",[],[{\"passwordFieldID\":\"pass\"}]],[\"FocusListener\"],[\"FlipDirectionOnKeypress\"],[\"LoginFormToggle\",\"initToggle\",[\"__elem_a588f507_0_3_Lt\",\"__elem_a588f507_0_4_C2\",\"__elem_558608f3_0_0_f7\",\"__elem_9f5fac15_0_0_77\"],[{\"__m\":\"__elem_a588f507_0_3_Lt\"},{\"__m\":\"__elem_a588f507_0_4_C2\"},{\"__m\":\"__elem_558608f3_0_0_f7\"},{\"__m\":\"__elem_9f5fac15_0_0_77\"}]],[\"IntlUtils\"],[\"FBLynx\",\"setupDelegation\",[],[]],[\"RequireDeferredReference\",\"unblock\",[],[[\"BanzaiScuba_DEPRECATED\",\"FbtLogging\",\"IntlQtEventFalcoEvent\"],\"sd\"]],[\"RequireDeferredReference\",\"unblock\",[],[[\"BanzaiScuba_DEPRECATED\",\"FbtLogging\",\"IntlQtEventFalcoEvent\"],\"css\"]],[\"TimeSliceImpl\"],[\"HasteSupportData\"],[\"ServerJS\"],[\"Run\"],[\"InitialJSLoader\"]],\"contexts\":[[{\"__m\":\"__elem_a588f507_0_1_Dz\"},true],[{\"__m\":\"__elem_a588f507_0_2_YW\"},true]]});requireLazy([\"Run\"],function(Run){Run.onAfterLoad(function(){s.cleanup(TimeSlice)})});});</script>\\n<script>now_inl=(function(){var p=window.performance;return p&&p.now&&p.timing&&p.timing.navigationStart?function(){return p.now()+p.timing.navigationStart}:function(){return new Date().getTime()};})();window.__bigPipeFR=now_inl();</script>\\n<link rel=\"preload\" href=\"https://static.xx.fbcdn.net/rsrc.php/v3/y6/l/0,cross/f1tj5yNIYnm.css?_nc_x=Ij3Wp8lg5Kz\" as=\"style\" />\\n<link rel=\"preload\" href=\"https://static.xx.fbcdn.net/rsrc.php/v3/yQ/l/0,cross/yMKEcDd0yly.css?_nc_x=Ij3Wp8lg5Kz\" as=\"style\" />\\n<link rel=\"preload\" href=\"https://static.xx.fbcdn.net/rsrc.php/v3/yB/l/0,cross/PKjdhOwG2yu.css?_nc_x=Ij3Wp8lg5Kz\" as=\"style\" />\\n<link rel=\"preload\" href=\"https://static.xx.fbcdn.net/rsrc.php/v3/yB/l/0,cross/nxKGLHNWtQO.css?_nc_x=Ij3Wp8lg5Kz\" as=\"style\" />\\n<link rel=\"preload\" href=\"https://static.xx.fbcdn.net/rsrc.php/v3/yM/l/0,cross/xwoGO_LhxOx.css?_nc_x=Ij3Wp8lg5Kz\" as=\"style\" />\\n<link rel=\"preload\" href=\"https://static.xx.fbcdn.net/rsrc.php/v3iN_84/yr/l/de_DE/l11Up9PAMkG.js?_nc_x=Ij3Wp8lg5Kz\" as=\"script\" nonce=\"lnCtRjZW\" />\\n<link rel=\"preload\" href=\"https://static.xx.fbcdn.net/rsrc.php/v3/yL/r/H_Yj4wl2VrJ.js?_nc_x=Ij3Wp8lg5Kz\" as=\"script\" nonce=\"lnCtRjZW\" />\\n<link rel=\"preload\" href=\"https://static.xx.fbcdn.net/rsrc.php/v3/y6/r/CmoyEePtlsH.js?_nc_x=Ij3Wp8lg5Kz\" as=\"script\" nonce=\"lnCtRjZW\" />\\n<link rel=\"preload\" href=\"https://static.xx.fbcdn.net/rsrc.php/v3/yj/r/w8iOGQ_Hw3c.js?_nc_x=Ij3Wp8lg5Kz\" as=\"script\" nonce=\"lnCtRjZW\" />\\n<link rel=\"preload\" href=\"https://static.xx.fbcdn.net/rsrc.php/v3/yv/r/GG1Y0sYc7My.js?_nc_x=Ij3Wp8lg5Kz\" as=\"script\" nonce=\"lnCtRjZW\" />\\n<link rel=\"preload\" href=\"https://static.xx.fbcdn.net/rsrc.php/v3/yv/r/RjhKWb49ycQ.js?_nc_x=Ij3Wp8lg5Kz\" as=\"script\" nonce=\"lnCtRjZW\" />\\n<link rel=\"preload\" href=\"https://static.xx.fbcdn.net/rsrc.php/v3/yr/l/0,cross/u4xvA0Tw-4L.css?_nc_x=Ij3Wp8lg5Kz\" as=\"style\" />\\n<script>window.__bigPipeCtor=now_inl();requireLazy([\"BigPipe\"],function(BigPipe){define(\"__bigPipe\",[],window.bigPipe=new BigPipe({\"forceFinish\":true,\"config\":{\"flush_pagelets_asap\":true,\"dispatch_pagelet_replayable_actions\":false}}));});</script>\\n<script nonce=\"lnCtRjZW\">(function(){var n=now_inl();requireLazy([\"__bigPipe\"],function(bigPipe){bigPipe.beforePageletArrive(\"first_response\",n);})})();</script>\\n<script nonce=\"lnCtRjZW\">requireLazy([\"__bigPipe\"],(function(bigPipe){bigPipe.onPageletArrive({displayResources:[\"lCj3VmH\",\"pdabQy+\",\"KhbDqLm\",\"pxobxcF\",\"RGsrlBn\",\"oQYU4RD\",\"TaTAE64\",\"JkwaUcf\",\"h3ZzAmG\",\"hKY0QKT\",\"ZVYfqpr\",\"Yo2UzOh\",\"P/mr5VE\"],id:\"first_response\",phase:0,last_in_phase:true,tti_phase:0,all_phases:[63],hsrp:{hblp:{consistency:{rev:1006538132}}},allResources:[\"oQYU4RD\",\"IgTGe9E\",\"xekaW0v\",\"TaTAE64\",\"ZVYfqpr\",\"hKY0QKT\",\"iQofKuu\",\"h3ZzAmG\",\"lCj3VmH\",\"pdabQy+\",\"KhbDqLm\",\"pxobxcF\",\"RGsrlBn\",\"JkwaUcf\",\"Yo2UzOh\",\"/rO0lbn\",\"Z2GjVu9\",\"SP33HdU\",\"P/mr5VE\"]});}));</script>\\n<script>requireLazy([\"__bigPipe\"],function(bigPipe){bigPipe.setPageID(\"7161914128243142493\")});</script><script nonce=\"lnCtRjZW\">(function(){var n=now_inl();requireLazy([\"__bigPipe\"],function(bigPipe){bigPipe.beforePageletArrive(\"last_response\",n);})})();</script>\\n<script nonce=\"lnCtRjZW\">requireLazy([\"__bigPipe\"],(function(bigPipe){bigPipe.onPageletArrive({displayResources:[\"hKY0QKT\"],id:\"last_response\",phase:63,last_in_phase:true,the_end:true,jsmods:{define:[[\"TimeSliceInteractionSV\",[],{on_demand_reference_counting:true,on_demand_profiling_counters:true,default_rate:1000,lite_default_rate:100,interaction_to_lite_coinflip:{ADS_INTERFACES_INTERACTION:0,ads_perf_scenario:0,ads_wait_time:0,Event:1},interaction_to_coinflip:{ADS_INTERFACES_INTERACTION:1,ads_perf_scenario:1,ads_wait_time:1,Event:100},enable_heartbeat:true,maxBlockMergeDuration:0,maxBlockMergeDistance:0,enable_banzai_stream:true,user_timing_coinflip:50,banzai_stream_coinflip:0,compression_enabled:true,ref_counting_fix:false,ref_counting_cont_fix:false,also_record_new_timeslice_format:false,force_async_request_tracing_on:false},2609],[\"cr:1642797\",[\"BanzaiBase\"],{__rc:[\"BanzaiBase\",\"Aa2ZFHZaogGevNqkRxX5yMLwH6wEYGzWxd03iRbB3L2MDiGlFIuwncbPU1B1GYqj7RYArUxz9nRhPDSgCy-6Rs-u1EE\"]},-1],[\"cr:1458113\",[],{__rc:[null,\"Aa1bZk5y728iqKhmOCCLmwrAIgJEYaYmprjyMKARG8Isp_0Asad36C_woD6JieDqKELFp1JMigPeaKBazxwb-FSFvzU4mT4\"]},-1],[\"cr:1069930\",[],{__rc:[null,\"Aa2ZFHZaogGevNqkRxX5yMLwH6wEYGzWxd03iRbB3L2MDiGlFIuwncbPU1B1GYqj7RYArUxz9nRhPDSgCy-6Rs-u1EE\"]},-1],[\"cr:1083116\",[\"XAsyncRequest\"],{__rc:[\"XAsyncRequest\",\"Aa2ZFHZaogGevNqkRxX5yMLwH6wEYGzWxd03iRbB3L2MDiGlFIuwncbPU1B1GYqj7RYArUxz9nRhPDSgCy-6Rs-u1EE\"]},-1],[\"cr:1083117\",[],{__rc:[null,\"Aa2ZFHZaogGevNqkRxX5yMLwH6wEYGzWxd03iRbB3L2MDiGlFIuwncbPU1B1GYqj7RYArUxz9nRhPDSgCy-6Rs-u1EE\"]},-1],[\"BanzaiConfig\",[],{MAX_SIZE:10000,MAX_WAIT:150000,MIN_WAIT:null,RESTORE_WAIT:150000,blacklist:[\"time_spent\"],disabled:false,gks:{boosted_pagelikes:true,mercury_send_error_logging:true,platform_oauth_client_events:true,graphexplorer:true,sticker_search_ranking:true},known_routes:[\"artillery_javascript_actions\",\"artillery_javascript_trace\",\"artillery_logger_data\",\"logger\",\"falco\",\"gk2_exposure\",\"js_error_logging\",\"loom_trace\",\"marauder\",\"perfx_custom_logger_endpoint\",\"qex\",\"require_cond_exposure_logging\"],should_drop_unknown_routes:true,should_log_unknown_routes:false},7],[\"cr:692209\",[\"cancelIdleCallbackBlue\"],{__rc:[\"cancelIdleCallbackBlue\",\"Aa2ZFHZaogGevNqkRxX5yMLwH6wEYGzWxd03iRbB3L2MDiGlFIuwncbPU1B1GYqj7RYArUxz9nRhPDSgCy-6Rs-u1EE\"]},-1],[\"TrackingConfig\",[],{domain:\"https://pixel.facebook.com\"},325],[\"WebDevicePerfInfoData\",[],{needsFullUpdate:true,needsPartialUpdate:false,shouldLogResourcePerf:false},3977],[\"WebStorageMonsterLoggingURI\",[],{uri:\"/ajax/webstorage/process_keys/?state=1\"},3032],[\"BrowserPaymentHandlerConfig\",[],{enabled:false},3904],[\"TimeSpentConfig\",[],{delay:1000,timeout:64,\"0_delay\":0,\"0_timeout\":8},142],[\"cr:1351741\",[\"CometEventListener\"],{__rc:[\"CometEventListener\",\"Aa1996Sa-8ogAmXi06ls76utOLx-VugLNvARCW8rtpbZM1zKgidPBmkD4anDacBHEo5xhjyJWtkYv1VTB_1umF7gRHCHbTqDQBHzTgmbapBst4mrhMjh\"]},-1],[\"cr:1634616\",[\"UserActivityBlue\"],{__rc:[\"UserActivityBlue\",\"Aa2ZFHZaogGevNqkRxX5yMLwH6wEYGzWxd03iRbB3L2MDiGlFIuwncbPU1B1GYqj7RYArUxz9nRhPDSgCy-6Rs-u1EE\"]},-1],[\"cr:1353359\",[\"EventListenerImplForBlue\"],{__rc:[\"EventListenerImplForBlue\",\"Aa3fAsJJPzA1SFJzDfi0dg_DIl2xq6zruE0_qY1H9VVCLwY-DPKaNNYCYveZTq_SNiT_EqFF8qbCLvnYHYgBKT3XaATOTY1aLg\"]},-1],[\"cr:844180\",[\"TimeSpentImmediateActiveSecondsLoggerBlue\"],{__rc:[\"TimeSpentImmediateActiveSecondsLoggerBlue\",\"Aa2ZFHZaogGevNqkRxX5yMLwH6wEYGzWxd03iRbB3L2MDiGlFIuwncbPU1B1GYqj7RYArUxz9nRhPDSgCy-6Rs-u1EE\"]},-1],[\"cr:1187159\",[\"BlueCompatBroker\"],{__rc:[\"BlueCompatBroker\",\"Aa2ZFHZaogGevNqkRxX5yMLwH6wEYGzWxd03iRbB3L2MDiGlFIuwncbPU1B1GYqj7RYArUxz9nRhPDSgCy-6Rs-u1EE\"]},-1],[\"ImmediateActiveSecondsConfig\",[],{sampling_rate:0},423]],require:[[\"BDClientSignalCollectionTrigger\",\"startSignalCollection\",[],[{sc:\"{\\\\\"t\\\\\":1659080345,\\\\\"c\\\\\":[[30000,838801],[30001,838801],[30002,838801],[30003,838801],[30004,838801],[30005,838801],[30006,573585],[30007,838801],[30008,838801],[30012,838801],[30013,838801],[30015,806033],[30018,806033],[30021,540823],[30022,540817],[30040,806033],[30093,806033],[30094,806033],[30095,806033],[30101,541591],[30102,541591],[30103,541591],[30104,541591],[30106,806039],[30107,806039],[38000,541427],[38001,806643]]}\",fds:60,fda:60,i:60,sbs:1,dbs:100,bbs:100,hbi:60,rt:262144,hbcbc:2,hbvbc:0,hbbi:30,sid:-1,hbv:\"6512225938181090281\"}]],[\"NavigationMetrics\",\"setPage\",[],[{page:\"XIndexReduxController\",page_type:\"normal\",page_uri:\"https://www.facebook.com/\",serverLID:\"7161914128243142493\"}]],[\"FalcoLoggerTransports\",\"attach\",[],[]],[\"DimensionTracking\"],[\"ClickRefLogger\"],[\"DetectBrokenProxyCache\",\"run\",[],[0,\"c_user\"]],[\"NavigationClickPointHandler\"],[\"WebDevicePerfInfoLogging\",\"doLog\",[],[]],[\"WebStorageMonster\",\"schedule\",[],[]],[\"Artillery\",\"disable\",[],[]],[\"ScriptPathLogger\",\"startLogging\",[],[]],[\"TimeSpentBitArrayLogger\",\"init\",[],[]],[\"CookieCore\",\"setWithoutChecksIfFirstPartyContext\",[],[\"_js_datr\",\"9DpkY3721Ydk2tBo3Lc8-TfG\",63072000000,\"/\",true]]]},hsrp:{hsdp:{clpData:{\"1743095\":{r:1,s:1},\"1871697\":{r:1,s:1},\"1829319\":{r:1},\"1829320\":{r:1},\"1843988\":{r:1}},gkxData:{\"1652843\":{result:false,hash:\"AT6uh9NWRY4QEQoYWeQ\"},\"5541\":{result:true,hash:\"AT70V-Q_zfEykznOuEo\"},\"1099893\":{result:false,hash:\"AT5kly2LSZV_DKGRVJw\"}}},hblp:{consistency:{rev:1006538132},rsrcMap:{pNJvwzH:{type:\"js\",src:\"https://static.xx.fbcdn.net/rsrc.php/v3/y-/r/0fOFvTzRKm5.js?_nc_x=Ij3Wp8lg5Kz\",nc:1},zPYlTyl:{type:\"js\",src:\"https://static.xx.fbcdn.net/rsrc.php/v3/yO/r/pslzeMSEB_a.js?_nc_x=Ij3Wp8lg5Kz\",nc:1},wL2J9cL:{type:\"js\",src:\"https://static.xx.fbcdn.net/rsrc.php/v3/yH/r/xXDOO3oMCfl.js?_nc_x=Ij3Wp8lg5Kz\",nc:1}},compMap:{TransportSelectingClientSingleton:{r:[\"0JnoQHF\",\"pNJvwzH\"],rds:{m:[\"ContextualConfig\",\"BladeRunnerClient\",\"DGWRequestStreamClient\",\"MqttLongPollingRunner\",\"BanzaiScuba_DEPRECATED\"],r:[\"PrhuiGV\",\"TaTAE64\",\"S5Rq8Ee\",\"JkwaUcf\",\"xekaW0v\",\"hKY0QKT\",\"ZVYfqpr\",\"TPVHIx9\"]},be:1},RequestStreamCommonRequestStreamCommonTypes:{r:[\"0JnoQHF\"],be:1}}}},allResources:[\"zPYlTyl\",\"TaTAE64\",\"wL2J9cL\",\"xekaW0v\",\"kFnBppc\",\"PrhuiGV\",\"PBwNCiF\",\"TPVHIx9\",\"oQYU4RD\",\"ZVYfqpr\",\"h3ZzAmG\",\"hKY0QKT\"]});}));</script></body></html>'"
      ]
     },
     "execution_count": 8,
     "metadata": {},
     "output_type": "execute_result"
    }
   ],
   "source": [
    "def url_contents(url):\n",
    "    contents = request.urlopen(url).read().decode(\"utf8\")\n",
    "    return contents\n",
    "\n",
    "url_contents(\"http://facebook.com/\")"
   ]
  },
  {
   "cell_type": "markdown",
   "metadata": {},
   "source": [
    "☼ Save some text into a file corpus.txt. Define a function load(f) that reads from the file named in its sole argument, and returns a string containing the text of the file."
   ]
  },
  {
   "cell_type": "code",
   "execution_count": 9,
   "metadata": {},
   "outputs": [],
   "source": [
    "text =\"\"\"\n",
    "Beim Stern, wenn er heruntersaust!\t[53:1]\n",
    "Euer Gefährte ist weder verwirrt, noch befindet er sich im Unrecht ,\t[53:2]\n",
    "noch spricht er aus Begierde.\t[53:3]\n",
    "Vielmehr ist es eine Offenbarung, die (ihm) eingegeben wird.\t[53:4]\n",
    "Gelehrt hat ihn einer, der über starke Macht verfügt ,\t[53:5]\n",
    "dessen Macht sich auf alles erstreckt; darum stand er aufrecht da ,\t[53:6]\n",
    "als er am obersten Horizont war.\t[53:7]\n",
    "Hierauf näherte er sich; kam dann nach unten ,\t[53:8]\n",
    "bis er eine Entfernung von zwei Bogenlängen erreicht hatte oder noch näher.\t[53:9]\n",
    "Und er offenbarte Seinem Diener, was er offenbarte.\t[53:10]\n",
    "(Und) dessen Herz hielt es nicht für gelogen, was er sah.\t[53:11]\n",
    "Wollt ihr da mit ihm über das streiten, was er sah?\t[53:12]\n",
    "Und er sah ihn bei einer anderen Begegnung\t[53:13]\n",
    "beim Lotusbaum am äußersten Ende ,\t[53:14]\n",
    "an dem das Paradies der Geborgenheit liegt.\t[53:15]\n",
    "Dabei überflutete den Lotusbaum, was (ihn) überflutete.\t[53:16]\n",
    "Da wankte der Blick nicht, noch schweifte er ab.\t[53:17]\n",
    "Wahrlich, er hatte eines der größten Zeichen seines Herrn gesehen.\t[53:18]\n",
    "Was haltet ihr nun von Al-Lat und Al-'Uzza\t[53:19]\n",
    "und Manah, der dritten der anderen?\t[53:20]\n",
    "Wie? Sollten euch die Knaben zustehen und Ihm die Mädchen?\t[53:21]\n",
    "Das wäre wahrhaftig eine unbillige Verteilung.\t[53:22]\n",
    "Wahrlich, es sind nur die Namen, die ihr euch ausgedacht habt - ihr und eure Väter -, für die Allah keinerlei Ermächtigung herabgesandt hat. Sie folgen einem bloßen Wahn und ihren persönlichen Neigungen, obwohl doch die Weisung ihres Herrn zu ihnen kam.\t[53:23]\n",
    "Kann der Mensch denn haben, was er nur wünscht?\t[53:24]\n",
    "Aber Allahs ist das Diesseits und das Jenseits.\t[53:25]\n",
    "Und so mancher Engel ist in den Himmeln, dessen Fürsprache nichts nützen wird, es sei denn, nachdem Allah dem die Erlaubnis (dazu) gegeben hat, dem Er will und der Ihm beliebt.\t[53:26]\n",
    "Solche, die nicht an das Jenseits glauben, benennen die Engel mit weiblichen Namen.\t[53:27]\n",
    "Jedoch sie besitzen kein Wissen hiervon. Sie gehen nur Vermutungen nach; und Vermutungen ersetzen nicht im geringsten die Wahrheit.\t[53:28]\n",
    "Darum wende dich von dem ab, der Unserer Ermahnung den Rücken kehrt und nichts als das Leben in dieser Welt begehrt.\t[53:29]\n",
    "Das ist die Summe ihres Wissens. Wahrlich, dein Herr kennt denjenigen recht wohl, der von Seinem Wege abirrt, und Er kennt auch jenen wohl, der den Weg befolgt.\t[53:30]\n",
    "Und Allahs ist, was in den Himmeln und was auf Erden ist, auf daß Er denen, die Böses tun, ihren Lohn für das gebe, was sie gewirkt haben; und auf daß Er die, die Gutes tun, mit dem Allerbesten belohne.\t[53:31]\n",
    "Jene, die die großen Sünden und Schändlichkeiten meiden - mit Ausnahme leichter Vergehen - wahrlich, dein Herr ist von weitumfassender Vergebung. Er kennt euch sehr wohl; als Er euch aus der Erde hervorbrachte, und als ihr Embryos in den Leibern eurer Mütter waret. Darum erklärt euch nicht selber als rein. Er kennt diejenigen am besten, die (Ihn) fürchten.\t[53:32]\n",
    "Siehst du den, der sich abkehrt\t[53:33]\n",
    "und wenig gibt und geizt?\t[53:34]\n",
    "Hat er wohl die Kenntnis des Verborgenen, so daß er es sehen könnte?\t[53:35]\n",
    "Oder ist ihm nicht erzählt worden, was in den Schriftblättern Moses' steht\t[53:36]\n",
    "und Abrahams, der (die Gebote) erfüllte?\t[53:37]\n",
    "(Geschrieben steht,) daß keine lasttragende (Seele) die Last einer anderen tragen soll ,\t[53:38]\n",
    "und daß dem Menschen nichts anderes zuteil wird als das, wonach er strebt ,\t[53:39]\n",
    "und daß sein Streben bald sichtbar wird.\t[53:40]\n",
    "Dann wird er dafür mit reichlichem Lohn belohnt werden.\t[53:41]\n",
    "Und (es steht geschrieben,) daß es bei deinem Herrn enden wird ,\t[53:42]\n",
    "und daß Er es ist, Der zum Lachen und Weinen bringt ,\t[53:43]\n",
    "und daß Er es ist, Der sterben läßt und lebendig macht ,\t[53:44]\n",
    "und daß Er die Paare (als) männliche und weibliche (Wesen) erschaffen hat\t[53:45]\n",
    "aus einem Samentropfen, der ausgestoßen wird ,\t[53:46]\n",
    "und daß Ihm die zweite Schöpfung obliegt ,\t[53:47]\n",
    "und daß Er allein reich und arm macht ,\t[53:48]\n",
    "und daß Er der Herr des Sirius ist ,\t[53:49]\n",
    "und daß Er die einstigen 'Ad vernichtete\t[53:50]\n",
    "und die Thamud, und keinen verschonte ,\t[53:51]\n",
    "und (daß Er) vordem das Volk Noahs (vernichtete) - wahrlich, sie waren höchst ungerecht und widerspenstig.\t[53:52]\n",
    "Und Er ließ die verderbten Städte einstürzen ,\t[53:53]\n",
    "so daß sie bedeckte, was (sie) bedeckte.\t[53:54]\n",
    "Welche Wohltaten deines Herrn willst du denn bestreiten?\t[53:55]\n",
    "Dies ist ein Warner wie die früheren Warner.\t[53:56]\n",
    "Die Stunde naht.\t[53:57]\n",
    "Keiner außer Allah kann sie abwenden.\t[53:58]\n",
    "Wundert ihr euch über diese Verkündigung?\t[53:59]\n",
    "Und ihr lacht; aber Weinen tut ihr nicht?\t[53:60]\n",
    "Und wollt ihr achtlos (hinsichtlich dieser Verkündigung) bleiben?\t[53:61]\n",
    "So fallt denn vor Allah anbetend nieder und dient (Ihm). .\t[53:62]\n",
    "\"\"\""
   ]
  },
  {
   "cell_type": "code",
   "execution_count": 10,
   "metadata": {},
   "outputs": [],
   "source": [
    "def load(f):\n",
    "    file = open(f)\n",
    "    s = \"\"\n",
    "    for line in file:\n",
    "        s += line.replace(\"\\n\", \" \\n \")\n",
    "    print(s)"
   ]
  },
  {
   "cell_type": "code",
   "execution_count": 11,
   "metadata": {
    "scrolled": true
   },
   "outputs": [
    {
     "name": "stdout",
     "output_type": "stream",
     "text": [
      " \n",
      " Beim Stern, wenn er heruntersaust!\t[53:1] \n",
      " Euer Gefährte ist weder verwirrt, noch befindet er sich im Unrecht ,\t[53:2] \n",
      " noch spricht er aus Begierde.\t[53:3] \n",
      " Vielmehr ist es eine Offenbarung, die (ihm) eingegeben wird.\t[53:4] \n",
      " Gelehrt hat ihn einer, der über starke Macht verfügt ,\t[53:5] \n",
      " dessen Macht sich auf alles erstreckt; darum stand er aufrecht da ,\t[53:6] \n",
      " als er am obersten Horizont war.\t[53:7] \n",
      " Hierauf näherte er sich; kam dann nach unten ,\t[53:8] \n",
      " bis er eine Entfernung von zwei Bogenlängen erreicht hatte oder noch näher.\t[53:9] \n",
      " Und er offenbarte Seinem Diener, was er offenbarte.\t[53:10] \n",
      " (Und) dessen Herz hielt es nicht für gelogen, was er sah.\t[53:11] \n",
      " Wollt ihr da mit ihm über das streiten, was er sah?\t[53:12] \n",
      " Und er sah ihn bei einer anderen Begegnung\t[53:13] \n",
      " beim Lotusbaum am äußersten Ende ,\t[53:14] \n",
      " an dem das Paradies der Geborgenheit liegt.\t[53:15] \n",
      " Dabei überflutete den Lotusbaum, was (ihn) überflutete.\t[53:16] \n",
      " Da wankte der Blick nicht, noch schweifte er ab.\t[53:17] \n",
      " Wahrlich, er hatte eines der größten Zeichen seines Herrn gesehen.\t[53:18] \n",
      " Was haltet ihr nun von Al-Lat und Al-'Uzza\t[53:19] \n",
      " und Manah, der dritten der anderen?\t[53:20] \n",
      " Wie? Sollten euch die Knaben zustehen und Ihm die Mädchen?\t[53:21] \n",
      " Das wäre wahrhaftig eine unbillige Verteilung.\t[53:22] \n",
      " Wahrlich, es sind nur die Namen, die ihr euch ausgedacht habt - ihr und eure Väter -, für die Allah keinerlei Ermächtigung herabgesandt hat. Sie folgen einem bloßen Wahn und ihren persönlichen Neigungen, obwohl doch die Weisung ihres Herrn zu ihnen kam.\t[53:23] \n",
      " Kann der Mensch denn haben, was er nur wünscht?\t[53:24] \n",
      " Aber Allahs ist das Diesseits und das Jenseits.\t[53:25] \n",
      " Und so mancher Engel ist in den Himmeln, dessen Fürsprache nichts nützen wird, es sei denn, nachdem Allah dem die Erlaubnis (dazu) gegeben hat, dem Er will und der Ihm beliebt.\t[53:26] \n",
      " Solche, die nicht an das Jenseits glauben, benennen die Engel mit weiblichen Namen.\t[53:27] \n",
      " Jedoch sie besitzen kein Wissen hiervon. Sie gehen nur Vermutungen nach; und Vermutungen ersetzen nicht im geringsten die Wahrheit.\t[53:28] \n",
      " Darum wende dich von dem ab, der Unserer Ermahnung den Rücken kehrt und nichts als das Leben in dieser Welt begehrt.\t[53:29] \n",
      " Das ist die Summe ihres Wissens. Wahrlich, dein Herr kennt denjenigen recht wohl, der von Seinem Wege abirrt, und Er kennt auch jenen wohl, der den Weg befolgt.\t[53:30] \n",
      " Und Allahs ist, was in den Himmeln und was auf Erden ist, auf daß Er denen, die Böses tun, ihren Lohn für das gebe, was sie gewirkt haben; und auf daß Er die, die Gutes tun, mit dem Allerbesten belohne.\t[53:31] \n",
      " Jene, die die großen Sünden und Schändlichkeiten meiden - mit Ausnahme leichter Vergehen - wahrlich, dein Herr ist von weitumfassender Vergebung. Er kennt euch sehr wohl; als Er euch aus der Erde hervorbrachte, und als ihr Embryos in den Leibern eurer Mütter waret. Darum erklärt euch nicht selber als rein. Er kennt diejenigen am besten, die (Ihn) fürchten.\t[53:32] \n",
      " Siehst du den, der sich abkehrt\t[53:33] \n",
      " und wenig gibt und geizt?\t[53:34] \n",
      " Hat er wohl die Kenntnis des Verborgenen, so daß er es sehen könnte?\t[53:35] \n",
      " Oder ist ihm nicht erzählt worden, was in den Schriftblättern Moses' steht\t[53:36] \n",
      " und Abrahams, der (die Gebote) erfüllte?\t[53:37] \n",
      " (Geschrieben steht,) daß keine lasttragende (Seele) die Last einer anderen tragen soll ,\t[53:38] \n",
      " und daß dem Menschen nichts anderes zuteil wird als das, wonach er strebt ,\t[53:39] \n",
      " und daß sein Streben bald sichtbar wird.\t[53:40] \n",
      " Dann wird er dafür mit reichlichem Lohn belohnt werden.\t[53:41] \n",
      " Und (es steht geschrieben,) daß es bei deinem Herrn enden wird ,\t[53:42] \n",
      " und daß Er es ist, Der zum Lachen und Weinen bringt ,\t[53:43] \n",
      " und daß Er es ist, Der sterben läßt und lebendig macht ,\t[53:44] \n",
      " und daß Er die Paare (als) männliche und weibliche (Wesen) erschaffen hat\t[53:45] \n",
      " aus einem Samentropfen, der ausgestoßen wird ,\t[53:46] \n",
      " und daß Ihm die zweite Schöpfung obliegt ,\t[53:47] \n",
      " und daß Er allein reich und arm macht ,\t[53:48] \n",
      " und daß Er der Herr des Sirius ist ,\t[53:49] \n",
      " und daß Er die einstigen 'Ad vernichtete\t[53:50] \n",
      " und die Thamud, und keinen verschonte ,\t[53:51] \n",
      " und (daß Er) vordem das Volk Noahs (vernichtete) - wahrlich, sie waren höchst ungerecht und widerspenstig.\t[53:52] \n",
      " Und Er ließ die verderbten Städte einstürzen ,\t[53:53] \n",
      " so daß sie bedeckte, was (sie) bedeckte.\t[53:54] \n",
      " Welche Wohltaten deines Herrn willst du denn bestreiten?\t[53:55] \n",
      " Dies ist ein Warner wie die früheren Warner.\t[53:56] \n",
      " Die Stunde naht.\t[53:57] \n",
      " Keiner außer Allah kann sie abwenden.\t[53:58] \n",
      " Wundert ihr euch über diese Verkündigung?\t[53:59] \n",
      " Und ihr lacht; aber Weinen tut ihr nicht?\t[53:60] \n",
      " Und wollt ihr achtlos (hinsichtlich dieser Verkündigung) bleiben?\t[53:61] \n",
      " So fallt denn vor Allah anbetend nieder und dient (Ihm). .\t[53:62] \n",
      " \n"
     ]
    }
   ],
   "source": [
    "load(\"corpus.txt\")"
   ]
  },
  {
   "cell_type": "markdown",
   "metadata": {},
   "source": [
    "Use nltk.regexp_tokenize() to create a tokenizer that tokenizes the various kinds of punctuation in this text. Use one multi-line regular expression, with inline comments, using the verbose flag (?x)."
   ]
  },
  {
   "cell_type": "code",
   "execution_count": 12,
   "metadata": {},
   "outputs": [],
   "source": [
    "def write_txt(f, s):\n",
    "    with open(f, \"w\") as f:\n",
    "        f.write(s)"
   ]
  },
  {
   "cell_type": "code",
   "execution_count": 13,
   "metadata": {},
   "outputs": [],
   "source": [
    "write_txt(\"corpus.txt\", text)"
   ]
  },
  {
   "cell_type": "code",
   "execution_count": 14,
   "metadata": {},
   "outputs": [],
   "source": [
    "from nltk import regexp_tokenize\n",
    "\n",
    "def tok_text(f) -> list:\n",
    "    tokenized = []\n",
    "    with open (f, \"r\", encoding=\"utf8\") as file:\n",
    "        pattern = r\"\"\"(?x) # set flag to allow verbose regexps\n",
    "        \\(?\\w+\\)?|\\[\\d+:\\d+\\]|[!;\\.,]\n",
    "        \"\"\"\n",
    "        tokenized = regexp_tokenize(file.read(), pattern)\n",
    "    return tokenized"
   ]
  },
  {
   "cell_type": "code",
   "execution_count": 15,
   "metadata": {},
   "outputs": [
    {
     "data": {
      "text/plain": [
       "['Beim',\n",
       " 'Stern',\n",
       " ',',\n",
       " 'wenn',\n",
       " 'er',\n",
       " 'heruntersaust',\n",
       " '!',\n",
       " '[53:1]',\n",
       " 'Euer',\n",
       " 'Gefährte',\n",
       " 'ist',\n",
       " 'weder',\n",
       " 'verwirrt',\n",
       " ',',\n",
       " 'noch',\n",
       " 'befindet',\n",
       " 'er',\n",
       " 'sich',\n",
       " 'im',\n",
       " 'Unrecht',\n",
       " ',',\n",
       " '[53:2]',\n",
       " 'noch',\n",
       " 'spricht',\n",
       " 'er',\n",
       " 'aus',\n",
       " 'Begierde',\n",
       " '.',\n",
       " '[53:3]',\n",
       " 'Vielmehr',\n",
       " 'ist',\n",
       " 'es',\n",
       " 'eine',\n",
       " 'Offenbarung',\n",
       " ',',\n",
       " 'die',\n",
       " '(ihm)',\n",
       " 'eingegeben',\n",
       " 'wird',\n",
       " '.',\n",
       " '[53:4]',\n",
       " 'Gelehrt',\n",
       " 'hat',\n",
       " 'ihn',\n",
       " 'einer',\n",
       " ',',\n",
       " 'der',\n",
       " 'über',\n",
       " 'starke',\n",
       " 'Macht',\n",
       " 'verfügt',\n",
       " ',',\n",
       " '[53:5]',\n",
       " 'dessen',\n",
       " 'Macht',\n",
       " 'sich',\n",
       " 'auf',\n",
       " 'alles',\n",
       " 'erstreckt',\n",
       " ';',\n",
       " 'darum',\n",
       " 'stand',\n",
       " 'er',\n",
       " 'aufrecht',\n",
       " 'da',\n",
       " ',',\n",
       " '[53:6]',\n",
       " 'als',\n",
       " 'er',\n",
       " 'am',\n",
       " 'obersten',\n",
       " 'Horizont',\n",
       " 'war',\n",
       " '.',\n",
       " '[53:7]',\n",
       " 'Hierauf',\n",
       " 'näherte',\n",
       " 'er',\n",
       " 'sich',\n",
       " ';',\n",
       " 'kam',\n",
       " 'dann',\n",
       " 'nach',\n",
       " 'unten',\n",
       " ',',\n",
       " '[53:8]',\n",
       " 'bis',\n",
       " 'er',\n",
       " 'eine',\n",
       " 'Entfernung',\n",
       " 'von',\n",
       " 'zwei',\n",
       " 'Bogenlängen',\n",
       " 'erreicht',\n",
       " 'hatte',\n",
       " 'oder',\n",
       " 'noch',\n",
       " 'näher',\n",
       " '.',\n",
       " '[53:9]',\n",
       " 'Und',\n",
       " 'er',\n",
       " 'offenbarte',\n",
       " 'Seinem',\n",
       " 'Diener',\n",
       " ',',\n",
       " 'was',\n",
       " 'er',\n",
       " 'offenbarte',\n",
       " '.',\n",
       " '[53:10]',\n",
       " '(Und)',\n",
       " 'dessen',\n",
       " 'Herz',\n",
       " 'hielt',\n",
       " 'es',\n",
       " 'nicht',\n",
       " 'für',\n",
       " 'gelogen',\n",
       " ',',\n",
       " 'was',\n",
       " 'er',\n",
       " 'sah',\n",
       " '.',\n",
       " '[53:11]',\n",
       " 'Wollt',\n",
       " 'ihr',\n",
       " 'da',\n",
       " 'mit',\n",
       " 'ihm',\n",
       " 'über',\n",
       " 'das',\n",
       " 'streiten',\n",
       " ',',\n",
       " 'was',\n",
       " 'er',\n",
       " 'sah',\n",
       " '[53:12]',\n",
       " 'Und',\n",
       " 'er',\n",
       " 'sah',\n",
       " 'ihn',\n",
       " 'bei',\n",
       " 'einer',\n",
       " 'anderen',\n",
       " 'Begegnung',\n",
       " '[53:13]',\n",
       " 'beim',\n",
       " 'Lotusbaum',\n",
       " 'am',\n",
       " 'äußersten',\n",
       " 'Ende',\n",
       " ',',\n",
       " '[53:14]',\n",
       " 'an',\n",
       " 'dem',\n",
       " 'das',\n",
       " 'Paradies',\n",
       " 'der',\n",
       " 'Geborgenheit',\n",
       " 'liegt',\n",
       " '.',\n",
       " '[53:15]',\n",
       " 'Dabei',\n",
       " 'überflutete',\n",
       " 'den',\n",
       " 'Lotusbaum',\n",
       " ',',\n",
       " 'was',\n",
       " '(ihn)',\n",
       " 'überflutete',\n",
       " '.',\n",
       " '[53:16]',\n",
       " 'Da',\n",
       " 'wankte',\n",
       " 'der',\n",
       " 'Blick',\n",
       " 'nicht',\n",
       " ',',\n",
       " 'noch',\n",
       " 'schweifte',\n",
       " 'er',\n",
       " 'ab',\n",
       " '.',\n",
       " '[53:17]',\n",
       " 'Wahrlich',\n",
       " ',',\n",
       " 'er',\n",
       " 'hatte',\n",
       " 'eines',\n",
       " 'der',\n",
       " 'größten',\n",
       " 'Zeichen',\n",
       " 'seines',\n",
       " 'Herrn',\n",
       " 'gesehen',\n",
       " '.',\n",
       " '[53:18]',\n",
       " 'Was',\n",
       " 'haltet',\n",
       " 'ihr',\n",
       " 'nun',\n",
       " 'von',\n",
       " 'Al',\n",
       " 'Lat',\n",
       " 'und',\n",
       " 'Al',\n",
       " 'Uzza',\n",
       " '[53:19]',\n",
       " 'und',\n",
       " 'Manah',\n",
       " ',',\n",
       " 'der',\n",
       " 'dritten',\n",
       " 'der',\n",
       " 'anderen',\n",
       " '[53:20]',\n",
       " 'Wie',\n",
       " 'Sollten',\n",
       " 'euch',\n",
       " 'die',\n",
       " 'Knaben',\n",
       " 'zustehen',\n",
       " 'und',\n",
       " 'Ihm',\n",
       " 'die',\n",
       " 'Mädchen',\n",
       " '[53:21]',\n",
       " 'Das',\n",
       " 'wäre',\n",
       " 'wahrhaftig',\n",
       " 'eine',\n",
       " 'unbillige',\n",
       " 'Verteilung',\n",
       " '.',\n",
       " '[53:22]',\n",
       " 'Wahrlich',\n",
       " ',',\n",
       " 'es',\n",
       " 'sind',\n",
       " 'nur',\n",
       " 'die',\n",
       " 'Namen',\n",
       " ',',\n",
       " 'die',\n",
       " 'ihr',\n",
       " 'euch',\n",
       " 'ausgedacht',\n",
       " 'habt',\n",
       " 'ihr',\n",
       " 'und',\n",
       " 'eure',\n",
       " 'Väter',\n",
       " ',',\n",
       " 'für',\n",
       " 'die',\n",
       " 'Allah',\n",
       " 'keinerlei',\n",
       " 'Ermächtigung',\n",
       " 'herabgesandt',\n",
       " 'hat',\n",
       " '.',\n",
       " 'Sie',\n",
       " 'folgen',\n",
       " 'einem',\n",
       " 'bloßen',\n",
       " 'Wahn',\n",
       " 'und',\n",
       " 'ihren',\n",
       " 'persönlichen',\n",
       " 'Neigungen',\n",
       " ',',\n",
       " 'obwohl',\n",
       " 'doch',\n",
       " 'die',\n",
       " 'Weisung',\n",
       " 'ihres',\n",
       " 'Herrn',\n",
       " 'zu',\n",
       " 'ihnen',\n",
       " 'kam',\n",
       " '.',\n",
       " '[53:23]',\n",
       " 'Kann',\n",
       " 'der',\n",
       " 'Mensch',\n",
       " 'denn',\n",
       " 'haben',\n",
       " ',',\n",
       " 'was',\n",
       " 'er',\n",
       " 'nur',\n",
       " 'wünscht',\n",
       " '[53:24]',\n",
       " 'Aber',\n",
       " 'Allahs',\n",
       " 'ist',\n",
       " 'das',\n",
       " 'Diesseits',\n",
       " 'und',\n",
       " 'das',\n",
       " 'Jenseits',\n",
       " '.',\n",
       " '[53:25]',\n",
       " 'Und',\n",
       " 'so',\n",
       " 'mancher',\n",
       " 'Engel',\n",
       " 'ist',\n",
       " 'in',\n",
       " 'den',\n",
       " 'Himmeln',\n",
       " ',',\n",
       " 'dessen',\n",
       " 'Fürsprache',\n",
       " 'nichts',\n",
       " 'nützen',\n",
       " 'wird',\n",
       " ',',\n",
       " 'es',\n",
       " 'sei',\n",
       " 'denn',\n",
       " ',',\n",
       " 'nachdem',\n",
       " 'Allah',\n",
       " 'dem',\n",
       " 'die',\n",
       " 'Erlaubnis',\n",
       " '(dazu)',\n",
       " 'gegeben',\n",
       " 'hat',\n",
       " ',',\n",
       " 'dem',\n",
       " 'Er',\n",
       " 'will',\n",
       " 'und',\n",
       " 'der',\n",
       " 'Ihm',\n",
       " 'beliebt',\n",
       " '.',\n",
       " '[53:26]',\n",
       " 'Solche',\n",
       " ',',\n",
       " 'die',\n",
       " 'nicht',\n",
       " 'an',\n",
       " 'das',\n",
       " 'Jenseits',\n",
       " 'glauben',\n",
       " ',',\n",
       " 'benennen',\n",
       " 'die',\n",
       " 'Engel',\n",
       " 'mit',\n",
       " 'weiblichen',\n",
       " 'Namen',\n",
       " '.',\n",
       " '[53:27]',\n",
       " 'Jedoch',\n",
       " 'sie',\n",
       " 'besitzen',\n",
       " 'kein',\n",
       " 'Wissen',\n",
       " 'hiervon',\n",
       " '.',\n",
       " 'Sie',\n",
       " 'gehen',\n",
       " 'nur',\n",
       " 'Vermutungen',\n",
       " 'nach',\n",
       " ';',\n",
       " 'und',\n",
       " 'Vermutungen',\n",
       " 'ersetzen',\n",
       " 'nicht',\n",
       " 'im',\n",
       " 'geringsten',\n",
       " 'die',\n",
       " 'Wahrheit',\n",
       " '.',\n",
       " '[53:28]',\n",
       " 'Darum',\n",
       " 'wende',\n",
       " 'dich',\n",
       " 'von',\n",
       " 'dem',\n",
       " 'ab',\n",
       " ',',\n",
       " 'der',\n",
       " 'Unserer',\n",
       " 'Ermahnung',\n",
       " 'den',\n",
       " 'Rücken',\n",
       " 'kehrt',\n",
       " 'und',\n",
       " 'nichts',\n",
       " 'als',\n",
       " 'das',\n",
       " 'Leben',\n",
       " 'in',\n",
       " 'dieser',\n",
       " 'Welt',\n",
       " 'begehrt',\n",
       " '.',\n",
       " '[53:29]',\n",
       " 'Das',\n",
       " 'ist',\n",
       " 'die',\n",
       " 'Summe',\n",
       " 'ihres',\n",
       " 'Wissens',\n",
       " '.',\n",
       " 'Wahrlich',\n",
       " ',',\n",
       " 'dein',\n",
       " 'Herr',\n",
       " 'kennt',\n",
       " 'denjenigen',\n",
       " 'recht',\n",
       " 'wohl',\n",
       " ',',\n",
       " 'der',\n",
       " 'von',\n",
       " 'Seinem',\n",
       " 'Wege',\n",
       " 'abirrt',\n",
       " ',',\n",
       " 'und',\n",
       " 'Er',\n",
       " 'kennt',\n",
       " 'auch',\n",
       " 'jenen',\n",
       " 'wohl',\n",
       " ',',\n",
       " 'der',\n",
       " 'den',\n",
       " 'Weg',\n",
       " 'befolgt',\n",
       " '.',\n",
       " '[53:30]',\n",
       " 'Und',\n",
       " 'Allahs',\n",
       " 'ist',\n",
       " ',',\n",
       " 'was',\n",
       " 'in',\n",
       " 'den',\n",
       " 'Himmeln',\n",
       " 'und',\n",
       " 'was',\n",
       " 'auf',\n",
       " 'Erden',\n",
       " 'ist',\n",
       " ',',\n",
       " 'auf',\n",
       " 'daß',\n",
       " 'Er',\n",
       " 'denen',\n",
       " ',',\n",
       " 'die',\n",
       " 'Böses',\n",
       " 'tun',\n",
       " ',',\n",
       " 'ihren',\n",
       " 'Lohn',\n",
       " 'für',\n",
       " 'das',\n",
       " 'gebe',\n",
       " ',',\n",
       " 'was',\n",
       " 'sie',\n",
       " 'gewirkt',\n",
       " 'haben',\n",
       " ';',\n",
       " 'und',\n",
       " 'auf',\n",
       " 'daß',\n",
       " 'Er',\n",
       " 'die',\n",
       " ',',\n",
       " 'die',\n",
       " 'Gutes',\n",
       " 'tun',\n",
       " ',',\n",
       " 'mit',\n",
       " 'dem',\n",
       " 'Allerbesten',\n",
       " 'belohne',\n",
       " '.',\n",
       " '[53:31]',\n",
       " 'Jene',\n",
       " ',',\n",
       " 'die',\n",
       " 'die',\n",
       " 'großen',\n",
       " 'Sünden',\n",
       " 'und',\n",
       " 'Schändlichkeiten',\n",
       " 'meiden',\n",
       " 'mit',\n",
       " 'Ausnahme',\n",
       " 'leichter',\n",
       " 'Vergehen',\n",
       " 'wahrlich',\n",
       " ',',\n",
       " 'dein',\n",
       " 'Herr',\n",
       " 'ist',\n",
       " 'von',\n",
       " 'weitumfassender',\n",
       " 'Vergebung',\n",
       " '.',\n",
       " 'Er',\n",
       " 'kennt',\n",
       " 'euch',\n",
       " 'sehr',\n",
       " 'wohl',\n",
       " ';',\n",
       " 'als',\n",
       " 'Er',\n",
       " 'euch',\n",
       " 'aus',\n",
       " 'der',\n",
       " 'Erde',\n",
       " 'hervorbrachte',\n",
       " ',',\n",
       " 'und',\n",
       " 'als',\n",
       " 'ihr',\n",
       " 'Embryos',\n",
       " 'in',\n",
       " 'den',\n",
       " 'Leibern',\n",
       " 'eurer',\n",
       " 'Mütter',\n",
       " 'waret',\n",
       " '.',\n",
       " 'Darum',\n",
       " 'erklärt',\n",
       " 'euch',\n",
       " 'nicht',\n",
       " 'selber',\n",
       " 'als',\n",
       " 'rein',\n",
       " '.',\n",
       " 'Er',\n",
       " 'kennt',\n",
       " 'diejenigen',\n",
       " 'am',\n",
       " 'besten',\n",
       " ',',\n",
       " 'die',\n",
       " '(Ihn)',\n",
       " 'fürchten',\n",
       " '.',\n",
       " '[53:32]',\n",
       " 'Siehst',\n",
       " 'du',\n",
       " 'den',\n",
       " ',',\n",
       " 'der',\n",
       " 'sich',\n",
       " 'abkehrt',\n",
       " '[53:33]',\n",
       " 'und',\n",
       " 'wenig',\n",
       " 'gibt',\n",
       " 'und',\n",
       " 'geizt',\n",
       " '[53:34]',\n",
       " 'Hat',\n",
       " 'er',\n",
       " 'wohl',\n",
       " 'die',\n",
       " 'Kenntnis',\n",
       " 'des',\n",
       " 'Verborgenen',\n",
       " ',',\n",
       " 'so',\n",
       " 'daß',\n",
       " 'er',\n",
       " 'es',\n",
       " 'sehen',\n",
       " 'könnte',\n",
       " '[53:35]',\n",
       " 'Oder',\n",
       " 'ist',\n",
       " 'ihm',\n",
       " 'nicht',\n",
       " 'erzählt',\n",
       " 'worden',\n",
       " ',',\n",
       " 'was',\n",
       " 'in',\n",
       " 'den',\n",
       " 'Schriftblättern',\n",
       " 'Moses',\n",
       " 'steht',\n",
       " '[53:36]',\n",
       " 'und',\n",
       " 'Abrahams',\n",
       " ',',\n",
       " 'der',\n",
       " '(die',\n",
       " 'Gebote)',\n",
       " 'erfüllte',\n",
       " '[53:37]',\n",
       " '(Geschrieben',\n",
       " 'steht',\n",
       " ',',\n",
       " 'daß',\n",
       " 'keine',\n",
       " 'lasttragende',\n",
       " '(Seele)',\n",
       " 'die',\n",
       " 'Last',\n",
       " 'einer',\n",
       " 'anderen',\n",
       " 'tragen',\n",
       " 'soll',\n",
       " ',',\n",
       " '[53:38]',\n",
       " 'und',\n",
       " 'daß',\n",
       " 'dem',\n",
       " 'Menschen',\n",
       " 'nichts',\n",
       " 'anderes',\n",
       " 'zuteil',\n",
       " 'wird',\n",
       " 'als',\n",
       " 'das',\n",
       " ',',\n",
       " 'wonach',\n",
       " 'er',\n",
       " 'strebt',\n",
       " ',',\n",
       " '[53:39]',\n",
       " 'und',\n",
       " 'daß',\n",
       " 'sein',\n",
       " 'Streben',\n",
       " 'bald',\n",
       " 'sichtbar',\n",
       " 'wird',\n",
       " '.',\n",
       " '[53:40]',\n",
       " 'Dann',\n",
       " 'wird',\n",
       " 'er',\n",
       " 'dafür',\n",
       " 'mit',\n",
       " 'reichlichem',\n",
       " 'Lohn',\n",
       " 'belohnt',\n",
       " 'werden',\n",
       " '.',\n",
       " '[53:41]',\n",
       " 'Und',\n",
       " '(es',\n",
       " 'steht',\n",
       " 'geschrieben',\n",
       " ',',\n",
       " 'daß',\n",
       " 'es',\n",
       " 'bei',\n",
       " 'deinem',\n",
       " 'Herrn',\n",
       " 'enden',\n",
       " 'wird',\n",
       " ',',\n",
       " '[53:42]',\n",
       " 'und',\n",
       " 'daß',\n",
       " 'Er',\n",
       " 'es',\n",
       " 'ist',\n",
       " ',',\n",
       " 'Der',\n",
       " 'zum',\n",
       " 'Lachen',\n",
       " 'und',\n",
       " 'Weinen',\n",
       " 'bringt',\n",
       " ',',\n",
       " '[53:43]',\n",
       " 'und',\n",
       " 'daß',\n",
       " 'Er',\n",
       " 'es',\n",
       " 'ist',\n",
       " ',',\n",
       " 'Der',\n",
       " 'sterben',\n",
       " 'läßt',\n",
       " 'und',\n",
       " 'lebendig',\n",
       " 'macht',\n",
       " ',',\n",
       " '[53:44]',\n",
       " 'und',\n",
       " 'daß',\n",
       " 'Er',\n",
       " 'die',\n",
       " 'Paare',\n",
       " '(als)',\n",
       " 'männliche',\n",
       " 'und',\n",
       " 'weibliche',\n",
       " '(Wesen)',\n",
       " 'erschaffen',\n",
       " 'hat',\n",
       " '[53:45]',\n",
       " 'aus',\n",
       " 'einem',\n",
       " 'Samentropfen',\n",
       " ',',\n",
       " 'der',\n",
       " 'ausgestoßen',\n",
       " 'wird',\n",
       " ',',\n",
       " '[53:46]',\n",
       " 'und',\n",
       " 'daß',\n",
       " 'Ihm',\n",
       " 'die',\n",
       " 'zweite',\n",
       " 'Schöpfung',\n",
       " 'obliegt',\n",
       " ',',\n",
       " '[53:47]',\n",
       " 'und',\n",
       " 'daß',\n",
       " 'Er',\n",
       " 'allein',\n",
       " 'reich',\n",
       " 'und',\n",
       " 'arm',\n",
       " 'macht',\n",
       " ',',\n",
       " '[53:48]',\n",
       " 'und',\n",
       " 'daß',\n",
       " 'Er',\n",
       " 'der',\n",
       " 'Herr',\n",
       " 'des',\n",
       " 'Sirius',\n",
       " 'ist',\n",
       " ',',\n",
       " '[53:49]',\n",
       " 'und',\n",
       " 'daß',\n",
       " 'Er',\n",
       " 'die',\n",
       " 'einstigen',\n",
       " 'Ad',\n",
       " 'vernichtete',\n",
       " '[53:50]',\n",
       " 'und',\n",
       " 'die',\n",
       " 'Thamud',\n",
       " ',',\n",
       " 'und',\n",
       " 'keinen',\n",
       " 'verschonte',\n",
       " ',',\n",
       " '[53:51]',\n",
       " 'und',\n",
       " '(daß',\n",
       " 'Er)',\n",
       " 'vordem',\n",
       " 'das',\n",
       " 'Volk',\n",
       " 'Noahs',\n",
       " '(vernichtete)',\n",
       " 'wahrlich',\n",
       " ',',\n",
       " 'sie',\n",
       " 'waren',\n",
       " 'höchst',\n",
       " 'ungerecht',\n",
       " 'und',\n",
       " 'widerspenstig',\n",
       " '.',\n",
       " '[53:52]',\n",
       " 'Und',\n",
       " 'Er',\n",
       " 'ließ',\n",
       " 'die',\n",
       " 'verderbten',\n",
       " 'Städte',\n",
       " 'einstürzen',\n",
       " ',',\n",
       " '[53:53]',\n",
       " 'so',\n",
       " 'daß',\n",
       " 'sie',\n",
       " 'bedeckte',\n",
       " ',',\n",
       " 'was',\n",
       " '(sie)',\n",
       " 'bedeckte',\n",
       " '.',\n",
       " '[53:54]',\n",
       " 'Welche',\n",
       " 'Wohltaten',\n",
       " 'deines',\n",
       " 'Herrn',\n",
       " 'willst',\n",
       " 'du',\n",
       " 'denn',\n",
       " 'bestreiten',\n",
       " '[53:55]',\n",
       " 'Dies',\n",
       " 'ist',\n",
       " 'ein',\n",
       " 'Warner',\n",
       " 'wie',\n",
       " 'die',\n",
       " 'früheren',\n",
       " 'Warner',\n",
       " '.',\n",
       " '[53:56]',\n",
       " 'Die',\n",
       " 'Stunde',\n",
       " 'naht',\n",
       " '.',\n",
       " '[53:57]',\n",
       " 'Keiner',\n",
       " 'außer',\n",
       " 'Allah',\n",
       " 'kann',\n",
       " 'sie',\n",
       " 'abwenden',\n",
       " '.',\n",
       " '[53:58]',\n",
       " 'Wundert',\n",
       " 'ihr',\n",
       " 'euch',\n",
       " 'über',\n",
       " 'diese',\n",
       " 'Verkündigung',\n",
       " '[53:59]',\n",
       " 'Und',\n",
       " 'ihr',\n",
       " 'lacht',\n",
       " ';',\n",
       " 'aber',\n",
       " 'Weinen',\n",
       " 'tut',\n",
       " 'ihr',\n",
       " 'nicht',\n",
       " '[53:60]',\n",
       " 'Und',\n",
       " 'wollt',\n",
       " 'ihr',\n",
       " 'achtlos',\n",
       " '(hinsichtlich',\n",
       " 'dieser',\n",
       " 'Verkündigung)',\n",
       " 'bleiben',\n",
       " '[53:61]',\n",
       " 'So',\n",
       " 'fallt',\n",
       " 'denn',\n",
       " 'vor',\n",
       " 'Allah',\n",
       " 'anbetend',\n",
       " 'nieder',\n",
       " 'und',\n",
       " 'dient',\n",
       " '(Ihm)',\n",
       " '.',\n",
       " '.',\n",
       " '[53:62]']"
      ]
     },
     "execution_count": 15,
     "metadata": {},
     "output_type": "execute_result"
    }
   ],
   "source": [
    "tok_text(\"corpus.txt\")"
   ]
  },
  {
   "cell_type": "markdown",
   "metadata": {},
   "source": [
    "Use nltk.regexp_tokenize() to create a tokenizer that tokenizes the following kinds of expression: monetary amounts; dates; names of people and organizations."
   ]
  },
  {
   "cell_type": "code",
   "execution_count": 16,
   "metadata": {},
   "outputs": [
    {
     "name": "stdout",
     "output_type": "stream",
     "text": [
      "[('Raziye', '', '', '', '', '', ''), ('', '', '', '', '', '', ''), ('Johann-Sebastian', '-Sebastian', '', '', '', '', ''), ('', '', '', '', '', '', ''), ('', '', '40$', '', '', '', ''), ('', '', '12,34€', ',34', '', '', ''), ('', '', '', '', '', '', ''), ('', '', '350.00$', '.00', '', '', ''), ('', '', '', '', '', '', ''), ('', '', '', '', '04.04.2022', '2022', '.'), ('', '', '', '', '', '', ''), ('April', '', '', '', '', '', ''), ('', '', '', '', '', '', ''), ('', '', '', '', '4', '4', ''), ('', '', '', '', '', '', ''), ('', '', '', '', '', '', ''), ('', '', '', '', '', '', ''), ('', '', '', '', '', '', ''), ('', '', '', '', '2022', '2022', ''), ('', '', '', '', '', '', ''), ('', '', '', '', '04/04/22', '22', '/'), ('', '', '', '', '', '', ''), ('', '', '', '', '2022-04-04', '04', '-'), ('', '', '', '', '', '', '')]\n"
     ]
    }
   ],
   "source": [
    "proper_nouns = [\"Raziye\", \"Johann-Sebastian\", \"40$\" \"12,34€\", \"350.00$\", \"04.04.2022\", \"April 4th, 2022\", \"04/04/22\", \"2022-04-04\"]\n",
    "tokenized = nltk.regexp_tokenize(\" \".join(proper_nouns), \"([A-Z]\\w+(-[A-Z]\\w+)*)|(\\d+([.,]+\\d*)*[$€])|((\\d+([\\./,-])*){,3})|[A-Z]\\w+\\s\\d+\\w\\w,\\s\\d+\")\n",
    "print(tokenized)"
   ]
  },
  {
   "cell_type": "code",
   "execution_count": 17,
   "metadata": {},
   "outputs": [
    {
     "name": "stdout",
     "output_type": "stream",
     "text": [
      "{April 4th, 2022}\n"
     ]
    }
   ],
   "source": [
    "nltk.re_show(\"[A-Z]\\w+\\s\\d+\\w{,2},\\s\\d+\", \"April 4th, 2022\")"
   ]
  },
  {
   "cell_type": "markdown",
   "metadata": {},
   "source": [
    "☼ Rewrite the following loop as a list comprehension:\n",
    " \n",
    "sent = ['The', 'dog', 'gave', 'John', 'the', 'newspaper']  \n",
    "result = []  \n",
    "for word in sent:  \n",
    "> word_len = (word, len(word))  \n",
    "> result.append(word_len)  \n",
    "\n",
    "result  \n",
    "[('The', 3), ('dog', 3), ('gave', 4), ('John', 4), ('the', 3), ('newspaper', 9)]\n",
    "\n"
   ]
  },
  {
   "cell_type": "code",
   "execution_count": 18,
   "metadata": {},
   "outputs": [
    {
     "name": "stdout",
     "output_type": "stream",
     "text": [
      "[('The', 3), ('dog', 3), ('gave', 4), ('John', 4), ('the', 3), ('newspaper', 9)]\n"
     ]
    }
   ],
   "source": [
    "sent = ['The', 'dog', 'gave', 'John', 'the', 'newspaper']\n",
    "result = [(w, len(w)) for w in sent]\n",
    "print(result)"
   ]
  },
  {
   "cell_type": "markdown",
   "metadata": {},
   "source": [
    "☼ Define a string raw containing a sentence of your own choosing. Now, split raw on some character other than space, such as 's'."
   ]
  },
  {
   "cell_type": "code",
   "execution_count": 19,
   "metadata": {},
   "outputs": [
    {
     "data": {
      "text/plain": [
       "['Veril', ' with ever', ' hardship will be ease.']"
      ]
     },
     "execution_count": 19,
     "metadata": {},
     "output_type": "execute_result"
    }
   ],
   "source": [
    "raw = \"Verily with every hardship will be ease.\"\n",
    "raw.split(\"y\")"
   ]
  },
  {
   "cell_type": "markdown",
   "metadata": {},
   "source": [
    "☼ Write a for loop to print out the characters of a string, one per line."
   ]
  },
  {
   "cell_type": "code",
   "execution_count": 20,
   "metadata": {},
   "outputs": [
    {
     "name": "stdout",
     "output_type": "stream",
     "text": [
      "V\n",
      "e\n",
      "r\n",
      "i\n",
      "l\n",
      "y\n",
      " \n",
      "w\n",
      "i\n",
      "t\n",
      "h\n",
      " \n",
      "e\n",
      "v\n",
      "e\n",
      "r\n",
      "y\n",
      " \n",
      "h\n",
      "a\n",
      "r\n",
      "d\n",
      "s\n",
      "h\n",
      "i\n",
      "p\n",
      " \n",
      "w\n",
      "i\n",
      "l\n",
      "l\n",
      " \n",
      "b\n",
      "e\n",
      " \n",
      "e\n",
      "a\n",
      "s\n",
      "e\n",
      ".\n"
     ]
    }
   ],
   "source": [
    "for char in raw:\n",
    "    print(char, end = \"\\n\")"
   ]
  },
  {
   "cell_type": "markdown",
   "metadata": {},
   "source": [
    "☼ What is the difference between calling split on a string with no argument or with ' ' as the argument, e.g. sent.split() versus sent.split(' ')? What happens when the string being split contains tab characters, consecutive space characters, or a sequence of tabs and spaces? (In IDLE you will need to use '\\t' to enter a tab character.)"
   ]
  },
  {
   "cell_type": "code",
   "execution_count": null,
   "metadata": {},
   "outputs": [],
   "source": [
    "print(raw.split()) # splits by default on whitespaces (multiple, consecutive, \\t)"
   ]
  },
  {
   "cell_type": "code",
   "execution_count": null,
   "metadata": {},
   "outputs": [],
   "source": [
    "raw_n = raw[:6]+\"  \"+raw[6:]+\"\\t\\t\" # no difference\n",
    "print(raw_n.split())"
   ]
  },
  {
   "cell_type": "markdown",
   "metadata": {},
   "source": [
    "☼ Create a variable words containing a list of words. Experiment with words.sort() and sorted(words). What is the difference?"
   ]
  },
  {
   "cell_type": "code",
   "execution_count": null,
   "metadata": {},
   "outputs": [],
   "source": [
    "words = [w for w in raw.split()]\n",
    "print(words.sort(),\"\\n\", words) #.sort() is in-place and sorts alphabetically starting with upper-case chars first\n",
    "words = [w for w in raw.split()]\n",
    "print(sorted(words),\"\\n\", words)"
   ]
  },
  {
   "cell_type": "markdown",
   "metadata": {},
   "source": [
    "☼ Explore the difference between strings and integers by typing the following at a Python prompt: \"3\" * 7 and 3 * 7. Try converting between strings and integers using int(\"3\") and str(3)."
   ]
  },
  {
   "cell_type": "code",
   "execution_count": null,
   "metadata": {},
   "outputs": [],
   "source": [
    "print(\"3\"*7, 3*7)\n",
    "print(type(str(3)), type(int(\"3\")))"
   ]
  },
  {
   "cell_type": "markdown",
   "metadata": {},
   "source": [
    "☼ Use a text editor to create a file called prog.py containing the single line monty = 'Monty Python'. Next, start up a new session with the Python interpreter, and enter the expression monty at the prompt. You will get an error from the interpreter. Now, try the following (note that you have to leave off the .py part of the filename):\n",
    " \n",
    ">>> from prog import monty  \n",
    ">>> monty\n",
    "\n",
    "This time, Python should return with a value. You can also try import prog, in which case Python should be able to evaluate the expression prog.monty at the prompt."
   ]
  },
  {
   "cell_type": "code",
   "execution_count": 21,
   "metadata": {},
   "outputs": [
    {
     "data": {
      "text/plain": [
       "'Monty Python'"
      ]
     },
     "execution_count": 21,
     "metadata": {},
     "output_type": "execute_result"
    }
   ],
   "source": [
    "from prog import monty\n",
    "monty"
   ]
  },
  {
   "cell_type": "code",
   "execution_count": 22,
   "metadata": {},
   "outputs": [
    {
     "data": {
      "text/plain": [
       "'Monty Python'"
      ]
     },
     "execution_count": 22,
     "metadata": {},
     "output_type": "execute_result"
    }
   ],
   "source": [
    "import prog\n",
    "prog.monty"
   ]
  },
  {
   "cell_type": "markdown",
   "metadata": {},
   "source": [
    "☼ What happens when the formatting strings %6s and %-6s are used to display strings that are longer than six characters?"
   ]
  },
  {
   "cell_type": "code",
   "execution_count": 23,
   "metadata": {},
   "outputs": [
    {
     "name": "stdout",
     "output_type": "stream",
     "text": [
      "Hello Monty\n",
      "Pi: 3.14\n"
     ]
    }
   ],
   "source": [
    "print(\"Hello %.5s\" % monty) # displays first 5 chars\n",
    "print(\"Pi: %.2f\" % math.pi) # displays two digits after decimal"
   ]
  },
  {
   "cell_type": "markdown",
   "metadata": {},
   "source": [
    "◑ Read in some text from a corpus, tokenize it, and print the list of all wh-word types that occur. (wh-words in English are used in questions, relative clauses and exclamations: who, which, what, and so on.) Print them in order. Are any words duplicated in this list, because of the presence of case distinctions or punctuation?"
   ]
  },
  {
   "cell_type": "code",
   "execution_count": 24,
   "metadata": {},
   "outputs": [
    {
     "name": "stdout",
     "output_type": "stream",
     "text": [
      "['how', 'however', 'howl', 'what', 'whatever', 'when', 'whence', 'whenever', 'where', 'whereas', 'wherein', 'wherever', 'which', 'who', 'whole', 'whole-heartedly', 'whole-wheat', 'wholesale', 'wholesome', 'wholewheat', 'wholly', 'whom', 'whom', 'whooping', 'whores', 'whose', 'whose', 'why']\n"
     ]
    }
   ],
   "source": [
    "words = nltk.Text(br.words(categories=\"lore\"))\n",
    "str_text = \" \".join(words)\n",
    "tokenized = nltk.word_tokenize(str_text)\n",
    "wh_words = [\"what\", \"when\", \"where\", \"who\", \"whom\", \"which\", \"whose\", \"why\", \"how\"]\n",
    "print(sorted([w for w in set(tokenized) for i in wh_words if w.startswith(f\"{i}\")]))"
   ]
  },
  {
   "cell_type": "markdown",
   "metadata": {},
   "source": [
    "◑ Create a file consisting of words and (made up) frequencies, where each line consists of a word, the space character, and a positive integer, e.g. fuzzy 53. Read the file into a Python list using open(filename).readlines(). Next, break each line into its two fields using split(), and convert the number into an integer using int(). The result should be a list of the form: [['fuzzy', 53], ...]."
   ]
  },
  {
   "cell_type": "code",
   "execution_count": 25,
   "metadata": {},
   "outputs": [
    {
     "data": {
      "text/plain": [
       "[['Raziye', '22'],\n",
       " ['Hanife', '23'],\n",
       " ['Aylin', '18'],\n",
       " ['Anne', '44'],\n",
       " ['Cihad', '29'],\n",
       " ['Muhammed', '7'],\n",
       " ['Abdullah', '4']]"
      ]
     },
     "execution_count": 25,
     "metadata": {},
     "output_type": "execute_result"
    }
   ],
   "source": [
    "l = []\n",
    "lines = open(\"freqs.py\").readlines()\n",
    "for line in lines:\n",
    "    l.append(line.split())\n",
    "l"
   ]
  },
  {
   "cell_type": "markdown",
   "metadata": {},
   "source": [
    "◑ Write code to access a favorite webpage and extract some text from it. For example, access a weather site and extract the forecast top temperature for your town or city today."
   ]
  },
  {
   "cell_type": "code",
   "execution_count": 20,
   "metadata": {},
   "outputs": [],
   "source": [
    "from bs4 import BeautifulSoup as bs \n",
    "import requests \n",
    "URL = \"https://idp.uni-heidelberg.de/idp/profile/SAML2/POST/SSO?execution=e2s1\" "
   ]
  },
  {
   "cell_type": "code",
   "execution_count": 22,
   "metadata": {},
   "outputs": [
    {
     "name": "stdout",
     "output_type": "stream",
     "text": [
      "200\n"
     ]
    }
   ],
   "source": [
    "payload = { \n",
    "\t\"uname\": \"ea226\", \n",
    "\t\"pass\": \"Eislaun-22\" \n",
    "} \n",
    "s = requests.session() \n",
    "response = s.post(URL, data=payload) \n",
    "print(response.status_code) # If the request went Ok we usually get a 200 status. "
   ]
  },
  {
   "cell_type": "code",
   "execution_count": null,
   "metadata": {},
   "outputs": [],
   "source": []
  },
  {
   "cell_type": "code",
   "execution_count": 23,
   "metadata": {},
   "outputs": [],
   "source": [
    "#print(tokens.index(\"13\")) # Search with indexing\n",
    "\n",
    "def get_seerah():\n",
    "    \"\"\"Returns forecast top temperature today for city\n",
    "    Params: tokens: list - the token range for html\n",
    "    Returns None\n",
    "    \"\"\"\n",
    "    url = \"http://link.springer.com/article/10.1007/s12181-008-0087-8\"\n",
    "    html = request.urlopen(url).read().decode(\"utf8\")\n",
    "    raw = BeautifulSoup(html, \"html.parser\").get_text()\n",
    "    tokens = word_tokenize(raw)\n",
    "    tokens = \" \".join(tokens)\n",
    "    return tokens"
   ]
  },
  {
   "cell_type": "code",
   "execution_count": 24,
   "metadata": {},
   "outputs": [
    {
     "data": {
      "text/plain": [
       "'Kardiale Sarkoidose | Die Kardiologie Skip to main content Log in Menu Find a journal Publish with us Search Cart Home Der Kardiologe Article Kardiale SarkoidoseCardiac sarcoidosis CME Weiterbildung • Zertifizierte Fortbildung Published : 20 July 2008 volume 2 , pages 299–311 ( 2008 ) Der Kardiologe Aims and scope S. Pabst1 , I. Tuleta1 & C. Grohé1 538 Accesses 2 Citations Explore all metrics Cite this article ZusammenfassungDie Sarkoidose ist eine systemisch granulomatöse Erkrankung ungeklärter Ätiologie , die histologisch durch nicht verkäsende Granulome charakterisiert ist . Zu den Prädilektionsorganen gehören Hiluslymphknoten , Lunge , Auge und Haut . Allerdings können auch andere Organe wie Herz , Leber , Milz , Knochen , Muskeln und nichtpulmonale Lymphknoten betroffen sein . Eine kardiale Beteiligung ist relativ selten , verschlechtert die Prognose jedoch deutlich . Die häufigsten klinischen Manifestationen einer kardialen Sarkoidose umfassen neben einer Herzinsuffizienz ventrikuläre Arrhythmien . Auch Fälle von einem plötzlichen Herztod sind bekannt . Das Fehlen einer klinischen Symptomatik schließt eine kardiale Manifestation der Sarkoidose nicht aus , da die meisten Fälle erst post mortem erkannt werden . Die Diagnose basiert auf einer Reihe von Untersuchungen wie Elektrokardiographie , Echokardiographie , nuklearmedizinischen Untersuchungen , Magnetresonanztomographie , Koronarangiographie , endomyokardialer Biopsie und elektrophysiologischen Untersuchungen . Häufig sind die Befunde nicht zielführend , und erst das Ansprechen auf eine gezielte Therapie ist die einzige Bestätigung der Verdachtsdiagnose . Zu den therapeutischen Optionen zählen eine medikamentöse Behandlung mit Immunsuppressiva und eine spezifische kardiale Medikation sowie eine Schrittmacher- oder Defibrillatorimplantation . Bei Versagen dieser Therapieformen ist die Herztransplantation als Ultima Ratio eine Option . AbstractSarcoidosis is a systemic granulomatous disease of unknown etiology that is histologically characterised by non-caseating granulomas . Hilar lymph nodes , lung , eyes and skin are the organs most commonly affected , although the heart , liver , spleen and bones may also be involved . Cardiac involvement is relatively rare and is associated with a poor prognosis . In addition to clinically manifest heart failure , the most common clinical manifestations are arrhythmias and sudden cardiac death . The absence of clinical symptoms does not rule out cardiac sarcoidosis , because most cases are detected as late as at necropsy . The diagnosis is based on a series of diagnostic approaches , such as electrocardiography , echocardiography , radionuclide imaging , magnetic resonance imaging , coronary angiography , endomyocardial biopsy and electrophysiological testing . However , the test results often do not allow the diagnosis to be made , and response to therapy is the only confirmation of the anticipated diagnosis . Various therapeutic modalities include treatment with immunosuppressive agents and specific cardiac medication , and implantation of a pacemaker or an implantable cardioverter defibrillator . If these methods fail to succeed , heart transplantation remains the therapy of choice . This is a preview of subscription content , log in via an institution to check access . Access this article Log in via an institution Buy article PDF 39,95 € Price includes VAT ( Germany ) Instant access to the full article PDF . Rent this article via DeepDyve Institutional subscriptions Abb . 1Abb . 2Abb . 3Abb . 4 LiteraturBernstein M , Konselmann FW , Sidlick DM ( 1929 ) Boeck ’ s sarcoid . Arch Intern Med 44 : 721–734 Google Scholar Iwai K , Sekiguti M , Hosoda Y et al . ( 1994 ) Racial difference in cardiac sarcoidosis incidence observed at autopsy . Sarcoidosis 11 : 26–31PubMed CAS Google Scholar Smedema JP , Snoep G , van Kroonenburgh MP et al . ( 2005 ) Cardiac involvement in patients with pulmonary sarcoidosis assessed at two university medical centers in the Netherlands . Chest 128 : 30–35Article PubMed Google Scholar Nelson JE , Kirschner PA , Teirstein AS . Sarcoidosis presenting as heart disease . Sarcoidosis Vasc Diffuse Lung Dis 1996 ; 13:178–182 . Google Scholar Reuhl J , Schneider M , Sievert H et al . ( 1997 ) Myocardial sarcoidosis as a rare cause of sudden cardiac death . Forensic Sci Int 89 : 145–153Article PubMed CAS Google Scholar James DG , Wiliams WJ ( 1985 ) Epidemiology . In : James DG , Wiliams WJ ( eds ) Sarcoidosis and other granuloatous disorders . WB Saunders Co. , Philadelphia , pp 233–246Bauer HJ , Lofgren S ( 1964 ) International study of pulmonary sarcoidosis in mass chest radiography . Acta Medica Scand 425 : 103–109CAS Google Scholar James DG , Brett GZ ( 1964 ) Prevalence of intrathoracic sarcoidosis in Britain . Acta Medica Scand 425 ( Suppl ) : 115–117CAS Google Scholar Iwai K , Tachibana T , Takemura T et al . ( 1993 ) Pathological studies on sarcoidosis autopsy . I. Epidemiological features of 320 cases in Japan . Acta Pathol Jpn 43 : 372–376PubMed CAS Google Scholar Reid JD ( 1998 ) Sarcoidosis in coroner ’ s autopsies : a critical evaluation of diagnosis and prevalence from Cuyahoga County , Ohio . Sarcoidosis Vasc Diffuse Lung Dis 15 : 44-51PubMed CAS Google Scholar Pollak B ( 1964 ) Epidemiology of sarcoidosis in Canada . Acta Med Scand Suppl 425 : 145PubMed CAS Google Scholar Hagerstrand I , Linell F ( 1964 ) The prevalence of sarcoidosis in the autopsy material from a Swedish town . Acta Med Scand Suppl 425 : 171–174PubMed CAS Google Scholar Kitaichi M ( 1998 ) Prevalence of sarcoidosis around the world . Sarcoidosis Vasc Diffuse Lung Dis 15 : 16–18PubMed CAS Google Scholar Baughman RP , Teirstein AS , Judson MA et al . ( 2001 ) Clinical characteristics of patients in a case control study of sarcoidosis . Am J Respir Crit Care Med 164 : 1885–1859PubMed CAS Google Scholar Silverman KJ , Hutchins GM , Bulkley BH ( 1978 ) Cardiac sarcoid : a clinicopathologic study of 84 unselected patients with systemic sarcoidosis . Circulation 5 : 1204–1211 Google Scholar Iwai K , Tachibana T , Hosoda Y , Matsui Y ( 1988 ) Sarcoidosis autopsies in Japan . Frequency and trend in the last 28 years . Sarcoidosis 5 : 60–65PubMed CAS Google Scholar Takemura T , Matsui Y , Saiki S , Mikami R ( 1992 ) Pulmonary vascular involvement in sarcoidosis : a report of 40 autopsy cases . Hum Pathol 23 : 1216–1223Article PubMed CAS Google Scholar Perry A , Vuitch F ( 1995 ) Causes of death in patients with sarcoidosis . A morphologic study of 38 autopsies with clinicopathologic correlations . Arch Pathol Lab Med 119 : 167–172PubMed CAS Google Scholar Gideon NM , Mannino DM ( 1996 ) Sarcoidosis mortality in the United States 1979–1991 : an analysis of multiple-cause mortality data . Am J Med 100 : 423–427Article PubMed CAS Google Scholar Baughman RP , Winget DB , Bowen EH , Lower EE ( 1997 ) Predicting respiratory failure in sarcoidosis patients . Sarcoidosis Vasc Diffuse Lung Dis 14 : 154–158PubMed CAS Google Scholar 21 . Schoppet M , Pankuweit S , Maisch B ( 2003 ) Cardiac sarcoidosis : cytokine patterns in the course of the disease . Arch Pathol Lab Med 127 : 1207–1210PubMed Google Scholar Roberts WC , McAllister HA Jr , Ferrans VJ ( 1977 ) Sarcoidosis of the heart . A clinicopathologic study of 35 necropsy patients ( group 1 ) and review of 78 previously described necropsy patients ( group 11 ) . Am J Med 63 : 86–108Article PubMed CAS Google Scholar Butany J , Bahl NE , Morales K et al . ( 2006 ) The intricacies of cardiac sarcoidosis : a case report involving the coronary arteries and a review of the literature . Cardiovasc Pathol 15 : 222–227Article PubMed Google Scholar Jain A , Starek PJ , Delany DL ( 1990 ) Ventricular tachycardia and ventricular aneurysm due to unrecognized sarcoidosis . Clin Cardiol 13 : 738–740Article PubMed CAS Google Scholar Zoneraich S , Gupta MP , Mehta J et al . ( 1974 ) Myocardial sarcoidosis presenting as acute mitral insufficiency . Chest 66 : 452–454Article PubMed CAS Google Scholar Cross B , Nicolarsen J , Bullock J et al . ( 2007 ) Cardiac sarcoidosis presenting as mitral regurgitation . J Am Soc Echocardiogr 20 : 906.e9–13PubMed Google Scholar Yoshida Y , Morimoto S , Hiramitsu S et al . ( 1997 ) Incidence of cardiac sarcoidosis in Japanese patients with high-degree atrioventricular block . Am Heart J 134 : 382–386Article PubMed CAS Google Scholar Stein E , Jackler I , Stimmel B et al . ( 1973 ) Asymptomatic electrocardiographic alterations in sarcoidosis . Am Heart J 86 : 474–477Article PubMed CAS Google Scholar Porter GH ( 1952 ) Sarcoid heart disease . N Engl J Med 263 : 1350–1357 Google Scholar Fleming HA , Bailey SM ( 1986 ) The prognosis of sarcoid heart disease in the United Kingdom . Ann N Y Acad Sci 465 : 543–550Article PubMed CAS Google Scholar Yazaki Y , Isobe M , Hiroe M et al . ( 2001 ) Prognostic determinants of long-term survival in Japanese patients with cardiac sarcoidosis treated with prednisone . Am J Cardiol 88 : 1006–1010Article PubMed CAS Google Scholar Yazaki Y , Isobe M , Hiramitsu S et al . ( 1998 ) Comparison of clinical features and prognosis of cardiac sarcoidosis and idiopathic dilated cardiomyopathy . Am J Cardiol 82 : 537–540Article PubMed CAS Google Scholar Kinney E , Murthy R , Ascunce G et al . ( 1979 ) Pericardial effusions in sarcoidosis . Chest 76 : 476–478Article PubMed CAS Google Scholar Garrett J , O ’ Neill H , Blake S ( 1984 ) Constrictive pericarditis associated with sarcoidosis . Am Heart J 107 : 394Article PubMed CAS Google Scholar Verkleeren JL , Glover MU , Bloor C , Joswig BC ( 1983 ) Cardiac tamponade secondary to sarcoidosis . Am Heart J 106 : 601–603Article PubMed CAS Google Scholar Sekiguchi M , Yazaki Y , Isobe M , Hiroe M ( 1996 ) Cardiac sarcoidosis : diagnostic , prognostic , and therapeutic considerations . Cardiovasc Drugs Ther 10 : 495–510Article PubMed CAS Google Scholar Padilla ML ( 2006 ) Cardiac sarcoidosis . In : Baughman RP ( ed ) Sarcoidosis . Taylor & Francis , New York , pp 515–551Suzuki T , Kanda T , Kubota S et al . ( 1994 ) Holter monitoring as a noninvasive indicator of cardiac involvement in sarcoidosis . Chest 106 : 1021–1024Article PubMed CAS Google Scholar Lewin RF , Mor R , Spitzer S et al . ( 1985 ) Echocardiographic evaluation of patients with systemic sarcoidosis . Am Heart J 110 : 116–122Article PubMed CAS Google Scholar Smedema JP , Snoep G , van Kroonenburgh MP et al . ( 2005 ) The additional value of gadolinium-enhanced MRI to standard assessment for cardiac involvement in patients with pulmonary sarcoidosis . Chest 128 : 1629–1637Article PubMed Google Scholar Shimada T , Shimada K , Sakane T et al . ( 2001 ) Diagnosis of cardiac sarcoidosis and evaluation of the effects of steroid therapy by gadolinium-DTPA-enhanced magnetic resonance imaging . Am J Med 110 : 520–527Article PubMed CAS Google Scholar Vignaux O , Dhote R , Duboc D et al . ( 2002 ) Detection of myocardial involvement in patients with sarcoidosis applying T2-weighted , contrast-enhanced , and cine magnetic resonance imaging : initial results of a prospective study . J Comput Assist Tomogr 26 : 762–767Article PubMed Google Scholar Vignaux O , Dhote R , Duboc D et al . ( 2002 ) Clinical significance of myocardial magnetic resonance abnormalities in patients with sarcoidosis : a 1-year follow-up study . Chest 122 : 1895–1901Article PubMed Google Scholar Borchert B , Lawrenz T , Bartelsmeier M et al . ( 2007 ) Utility of endomyocardial biopsy guided by delayed enhancement areas on magnetic resonance imaging in the diagnosis of cardiac sarcoidosis . Clin Res Cardiol 96 : 759–762Article PubMed CAS Google Scholar Haywood LJ , Sharma OP , Siegel ME et al . ( 1982 ) Detection of myocardial sarcoidosis by thallium 201 imaging . J Natl Med Assoc 74 : 959–964PubMed CAS Google Scholar Mañá J ( 1997 ) Nuclear imaging . 67Gallium , 201thallium , 18F-labeled fluoro-2-deoxy-D-glucose positron emission tomography . Clin Chest Med 18 : 799–811Article PubMed Google Scholar Sharma OP ( 2008 ) Cardiac sarcoidosis . http : //www.UpToDate.comOkayama K , Kurata C , Tawarahara K et al . ( 1995 ) Diagnostic and prognostic value of myocardial scintigraphy with thallium-201 and gallium-67 in cardiac sarcoidosis . Chest 107 : 330–334Article PubMed CAS Google Scholar Ishimaru S , Tsujino I , Takei T et al . ( 2005 ) Focal uptake on 18F-fluoro-2-deoxyglucose positron emission tomography images indicates cardiac involvement of sarcoidosis . Eur Heart J 26 : 1538–1543Article PubMed Google Scholar Krüger S , Pauls S , Mottaghy FM et al . ( 2007 ) Cardiac sarcoidosis with 3rd degree AV block by means of integrated PET-CT Pneumologie 61 : 363–364Ratner SJ , Fenoglio JJ Jr , Ursell PC ( 1986 ) Utility of endomyocardial biopsy in the diagnosis of cardiac sarcoidosis . Chest 90 : 528–533Article PubMed CAS Google Scholar Uemura A , Morimoto S , Hiramitsu S et al . ( 1999 ) Histologic diagnostic rate of cardiac sarcoidosis : evaluation of endomyocardial biopsies . Am Heart J 138 : 299–302Article PubMed CAS Google Scholar Sekiguchi M , Numao Y , Imai M et al . ( 1980 ) Clinical and histopathological profile of sarcoidosis of the heart and acute idiopathic myocarditis . Concepts through a study employing endomyocardial biopsy . I. Sarcoidosis . Jpn Circ J 44 : 249–263PubMed CAS Google Scholar Baughman RP , Sharma OP , Lynch JP 3rd ( 1998 ) Sarcoidosis : is therapy effective ? Semin Respir Infect 13 : 255–273PubMed CAS Google Scholar Stein E , Stimmel B , Siltzbach LE ( 1976 ) Clinical course of cardiac sarcoidosis . Ann N Y Acad Sci 278 : 470–477Article PubMed CAS Google Scholar Kinney E , Murthy R , Ascunce G et al . ( 1979 ) Pericardial effusions in sarcoidosis . Chest 76 : 476–478Article PubMed CAS Google Scholar Ishikawa T , Kondoh H , Nakagawa S et al . ( 1984 ) Steroid therapy in cardiac sarcoidosis . Increased left ventricular contractility concomitant with electrocardiographic improvement after prednisolone . Chest 85 : 445–447Article PubMed CAS Google Scholar Sharma OP , Maheshwari A , Thaker K ( 1993 ) Myocardial sarcoidosis . Chest 103 : 253–258Article PubMed CAS Google Scholar Newman LS , Rose CS , Maier LA ( 1997 ) Sarcoidosis . N Engl J Med 336 : 1224–1234Article PubMed CAS Google Scholar Grutters JC , van den Bosch JM ( 2006 ) Corticosteroid treatment in sarcoidosis . Eur Respir J 28 : 627–636Article PubMed CAS Google Scholar Statement on sarcoidosis . Joint Statement of the American Thoracic Society ( ATS ) , the European Respiratory Society ( ERS ) and the World Association of Sarcoidosis and Other Granulomatous Disorders ( WASOG ) adopted by the ATS Board of Directors and by the ERS Executive Committee , February 1999 . Am J Respir Crit Care Med 1999 ; 160 : 736–755 Google Scholar Shabetai R ( 2000 ) Sarcoidosis and the heart . Curr Treat Options Cardiovasc Med 2 : 385–398Article PubMed Google Scholar Doughan AR , Williams BR ( 2006 ) Cardiac sarcoidosis . Heart 92 : 282–288Article PubMed Google Scholar Paramothayan S , Lasserson TJ , Walters EH ( 2006 ) Immunosuppressive and cytotoxic therapy for pulmonary sarcoidosis . Cochrane Database Syst Rev . 3 : CD003536Lacher MJ ( 1968 ) Spontaneous remission or response to methotrexate in sarcoidosis . Ann Intern Med 69 : 1247–1248PubMed CAS Google Scholar Israel HL , McComb BL ( 1991 ) Chlorambucil treatment of sarcoidosis . Sarcoidosis 8 : 35–41PubMed CAS Google Scholar Majithia V , Sanders S , Harisdangkul V , Wilson JG ( 2003 ) Successful treatment of sarcoidosis with leflunomide . Rheumatology ( Oxford ) 42 : 700–702 Google Scholar Müller-Quernheim J , Kienast K , Held M et al . ( 1999 ) Treatment of chronic sarcoidosis with an azathioprine/prednisolone regimen . Eur Respir J 14 : 1117–1722Article PubMed Google Scholar Demeter SL ( 1988 ) Myocardial sarcoidosis unresponsive to steroids . Treatment with cyclophosphamide . Chest 94 : 202–203Article PubMed CAS Google Scholar Uthman I , Touma Z , Khoury M ( 2007 ) Cardiac sarcoidosis responding to monotherapy with infliximab . Clin Rheumatol 26 : 2001–2003Article PubMed Google Scholar Baughman RP , Lower EE ( 2002 ) Therapy for extrapulmonary sarcoidosis . Semin Respir Crit Care Med 23 : 589–596Article PubMed Google Scholar Zipes DP , et al ; American College of Cardiology/American Heart Association Task Force ; European Society of Cardiology Committee for Practice Guidelines ; European Heart Rhythm Association and the Heart Rhythm Society ( 2006 ) ACC/AHA/ESC 2006 guidelines for management of patients with ventricular arrhythmias and the prevention of sudden cardiac death – executive summary . Eur Heart J 27 : 2099–2140Article PubMed Google Scholar Aizer A , Stern EH , Gomes JA et al . ( 2005 ) Usefulness of programmed ventricular stimulation in predicting future arrhythmic events in patients with cardiac sarcoidosis . Am J Cardiol 96 : 276–282Article PubMed Google Scholar Daimon M , Sasaki T , Woo E et al . ( 2007 ) Successful surgical treatment for dilated cardiomyopathy with cardiac sarcoidosis . Ann Thorac Surg 84 : 12–13Article Google Scholar Lull RJ , Dunn BE , Gregoratos G et al . ( 1972 ) Ventricular aneurysm due to cardiac sarcoidosis with surgical cure of refractory ventricular tachycardia . Am J Cardiol 30 : 282–287Article PubMed CAS Google Scholar Valantine HA , Tazelaar HD , Macoviak J et al . ( 1987 ) Cardiac sarcoidosis : response to steroids and transplantation . J Heart Transplant 6 : 244–250PubMed CAS Google Scholar Zaidi AR , Zaidi A , Vaitkus PT ( 2007 ) Outcome of heart transplantation in patients with sarcoid cardiomyopathy . J Heart Lung Transplant 26 : 714–717Article PubMed Google Scholar Oni AA , Hershberger RE , Norman DJ et al . ( 1992 ) Recurrence of sarcoidosis in a cardiac allograft : control with augmented corticosteroids . J Heart Lung Transplant 11 : 367–369PubMed CAS Google Scholar Strecker T , Zimmermann I , Wiest GH ( 2007 ) Pulmonary and cardiac recurrence of sarcoidosis in a heart transplant recipient . Dtsch Med Wochenschr 132 : 1159–1162 Article PubMed Google Scholar Lieberman J , Nosal A , Schlessner A , Sastre-Foke A ( 1979 ) Serum angiotensin-converting enzyme for diagnosis an therapeutic evaluation of sarcoidosis . Am Rev Respi Dis 120 : 329–335CAS Google Scholar Loddenkemper R , Klopenborg A , Schoinfeld N et al . ( 1998 ) Clinical findings in 715 patients with newly detected pulmonary sarcoidosis-results of a cooperative study in former Western Germany and Switzerland . Sarcoidosis Vasc Diffuse Lung Dis 15 : 178–182PubMed CAS Google Scholar Rothkrantz-Kos S , Dieijen-Visser MP , Mulder PG , Drent M ( 2003 ) Potential usefulness of inflammatory markers to monitor respiratory functional impairment in sarcoidosis . Clin Chem 49 : 1510–1517Article PubMed CAS Google Scholar Pinkston P , Bitterman PB , Crystal RG ( 1983 ) Spontaneous release of interleukin-2 by lung lymphocytes in active pulmonary sarcoidosis . N Engl J Med 308 : 793–800PubMed CAS Google Scholar Download references Interessenkonflikt Der korrespondierende Autor gibt an , dass kein Interessenkonflikt besteht . Author informationAuthors and AffiliationsMedizinische Klinik II , Rhein . Friedrich Wilhelms Universität Bonn , Universitätsklinikum Bonn , Sigmund-Freud-Straße 25 , 53105 , Bonn , Deutschland S. Pabst , I. Tuleta & C. GrohéAuthors S. PabstView author publicationsYou can also search for this author in PubMed Google ScholarI . TuletaView author publicationsYou can also search for this author in PubMed Google ScholarC . GrohéView author publicationsYou can also search for this author in PubMed Google ScholarCorresponding authorCorrespondence to S. Pabst.Rights and permissionsReprints and PermissionsAbout this articleCite this articlePabst , S. , Tuleta , I . & Grohé , C. Kardiale Sarkoidose . Kardiologe 2 , 299–311 ( 2008 ) . https : //doi.org/10.1007/s12181-008-0087-8Download citationPublished : 20 July 2008Issue Date : August 2008DOI : https : //doi.org/10.1007/s12181-008-0087-8Share this articleAnyone you share the following link with will be able to read this content : Get shareable linkSorry , a shareable link is not currently available for this article.Copy to clipboard Provided by the Springer Nature SharedIt content-sharing initiative SchlüsselwörterKardiale SarkoidoseHerzrhythmusstörungenImmunsuppressionHerzinsuffizienzPlötzlicher HerztodKeywordsCardiac sarcoidosisCardiac arrhythmiasImmunosuppressionHeart failureSudden cardiac death Access this article Log in via an institution Buy article PDF 39,95 € Price includes VAT ( Germany ) Instant access to the full article PDF . Rent this article via DeepDyve Institutional subscriptions Advertisement Search Search by keyword or author Search Navigation Find a journal Publish with us Discover content Journals A-Z Books A-Z Publish with us Publish your research Open access publishing Products and services Our products Librarians Societies Partners and advertisers Our imprints Springer Nature Portfolio BMC Palgrave Macmillan Apress Your privacy choices/Manage cookies Your US state privacy rights Accessibility statement Terms and conditions Privacy policy Help and support 87.184.100.122 Not affiliated © 2023 Springer Nature'"
      ]
     },
     "execution_count": 24,
     "metadata": {},
     "output_type": "execute_result"
    }
   ],
   "source": [
    "get_seerah()"
   ]
  },
  {
   "cell_type": "markdown",
   "metadata": {},
   "source": [
    "◑ Write a function unknown() that takes a URL as its argument, and returns a list of unknown words that occur on that webpage. In order to do this, extract all substrings consisting of lowercase letters (using re.findall()) and remove any items from this set that occur in the Words Corpus (nltk.corpus.words). Try to categorize these words manually and discuss your findings."
   ]
  },
  {
   "cell_type": "code",
   "execution_count": null,
   "metadata": {},
   "outputs": [],
   "source": [
    "def unknown(url) -> list:\n",
    "    html = request.urlopen(url).read().decode(\"utf8\")\n",
    "    raw = BeautifulSoup(html, \"html.parser\").get_text()\n",
    "    tokens = word_tokenize(raw)\n",
    "    lower_w = set([w for w in tokens if re.findall(r\"\\b[a-z]\\w*\", w)])\n",
    "    unknown = [w for w in lower_w if w not in nltk.corpus.words.words(\"en\")]\n",
    "    return unknown"
   ]
  },
  {
   "cell_type": "code",
   "execution_count": null,
   "metadata": {},
   "outputs": [],
   "source": [
    "def categorize(uknown: list):\n",
    "    categories = {\"en_words\":0, \"others\":0}\n",
    "    en_words, others = [], []\n",
    "    en_pattern = r\"\"\"(?x)\n",
    "    ^[a-z]+(?:-?[A-Z]*[a-z]+)*$ #| ^\\b[A-Z]?[a-z]+[\\.A-Z-]\n",
    "    \"\"\"\n",
    "    for w in unknown:\n",
    "        if re.search(en_pattern, w) or re.search(en_pattern, stem(w)):\n",
    "            categories[\"en_words\"]+=1\n",
    "            en_words.append(w)\n",
    "        else:\n",
    "            categories[\"others\"]+=1\n",
    "            others.append(w)\n",
    "    return categories, en_words, others\n",
    "        \n",
    "def stem(word):\n",
    "    regexp = r'^(.*?)(ing|ly|ed|ious|ies|ive|es|s|ment)?$'\n",
    "    stem, suffix = re.findall(regexp, word)[0]\n",
    "    return stem\n"
   ]
  },
  {
   "cell_type": "code",
   "execution_count": null,
   "metadata": {},
   "outputs": [],
   "source": [
    "#unknown = unknown(\"https://www.nltk.org/book/ch03.html\")\n",
    "#categorize(unknown)"
   ]
  },
  {
   "cell_type": "markdown",
   "metadata": {},
   "source": [
    "◑ Examine the results of processing the URL http://news.bbc.co.uk/ using the regular expressions suggested above. You will see that there is still a fair amount of non-textual data there, particularly Javascript commands. You may also find that sentence breaks have not been properly preserved. Define further regular expressions that improve the extraction of text from this web page."
   ]
  },
  {
   "cell_type": "code",
   "execution_count": null,
   "metadata": {},
   "outputs": [],
   "source": [
    "#unknown = unknown(\"http://news.bbc.co.uk/\")"
   ]
  },
  {
   "cell_type": "code",
   "execution_count": null,
   "metadata": {},
   "outputs": [],
   "source": [
    "cats, en, oth = categorize(unknown)"
   ]
  },
  {
   "cell_type": "markdown",
   "metadata": {},
   "source": [
    "◑ Are you able to write a regular expression to tokenize text in such a way that the word don't is tokenized into do and n't? Explain why this regular expression won't work: «n't|\\w+»."
   ]
  },
  {
   "cell_type": "code",
   "execution_count": null,
   "metadata": {},
   "outputs": [],
   "source": [
    "print(re.findall(r\"\\w+|n't\", \"don't\")) # splits only lately at apostrophe\n",
    "# Rather:\n",
    "print(re.findall(r\"^(do)(n't)\", \"don't\"))"
   ]
  },
  {
   "cell_type": "markdown",
   "metadata": {},
   "source": [
    "◑ Try to write code to convert text into hAck3r, using regular expressions and substitution, where e → 3, i → 1, o → 0, l → |, s → 5, . → 5w33t!, ate → 8. Normalize the text to lowercase before converting it. Add more substitutions of your own. Now try to map s to two different values: $ for word-initial s, and 5 for word-internal s."
   ]
  },
  {
   "cell_type": "code",
   "execution_count": null,
   "metadata": {},
   "outputs": [],
   "source": [
    "def convert(word: str) -> str:\n",
    "    rep = {\"a\":\"@\", \"e\":\"3\", \"i\":\"1\", \"o\":\"0\", \"u\":\"∪\", \"l\":\"|\", \"s\":\"5\", \".\":\"5w33t!\", \"ate\":\"8\"}\n",
    "    for k, v in rep.items():\n",
    "        word = word.replace(k, v)\n",
    "    return word"
   ]
  },
  {
   "cell_type": "code",
   "execution_count": null,
   "metadata": {},
   "outputs": [],
   "source": [
    "words = list(br.words(categories=\"science_fiction\"))\n",
    "hacker = [convert(w) for w in words]\n",
    "print(hacker)"
   ]
  },
  {
   "cell_type": "code",
   "execution_count": null,
   "metadata": {},
   "outputs": [],
   "source": [
    "def mapped(word: str) -> str:\n",
    "    if len(re.findall(r\"[a-zA-Z@∪|158]+\", word)) > 0:\n",
    "        word = re.sub(re.escape(word[0]), \"$\", word)\n",
    "        word = re.sub(re.escape(word[1:]), len(word[1:])*\"5\", word)\n",
    "    return word\n",
    "mapped_hacker = map(mapped, hacker)\n",
    "list(mapped_hacker)"
   ]
  },
  {
   "cell_type": "markdown",
   "metadata": {},
   "source": [
    "◑ Pig Latin is a simple transformation of English text. Each word of the text is converted as follows: move any consonant (or consonant cluster) that appears at the start of the word to the end, then append ay, e.g. string → ingstray, idle → idleay. http://en.wikipedia.org/wiki/Pig_Latin  \n",
    "Write a function to convert a word to Pig Latin.  \n",
    "Write code that converts text, instead of individual words.  \n",
    "Extend it further to preserve capitalization, to keep qu together (i.e. so that quiet becomes ietquay), and to detect when y is used as a consonant (e.g. yellow) vs a vowel (e.g. style)."
   ]
  },
  {
   "cell_type": "code",
   "execution_count": null,
   "metadata": {},
   "outputs": [],
   "source": [
    "def pig_latin(word) -> str:\n",
    "    match = re.search(r\"(?<!q)u|[AEIOUaeio]|(?<=[^AEIOUaeiou])y\", word) # Negative - Positive Lookbehind\n",
    "    if match is not None and match.start() > 0:\n",
    "        word += word[:match.start()]\n",
    "        pl_word = word.replace(f\"{word[:match.start()]}\", \"\", 1)\n",
    "        pl_word += \"ay\"\n",
    "        return pl_word\n",
    "    else:\n",
    "        return word"
   ]
  },
  {
   "cell_type": "code",
   "execution_count": null,
   "metadata": {},
   "outputs": [],
   "source": [
    "pig_latin(\"yellow\")"
   ]
  },
  {
   "cell_type": "code",
   "execution_count": null,
   "metadata": {},
   "outputs": [],
   "source": [
    "def pig_latin(text: list) -> list:\n",
    "    pl_text = []\n",
    "    for word in text:\n",
    "        match = re.search(r\"(?<!q)u|[AEIOUaeio]|(?<=[^AEIOUaeiou])y\", word)\n",
    "        if match is not None and match.start() > 0:\n",
    "            word += word[:match.start()]\n",
    "            pl_word = word.replace(f\"{word[:match.start()]}\", \"\", 1)\n",
    "            pl_word += \"ay\"\n",
    "            pl_text.append(pl_word)\n",
    "        else:\n",
    "            pl_text.append(word)\n",
    "    return pl_text"
   ]
  },
  {
   "cell_type": "code",
   "execution_count": null,
   "metadata": {},
   "outputs": [],
   "source": [
    "from nltk.corpus import gutenberg as gt\n",
    "\n",
    "poems = list(gt.words(\"blake-poems.txt\"))\n",
    "pig_latin(poems)"
   ]
  },
  {
   "cell_type": "markdown",
   "metadata": {},
   "source": [
    "◑ Download some text from a language that has vowel harmony (e.g. Hungarian), extract the vowel sequences of words, and create a vowel bigram table."
   ]
  },
  {
   "cell_type": "code",
   "execution_count": null,
   "metadata": {},
   "outputs": [],
   "source": [
    "hung_udhr = nltk.corpus.udhr.words(\"Hungarian_Magyar-Latin1\")\n",
    "vs = [(\"\".join(v).lower(), w) for w in hung_udhr for v in re.findall(r\"([AEIOUÖÜaeiouöü](?=\\w*[aeiouöü]|$))|((?<=[AEIOUÖÜaeiouöü]\\w*)[aeiouöü])\", w)]\n",
    "\n",
    "def pairwise(iterable):\n",
    "    # pairwise('ABCDEFG') --> AB BC CD DE EF FG\n",
    "    a, b = tee(iterable)\n",
    "    next(b, None)\n",
    "    return zip(a, b)\n",
    "\n",
    "vow = []\n",
    "shared = \"\" # shared same word\n",
    "for w in vs:\n",
    "    if shared != w[1]:\n",
    "        vow.append([])\n",
    "        shared = w[1]\n",
    "        vow[-1].append(w[0])\n",
    "    else:\n",
    "        vow[-1].append(w[0])\n",
    "        shared = w[1]  #save current word \n",
    "\n",
    "vv_pairs = [list(pairwise(v)) for v in vow]\n",
    "vvs = [\"\".join(pair) for l in vv_pairs for pair in l]\n",
    "cfd = nltk.ConditionalFreqDist(vvs)\n",
    "cfd.tabulate()"
   ]
  },
  {
   "cell_type": "markdown",
   "metadata": {},
   "source": [
    "◑ Python's random module includes a function choice() which randomly chooses an item from a sequence, e.g. choice(\"aehh \") will produce one of four possible characters, with the letter h being twice as frequent as the others. Write a generator expression that produces a sequence of 500 randomly chosen letters drawn from the string \"aehh \", and put this expression inside a call to the ''.join() function, to concatenate them into one long string. You should get a result that looks like uncontrolled sneezing or maniacal laughter: he haha ee heheeh eha. Use split() and join() again to normalize the whitespace in this string."
   ]
  },
  {
   "cell_type": "code",
   "execution_count": null,
   "metadata": {},
   "outputs": [],
   "source": [
    "laughter = \"\".join(random.choices(\"aehh \", k = 500))\n",
    "\"\".join(laughter.split())"
   ]
  },
  {
   "cell_type": "markdown",
   "metadata": {},
   "source": [
    "◑ Consider the numeric expressions in the following sentence from the MedLine Corpus: The corresponding free cortisol fractions in these sera were 4.53 +/- 0.15% and 8.16 +/- 0.23%, respectively. Should we say that the numeric expression 4.53 +/- 0.15% is three words? Or should we say that it's a single compound word? Or should we say that it is actually nine words, since it's read \"four point five three, plus or minus zero point fifteen percent\"? Or should we say that it's not a \"real\" word at all, since it wouldn't appear in any dictionary? Discuss these different possibilities. Can you think of application domains that motivate at least two of these answers?"
   ]
  },
  {
   "cell_type": "markdown",
   "metadata": {},
   "source": [
    "if its one word → we're not interested in the numbers, only in the actual words, hence dictionary.\n",
    "if it's three words → could have anything to do with statistics.\n",
    "if it's more than that → speech KI"
   ]
  },
  {
   "cell_type": "markdown",
   "metadata": {},
   "source": [
    "◑ Readability measures are used to score the reading difficulty of a text, for the purposes of selecting texts of appropriate difficulty for language learners. Let us define μw to be the average number of letters per word, and μs to be the average number of words per sentence, in a given text. The Automated Readability Index (ARI) of the text is defined to be: 4.71 μw + 0.5 μs - 21.43. Compute the ARI score for various sections of the Brown Corpus, including section f (lore) and j (learned). Make use of the fact that nltk.corpus.brown.words() produces a sequence of words, while nltk.corpus.brown.sents() produces a sequence of sentences."
   ]
  },
  {
   "cell_type": "code",
   "execution_count": null,
   "metadata": {},
   "outputs": [],
   "source": [
    "f, f_s = br.words(categories = \"lore\"), br.sents(categories=\"lore\")\n",
    "j, j_s = br.words(categories = \"learned\"), br.sents(categories=\"learned\")\n",
    "\n",
    "cnt = 0\n",
    "for w in f:\n",
    "    cnt += len(w)\n",
    "fw_avg = round(cnt/len(f), 2)\n",
    "\n",
    "cnt = 0\n",
    "for w in j:\n",
    "    cnt += len(w)\n",
    "jw_avg = round(cnt/len(j), 2)\n",
    "\n",
    "cnt = 0\n",
    "for s in f_s:\n",
    "    cnt += len(s)\n",
    "fs_avg = round(cnt/len(f_s), 2)\n",
    "\n",
    "cnt = 0\n",
    "for s in j_s:\n",
    "    cnt += len(s)\n",
    "js_avg = round(cnt/len(j_s), 2)\n",
    "\n",
    "print(f\"Average word lenght in lore: {fw_avg}, in learned: {jw_avg}\")\n",
    "print(f\"Average sentence lenght in lore: {fs_avg}, in learned: {js_avg} \\n\")\n",
    "\n",
    "print(f\"Reading Difficulty for Lore as Automated Readability Index (ARI): {round(4.71*fw_avg + 0.5*fs_avg -21.43, 2)}\")\n",
    "print(f\"Reading Difficulty for Learned as Automated Readability Index (ARI): {round(4.71*jw_avg + 0.5*js_avg -21.43, 2)}\")"
   ]
  },
  {
   "cell_type": "markdown",
   "metadata": {},
   "source": [
    "◑ Use the Porter Stemmer to normalize some tokenized text, calling the stemmer on each word. Do the same thing with the Lancaster Stemmer and see if you observe any differences."
   ]
  },
  {
   "cell_type": "code",
   "execution_count": null,
   "metadata": {},
   "outputs": [],
   "source": [
    "porter = nltk.PorterStemmer()\n",
    "lancaster = nltk.LancasterStemmer()\n",
    "\n",
    "words = br.words(categories=\"romance\")\n",
    "tokens = word_tokenize(\" \".join(words))\n",
    "\n",
    "p = [porter.stem(t) for t in tokens]\n",
    "l = [lancaster.stem(t) for t in tokens]\n",
    "distinct = list(set(l).symmetric_difference(set(p)))\n"
   ]
  },
  {
   "cell_type": "code",
   "execution_count": null,
   "metadata": {},
   "outputs": [],
   "source": [
    "'inexpressible'.index('re') # gets index of first letter"
   ]
  },
  {
   "cell_type": "markdown",
   "metadata": {},
   "source": [
    "◑ Write code to convert nationality adjectives like Canadian and Australian to their corresponding nouns Canada and Australia (see http://en.wikipedia.org/wiki/List_of_adjectival_forms_of_place_names)."
   ]
  },
  {
   "cell_type": "code",
   "execution_count": null,
   "metadata": {
    "scrolled": false
   },
   "outputs": [],
   "source": [
    "url = \"https://en.wikipedia.org/wiki/List_of_adjectival_and_demonymic_forms_of_place_names\"\n",
    "\n",
    "html = request.urlopen(url).read().decode(\"utf8\")\n",
    "raw = BeautifulSoup(html, \"html.parser\").get_text()\n",
    "tokens = [w for w in set(word_tokenize(raw)) if w.istitle()]\n",
    "\n",
    "def country(adj: str):\n",
    "    \"\"\"Returns the estimated according country name for the adjective\"\"\"\n",
    "    try:\n",
    "        diff = [set(adj).symmetric_difference(set(c)) if c != adj else set(adj).union(set(c)) for c in tokens] \n",
    "        index = diff.index(min(diff, key = lambda x: len(x)))\n",
    "        return tokens[index]\n",
    "    except:\n",
    "        return \"\"\n",
    "        \n",
    "names = [country(adj) for adj in tokens]\n",
    "\n",
    "adjs = [\"Canadian\", \"American\", \"Australian\", \"German\", \"French\"] # doens't work in the other direction\n",
    "\n",
    "for a, c in zip(tokens, names):\n",
    "    if a in adjs:\n",
    "        print(f\"Country: {c} for Adjective: {a} \\n\")"
   ]
  },
  {
   "cell_type": "code",
   "execution_count": null,
   "metadata": {},
   "outputs": [],
   "source": [
    "url = \"http://link.springer.com/article/10.1007/s12181-016-0095-z\"\n",
    "html = request.urlopen(url).read().decode(\"utf8\")\n",
    "raw = BeautifulSoup(html, \"html.parser\").get_text()\n",
    "tokens = [w for w in set(word_tokenize(raw)) if w.istitle()]\n",
    "\n",
    "def country(adj: str):\n",
    "    \"\"\"Returns the estimated according country name for the adjective\"\"\"\n",
    "    try:\n",
    "        diff = [set(adj).symmetric_difference(set(c)) if c != adj else set(adj).union(set(c)) for c in tokens] \n",
    "        index = diff.index(min(diff, key = lambda x: len(x)))\n",
    "        return tokens[index]\n",
    "    except:\n",
    "        return \"\"\n",
    "        \n",
    "names = [country(adj) for adj in tokens]\n",
    "\n",
    "adjs = [\"Canadian\", \"American\", \"Australian\", \"German\", \"French\"] # doens't work in the other direction\n",
    "\n",
    "for a, c in zip(tokens, names):\n",
    "    if a in adjs:\n",
    "        print(f\"Country: {c} for Adjective: {a} \\n\")"
   ]
  },
  {
   "cell_type": "markdown",
   "metadata": {},
   "source": [
    "◑ Read the LanguageLog post on phrases of the form as best as p can and as best p can, where p is a pronoun. Investigate this phenomenon with the help of a corpus and the findall() method for searching tokenized text described in 3.5. http://itre.cis.upenn.edu/~myl/languagelog/archives/002733.html"
   ]
  },
  {
   "cell_type": "markdown",
   "metadata": {},
   "source": [
    "the discussion is about why in the English language we say \"as best as I can\" which we don't say for any other superlative. Let's investigate this in a corpus:"
   ]
  },
  {
   "cell_type": "code",
   "execution_count": null,
   "metadata": {},
   "outputs": [],
   "source": [
    "bw = nltk.Text(br.words())\n",
    "\n",
    "bw.findall(r\"<best> .* <can>\") # phrase is not apparent"
   ]
  },
  {
   "cell_type": "markdown",
   "metadata": {},
   "source": [
    "★ An interesting challenge for tokenization is words that have been split across a line-break. E.g. if long-term is split, then we have the string long-\\nterm.\n",
    "Write a regular expression that identifies words that are hyphenated at a line-break. The expression will need to include the \\n character.\n",
    "Use re.sub() to remove the \\n character from these words.\n",
    "How might you identify words that should not remain hyphenated once the newline is removed, e.g. 'encyclo-\\npedia'?x"
   ]
  },
  {
   "cell_type": "code",
   "execution_count": null,
   "metadata": {},
   "outputs": [],
   "source": [
    "# idea: search for partial words in dictionary, if apparent: split without hypephen\n",
    "text = \"\"\"long-\n",
    "term Encylo-\n",
    "pedia Social-\n",
    "media Party-\n",
    "ing\"\"\"\n",
    "\n",
    "new_t = \"\"\n",
    "\n",
    "for w in text.split(\" \"):\n",
    "    if wn.synsets(f\"{w.partition('-')[0]}\") and wn.synsets(f\"{w.partition('-')[2].lstrip()}\"):\n",
    "        new_t += re.sub(r\"(?<=[A-Za-z]+)-\\n(?=[A-Za-z]+)\", \"-\", w)\n",
    "        new_t += \" \"\n",
    "    else:\n",
    "        new_t += re.sub(r\"(?<=[A-Za-z]+)-\\n(?=[A-Za-z]+)\", \"\", w)\n",
    "        new_t += \" \"\n",
    "        \n",
    "print(f\"Old: {repr(text)} \\n and new: {repr(new_t)}\")\n",
    "    "
   ]
  },
  {
   "cell_type": "markdown",
   "metadata": {},
   "source": [
    "★ Obtain raw texts from two or more genres and compute their respective reading difficulty scores as in the earlier exercise on reading difficulty. E.g. compare ABC Rural News and ABC Science News (nltk.corpus.abc). Use Punkt to perform sentence segmentation."
   ]
  },
  {
   "cell_type": "code",
   "execution_count": null,
   "metadata": {},
   "outputs": [],
   "source": [
    "from nltk.corpus import abc\n",
    "rural = abc.raw(\"rural.txt\")\n",
    "science = abc.raw(\"science.txt\")\n",
    "token_r = nltk.word_tokenize(rural)\n",
    "token_s = nltk.word_tokenize(science)\n",
    "texts = {\"rural\": token_r, \"science\": token_s}\n",
    "\n",
    "def ARI(text):\n",
    "    punct = [\"?\", \"!\", \".\"]\n",
    "\n",
    "    w_cnt, w_len, s_cnt = 0, 0, 0\n",
    "\n",
    "    for w in text:\n",
    "        if w not in punct:\n",
    "            w_cnt += 1\n",
    "            w_len += len(w)\n",
    "        else:\n",
    "            s_cnt += 1\n",
    "\n",
    "    my_s = w_cnt/s_cnt\n",
    "    my_w = w_len/len(token_r)\n",
    "    return my_w, my_s\n",
    "\n",
    "for k, v in texts.items():\n",
    "    my_w, my_s = ARI(v)\n",
    "    print(f\"Reading Difficulty as ARI for ABC {k} news: {round(4.71*my_w + 0.5*my_s -21.43, 2)}\")"
   ]
  },
  {
   "cell_type": "markdown",
   "metadata": {},
   "source": [
    "★ Rewrite the following nested loop as a nested list comprehension:\n",
    " \n",
    "words = ['attribution', 'confabulation', 'elocution','sequoia', 'tenacious', 'unidirectional']  \n",
    "vsequences = set()  \n",
    "for word in words:  \n",
    ">vowels = []  \n",
    ">for char in word:  \n",
    ">>if char in 'aeiou':  \n",
    ">>>vowels.append(char)\n",
    ">\n",
    ">vsequences.add(''.join(vowels))   \n",
    "\n",
    "sorted(vsequences)  \n",
    "['aiuio', 'eaiou', 'eouio', 'euoia', 'oauaio', 'uiieioa']\n",
    "\n"
   ]
  },
  {
   "cell_type": "code",
   "execution_count": null,
   "metadata": {},
   "outputs": [],
   "source": [
    "words = ['attribution', 'confabulation', 'elocution','sequoia', 'tenacious', 'unidirectional']\n",
    "# for each word get its vowels and store in sorted set\n",
    "vseq = [\"\".join([char for char in word if char in \"aeiou\"])for word in words]\n",
    "vseq"
   ]
  },
  {
   "cell_type": "markdown",
   "metadata": {},
   "source": [
    "★ Use WordNet to create a semantic index for a text collection. Extend the concordance search program in 3.6, indexing each word using the offset of its first synset, e.g. wn.synsets('dog')[0].offset (and optionally the offset of some of its ancestors in the hypernym hierarchy)."
   ]
  },
  {
   "cell_type": "code",
   "execution_count": null,
   "metadata": {},
   "outputs": [],
   "source": [
    "class IndexedText(object):\n",
    "\n",
    "    def __init__(self, stemmer, text):\n",
    "        self._text = text\n",
    "        self._stemmer = stemmer\n",
    "        self._index = nltk.Index((self._stem(word), i)\n",
    "                                 for (i, word) in enumerate(text))\n",
    "        try:\n",
    "            self._further_index = nltk.Index((self._offset(word), i) \n",
    "                                 for (i, word) in enumerate(text))\n",
    "        except:\n",
    "            pass\n",
    "\n",
    "    def concordance(self, word, width=40):\n",
    "        key = self._stem(word)\n",
    "        wc = int(width/4)                # words of context\n",
    "        for i in self._index[key]:\n",
    "            lcontext = ' '.join(self._text[i-wc:i])\n",
    "            rcontext = ' '.join(self._text[i:i+wc])\n",
    "            ldisplay = '{:>{width}}'.format(lcontext[-width:], width=width)\n",
    "            rdisplay = '{:{width}}'.format(rcontext[:width], width=width)\n",
    "            print(ldisplay, rdisplay)\n",
    "\n",
    "        try:\n",
    "            hypo = self._offset(word)\n",
    "            for j in self._further_index[hypo]:\n",
    "                lcontext = ' '.join(self._text[j-wc:j])\n",
    "                rcontext = ' '.join(self._text[j:j+wc])\n",
    "                ldisplay = '{:>{width}}'.format(lcontext[-width:], width=width)\n",
    "                rdisplay = '{:{width}}'.format(rcontext[:width], width=width)\n",
    "                print(ldisplay, rdisplay)\n",
    "        except:\n",
    "            pass\n",
    "                \n",
    "    def _stem(self, word):\n",
    "        return self._stemmer.stem(word).lower()\n",
    "    \n",
    "    def _offset(self, word):\n",
    "        try:\n",
    "            hypos = wn.synsets(word)[0].hyponyms()\n",
    "            return [lemma.name() for synset in hypos for lemma in synset.lemmas()][0] # get first hyponym\n",
    "        except:\n",
    "            pass   "
   ]
  },
  {
   "cell_type": "code",
   "execution_count": null,
   "metadata": {},
   "outputs": [],
   "source": [
    "porter = nltk.PorterStemmer()\n",
    "grail = nltk.corpus.webtext.words('grail.txt')\n",
    "text = IndexedText(porter, grail)\n",
    "text.concordance('animal')"
   ]
  },
  {
   "cell_type": "markdown",
   "metadata": {},
   "source": [
    "★ With the help of a multilingual corpus such as the Universal Declaration of Human Rights Corpus (nltk.corpus.udhr), and NLTK's frequency distribution and rank correlation functionality (nltk.FreqDist, nltk.spearman_correlation), develop a system that guesses the language of a previously unseen text. For simplicity, work with a single character encoding and just a few languages."
   ]
  },
  {
   "cell_type": "code",
   "execution_count": null,
   "metadata": {},
   "outputs": [],
   "source": [
    "''' FreqDist for unigrams. Rank Correl. for proportion of unigrams.\n",
    "    1st step: Get numbers(unigrams: set of all chars in words) for each lang from udhr\n",
    "    2nd step: Get numbers from text\n",
    "    3rd step: Compare \n",
    "'''\n",
    "\n",
    "languages = [\"Uighur_Uyghur-Latin1\", \"Trukese_Chuuk-Latin1\", \n",
    "             \"Romani-Latin1\", \"Kurdish-UTF8\", \"Farsi_Persian-UTF8\", \"Albanian_Shqip-Latin1\"]\n",
    " \n",
    "cfd = nltk.ConditionalFreqDist( # FreqDist of single characters in each language\n",
    "            (lang, char)\n",
    "            for lang in languages\n",
    "            for word in udhr.words(lang) \n",
    "            for char in word.lower() if char.isalpha()) # only allow alphabetics\n",
    "\n",
    "def guess(text):\n",
    "    \"\"\"Guesses the language of the given text\"\"\"\n",
    "    \n",
    "    fdist = nltk.FreqDist(char.lower() for w in text for char in w)\n",
    "    d = {\"Unknown\":fdist}\n",
    "    cfd.update(d)\n",
    "\n",
    "    scores = {}\n",
    "    for lang in languages:\n",
    "        scores[lang] = spearman.spearman_correlation(cfd.get(lang), cfd.get(\"Unknown\"))\n",
    "    \n",
    "    print(f\"The guess for the text language is: {max(scores, key = scores.get)}\") "
   ]
  },
  {
   "cell_type": "code",
   "execution_count": null,
   "metadata": {},
   "outputs": [],
   "source": [
    "text = udhr.words(\"Turkish_Turkce-Turkish\") \n",
    "guess(text)"
   ]
  },
  {
   "cell_type": "markdown",
   "metadata": {},
   "source": [
    "★ Write a program that processes a text and discovers cases where a word has been used with a novel sense. For each word, compute the WordNet similarity between all synsets of the word and all synsets of the words in its context. (Note that this is a crude approach; doing it well is a difficult, open research problem.)"
   ]
  },
  {
   "cell_type": "code",
   "execution_count": null,
   "metadata": {},
   "outputs": [],
   "source": [
    "def novelty(text):\n",
    "    novelties = []\n",
    "    oldies = []\n",
    "    sims = {}\n",
    "    for sent in text:\n",
    "        for w in sent:\n",
    "            for s in wn.synsets(w.lower()):\n",
    "                 sims[w] = set([s.path_similarity(x) for j in sent for x in wn.synsets(j.lower()) if j != w]) # no sim to itself\n",
    "    for k, v in sims.items():\n",
    "        n = list(filter(None, v))\n",
    "        if n:\n",
    "            sims[k] = round(max(n), 2) # rather than averaging, taking max value (closest path) seems more intelligible\n",
    "            if sims[k] < 0.09:\n",
    "                novelties.append(k)\n",
    "            elif sims[k] > 0.25:\n",
    "                oldies.append(k)\n",
    "    return set(novelties), set(oldies)"
   ]
  },
  {
   "cell_type": "code",
   "execution_count": null,
   "metadata": {},
   "outputs": [],
   "source": [
    "text = list(br.sents(categories=\"news\"))[:500]\n",
    "novels, olds = novelty(text)\n",
    "print(f\"Approximated novelties: {novels} \\n\\n vs. approximated oldies: {olds}\") # seems arbitrary.."
   ]
  },
  {
   "cell_type": "markdown",
   "metadata": {},
   "source": [
    "★ Read the article on normalization of non-standard words (Sproat et al, 2001), and implement a similar system for text normalization.\n"
   ]
  },
  {
   "cell_type": "markdown",
   "metadata": {},
   "source": [
    "![](normal.png)"
   ]
  },
  {
   "cell_type": "code",
   "execution_count": null,
   "metadata": {},
   "outputs": [],
   "source": []
  }
 ],
 "metadata": {
  "kernelspec": {
   "display_name": "Python 3 (ipykernel)",
   "language": "python",
   "name": "python3"
  },
  "language_info": {
   "codemirror_mode": {
    "name": "ipython",
    "version": 3
   },
   "file_extension": ".py",
   "mimetype": "text/x-python",
   "name": "python",
   "nbconvert_exporter": "python",
   "pygments_lexer": "ipython3",
   "version": "3.11.4"
  }
 },
 "nbformat": 4,
 "nbformat_minor": 4
}
