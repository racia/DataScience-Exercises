{
 "cells": [
  {
   "cell_type": "code",
   "execution_count": 80,
   "id": "0fa72f88",
   "metadata": {},
   "outputs": [
    {
     "data": {
      "text/html": [
       "<div>\n",
       "<style scoped>\n",
       "    .dataframe tbody tr th:only-of-type {\n",
       "        vertical-align: middle;\n",
       "    }\n",
       "\n",
       "    .dataframe tbody tr th {\n",
       "        vertical-align: top;\n",
       "    }\n",
       "\n",
       "    .dataframe thead th {\n",
       "        text-align: right;\n",
       "    }\n",
       "</style>\n",
       "<table border=\"1\" class=\"dataframe\">\n",
       "  <thead>\n",
       "    <tr style=\"text-align: right;\">\n",
       "      <th></th>\n",
       "      <th>A</th>\n",
       "      <th>B</th>\n",
       "    </tr>\n",
       "    <tr>\n",
       "      <th>A</th>\n",
       "      <th></th>\n",
       "      <th></th>\n",
       "    </tr>\n",
       "  </thead>\n",
       "  <tbody>\n",
       "    <tr>\n",
       "      <th>10.0</th>\n",
       "      <td>533</td>\n",
       "      <td>533</td>\n",
       "    </tr>\n",
       "    <tr>\n",
       "      <th>20.0</th>\n",
       "      <td>993</td>\n",
       "      <td>993</td>\n",
       "    </tr>\n",
       "    <tr>\n",
       "      <th>30.0</th>\n",
       "      <td>1003</td>\n",
       "      <td>1003</td>\n",
       "    </tr>\n",
       "    <tr>\n",
       "      <th>40.0</th>\n",
       "      <td>1023</td>\n",
       "      <td>1023</td>\n",
       "    </tr>\n",
       "    <tr>\n",
       "      <th>50.0</th>\n",
       "      <td>983</td>\n",
       "      <td>983</td>\n",
       "    </tr>\n",
       "    <tr>\n",
       "      <th>...</th>\n",
       "      <td>...</td>\n",
       "      <td>...</td>\n",
       "    </tr>\n",
       "    <tr>\n",
       "      <th>960.0</th>\n",
       "      <td>1011</td>\n",
       "      <td>1011</td>\n",
       "    </tr>\n",
       "    <tr>\n",
       "      <th>970.0</th>\n",
       "      <td>1007</td>\n",
       "      <td>1007</td>\n",
       "    </tr>\n",
       "    <tr>\n",
       "      <th>980.0</th>\n",
       "      <td>979</td>\n",
       "      <td>979</td>\n",
       "    </tr>\n",
       "    <tr>\n",
       "      <th>990.0</th>\n",
       "      <td>960</td>\n",
       "      <td>960</td>\n",
       "    </tr>\n",
       "    <tr>\n",
       "      <th>1000.0</th>\n",
       "      <td>503</td>\n",
       "      <td>503</td>\n",
       "    </tr>\n",
       "  </tbody>\n",
       "</table>\n",
       "<p>100 rows × 2 columns</p>\n",
       "</div>"
      ],
      "text/plain": [
       "           A     B\n",
       "A                 \n",
       "10.0     533   533\n",
       "20.0     993   993\n",
       "30.0    1003  1003\n",
       "40.0    1023  1023\n",
       "50.0     983   983\n",
       "...      ...   ...\n",
       "960.0   1011  1011\n",
       "970.0   1007  1007\n",
       "980.0    979   979\n",
       "990.0    960   960\n",
       "1000.0   503   503\n",
       "\n",
       "[100 rows x 2 columns]"
      ]
     },
     "execution_count": 80,
     "metadata": {},
     "output_type": "execute_result"
    }
   ],
   "source": [
    "import pandas as pd\n",
    "from random import uniform\n",
    "df = pd.DataFrame({'A' : map(lambda x: uniform(10, 1000), range(100000)), 'B': map(lambda x: uniform(1, 100), range(100000))})\n",
    "df.groupby(df['A'].apply(lambda x: round(x, -1))).count()"
   ]
  },
  {
   "cell_type": "code",
   "execution_count": 81,
   "id": "70eee0de",
   "metadata": {},
   "outputs": [
    {
     "data": {
      "text/plain": [
       "[(9.01, 340.0], (9.01, 340.0], (9.01, 340.0], (9.01, 340.0], (9.01, 340.0], ..., (670.0, 1000.0], (670.0, 1000.0], (670.0, 1000.0], (670.0, 1000.0], (670.0, 1000.0]]\n",
       "Length: 100\n",
       "Categories (3, interval[float64, right]): [(9.01, 340.0] < (340.0, 670.0] < (670.0, 1000.0]]"
      ]
     },
     "execution_count": 81,
     "metadata": {},
     "output_type": "execute_result"
    }
   ],
   "source": [
    "pd.cut(df.groupby(df['A'].apply(lambda x: round(x, -1))).apply(list).keys(), 3)"
   ]
  },
  {
   "cell_type": "code",
   "execution_count": null,
   "id": "0fe22ac9",
   "metadata": {},
   "outputs": [],
   "source": []
  }
 ],
 "metadata": {
  "kernelspec": {
   "display_name": "myenv",
   "language": "python",
   "name": "myenv"
  },
  "language_info": {
   "codemirror_mode": {
    "name": "ipython",
    "version": 3
   },
   "file_extension": ".py",
   "mimetype": "text/x-python",
   "name": "python",
   "nbconvert_exporter": "python",
   "pygments_lexer": "ipython3",
   "version": "3.11.2"
  }
 },
 "nbformat": 4,
 "nbformat_minor": 5
}
